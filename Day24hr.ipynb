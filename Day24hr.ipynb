{
 "cells": [
  {
   "cell_type": "code",
   "execution_count": 15,
   "metadata": {
    "collapsed": true
   },
   "outputs": [],
   "source": [
    "import pandas as pd\n",
    "import numpy as np\n",
    "import matplotlib as plt\n",
    "%matplotlib inline"
   ]
  },
  {
   "cell_type": "code",
   "execution_count": 3,
   "metadata": {
    "collapsed": false
   },
   "outputs": [],
   "source": [
    "df = pd.read_csv('NursingData_clean.csv')"
   ]
  },
  {
   "cell_type": "code",
   "execution_count": 4,
   "metadata": {
    "collapsed": false
   },
   "outputs": [
    {
     "data": {
      "text/html": [
       "<div>\n",
       "<table border=\"1\" class=\"dataframe\">\n",
       "  <thead>\n",
       "    <tr style=\"text-align: right;\">\n",
       "      <th></th>\n",
       "      <th>Unnamed: 0</th>\n",
       "      <th>time</th>\n",
       "      <th>Year</th>\n",
       "      <th>Month</th>\n",
       "      <th>TimeofDay</th>\n",
       "      <th>LeftFeed</th>\n",
       "      <th>RightFeed</th>\n",
       "      <th>BotFeed</th>\n",
       "      <th>TotalFeed</th>\n",
       "      <th>BotAmt</th>\n",
       "      <th>Sleep</th>\n",
       "    </tr>\n",
       "  </thead>\n",
       "  <tbody>\n",
       "    <tr>\n",
       "      <th>0</th>\n",
       "      <td>0</td>\n",
       "      <td>2015-06-21 01:17:09</td>\n",
       "      <td>2015</td>\n",
       "      <td>6</td>\n",
       "      <td>Late night</td>\n",
       "      <td>0.00</td>\n",
       "      <td>1.3</td>\n",
       "      <td>0</td>\n",
       "      <td>1.30</td>\n",
       "      <td>NaN</td>\n",
       "      <td>NaN</td>\n",
       "    </tr>\n",
       "    <tr>\n",
       "      <th>1</th>\n",
       "      <td>1</td>\n",
       "      <td>2015-06-21 02:00:39</td>\n",
       "      <td>2015</td>\n",
       "      <td>6</td>\n",
       "      <td>Late night</td>\n",
       "      <td>7.52</td>\n",
       "      <td>0.0</td>\n",
       "      <td>0</td>\n",
       "      <td>7.52</td>\n",
       "      <td>NaN</td>\n",
       "      <td>NaN</td>\n",
       "    </tr>\n",
       "    <tr>\n",
       "      <th>2</th>\n",
       "      <td>2</td>\n",
       "      <td>2015-06-21 02:37:57</td>\n",
       "      <td>2015</td>\n",
       "      <td>6</td>\n",
       "      <td>Late night</td>\n",
       "      <td>14.50</td>\n",
       "      <td>0.0</td>\n",
       "      <td>0</td>\n",
       "      <td>14.50</td>\n",
       "      <td>NaN</td>\n",
       "      <td>NaN</td>\n",
       "    </tr>\n",
       "    <tr>\n",
       "      <th>3</th>\n",
       "      <td>3</td>\n",
       "      <td>2015-06-21 05:23:55</td>\n",
       "      <td>2015</td>\n",
       "      <td>6</td>\n",
       "      <td>Late night</td>\n",
       "      <td>0.00</td>\n",
       "      <td>20.0</td>\n",
       "      <td>0</td>\n",
       "      <td>20.00</td>\n",
       "      <td>NaN</td>\n",
       "      <td>NaN</td>\n",
       "    </tr>\n",
       "    <tr>\n",
       "      <th>4</th>\n",
       "      <td>4</td>\n",
       "      <td>2015-06-21 05:47:59</td>\n",
       "      <td>2015</td>\n",
       "      <td>6</td>\n",
       "      <td>Late night</td>\n",
       "      <td>22.18</td>\n",
       "      <td>0.0</td>\n",
       "      <td>0</td>\n",
       "      <td>22.18</td>\n",
       "      <td>NaN</td>\n",
       "      <td>NaN</td>\n",
       "    </tr>\n",
       "  </tbody>\n",
       "</table>\n",
       "</div>"
      ],
      "text/plain": [
       "   Unnamed: 0                 time  Year  Month   TimeofDay  LeftFeed  \\\n",
       "0           0  2015-06-21 01:17:09  2015      6  Late night      0.00   \n",
       "1           1  2015-06-21 02:00:39  2015      6  Late night      7.52   \n",
       "2           2  2015-06-21 02:37:57  2015      6  Late night     14.50   \n",
       "3           3  2015-06-21 05:23:55  2015      6  Late night      0.00   \n",
       "4           4  2015-06-21 05:47:59  2015      6  Late night     22.18   \n",
       "\n",
       "   RightFeed  BotFeed  TotalFeed  BotAmt  Sleep  \n",
       "0        1.3        0       1.30     NaN    NaN  \n",
       "1        0.0        0       7.52     NaN    NaN  \n",
       "2        0.0        0      14.50     NaN    NaN  \n",
       "3       20.0        0      20.00     NaN    NaN  \n",
       "4        0.0        0      22.18     NaN    NaN  "
      ]
     },
     "execution_count": 4,
     "metadata": {},
     "output_type": "execute_result"
    }
   ],
   "source": [
    "df.head()"
   ]
  },
  {
   "cell_type": "code",
   "execution_count": 9,
   "metadata": {
    "collapsed": false
   },
   "outputs": [],
   "source": [
    "df['time'] = pd.to_datetime(df['time'])"
   ]
  },
  {
   "cell_type": "code",
   "execution_count": 10,
   "metadata": {
    "collapsed": false
   },
   "outputs": [
    {
     "name": "stdout",
     "output_type": "stream",
     "text": [
      "<class 'pandas.core.frame.DataFrame'>\n",
      "Int64Index: 3267 entries, 0 to 3266\n",
      "Data columns (total 11 columns):\n",
      "Unnamed: 0    3267 non-null int64\n",
      "time          3267 non-null datetime64[ns]\n",
      "Year          3267 non-null int64\n",
      "Month         3267 non-null int64\n",
      "TimeofDay     3267 non-null object\n",
      "LeftFeed      2560 non-null float64\n",
      "RightFeed     2560 non-null float64\n",
      "BotFeed       3267 non-null float64\n",
      "TotalFeed     2560 non-null float64\n",
      "BotAmt        77 non-null float64\n",
      "Sleep         674 non-null float64\n",
      "dtypes: datetime64[ns](1), float64(6), int64(3), object(1)\n",
      "memory usage: 306.3+ KB\n"
     ]
    }
   ],
   "source": [
    "df.info()"
   ]
  },
  {
   "cell_type": "code",
   "execution_count": 12,
   "metadata": {
    "collapsed": true
   },
   "outputs": [],
   "source": [
    "jun21 = pd.date_range('6/21/2015', periods=1440, freq='min')"
   ]
  },
  {
   "cell_type": "code",
   "execution_count": 11,
   "metadata": {
    "collapsed": false
   },
   "outputs": [
    {
     "data": {
      "text/plain": [
       "1440"
      ]
     },
     "execution_count": 11,
     "metadata": {},
     "output_type": "execute_result"
    }
   ],
   "source": [
    "60*24"
   ]
  },
  {
   "cell_type": "code",
   "execution_count": 19,
   "metadata": {
    "collapsed": false
   },
   "outputs": [],
   "source": [
    "ts = pd.DataFrame(np.zeros((len(jun21),2)),columns=['Eat','Sleep'],index=jun21)"
   ]
  },
  {
   "cell_type": "code",
   "execution_count": 20,
   "metadata": {
    "collapsed": false
   },
   "outputs": [
    {
     "data": {
      "text/html": [
       "<div>\n",
       "<table border=\"1\" class=\"dataframe\">\n",
       "  <thead>\n",
       "    <tr style=\"text-align: right;\">\n",
       "      <th></th>\n",
       "      <th>Eat</th>\n",
       "      <th>Sleep</th>\n",
       "    </tr>\n",
       "  </thead>\n",
       "  <tbody>\n",
       "    <tr>\n",
       "      <th>2015-06-21 00:00:00</th>\n",
       "      <td>0</td>\n",
       "      <td>0</td>\n",
       "    </tr>\n",
       "    <tr>\n",
       "      <th>2015-06-21 00:01:00</th>\n",
       "      <td>0</td>\n",
       "      <td>0</td>\n",
       "    </tr>\n",
       "    <tr>\n",
       "      <th>2015-06-21 00:02:00</th>\n",
       "      <td>0</td>\n",
       "      <td>0</td>\n",
       "    </tr>\n",
       "    <tr>\n",
       "      <th>2015-06-21 00:03:00</th>\n",
       "      <td>0</td>\n",
       "      <td>0</td>\n",
       "    </tr>\n",
       "    <tr>\n",
       "      <th>2015-06-21 00:04:00</th>\n",
       "      <td>0</td>\n",
       "      <td>0</td>\n",
       "    </tr>\n",
       "  </tbody>\n",
       "</table>\n",
       "</div>"
      ],
      "text/plain": [
       "                     Eat  Sleep\n",
       "2015-06-21 00:00:00    0      0\n",
       "2015-06-21 00:01:00    0      0\n",
       "2015-06-21 00:02:00    0      0\n",
       "2015-06-21 00:03:00    0      0\n",
       "2015-06-21 00:04:00    0      0"
      ]
     },
     "execution_count": 20,
     "metadata": {},
     "output_type": "execute_result"
    }
   ],
   "source": [
    "ts.head()"
   ]
  },
  {
   "cell_type": "code",
   "execution_count": null,
   "metadata": {
    "collapsed": true
   },
   "outputs": [],
   "source": []
  }
 ],
 "metadata": {
  "kernelspec": {
   "display_name": "Python 3",
   "language": "python",
   "name": "python3"
  },
  "language_info": {
   "codemirror_mode": {
    "name": "ipython",
    "version": 3
   },
   "file_extension": ".py",
   "mimetype": "text/x-python",
   "name": "python",
   "nbconvert_exporter": "python",
   "pygments_lexer": "ipython3",
   "version": "3.5.1"
  }
 },
 "nbformat": 4,
 "nbformat_minor": 0
}
