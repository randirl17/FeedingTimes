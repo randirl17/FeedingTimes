{
 "cells": [
  {
   "cell_type": "code",
   "execution_count": 168,
   "metadata": {
    "collapsed": true
   },
   "outputs": [],
   "source": [
    "import pandas as pd\n",
    "import numpy as np\n",
    "import matplotlib.pyplot as plt\n",
    "import datetime as datetime\n",
    "%matplotlib inline"
   ]
  },
  {
   "cell_type": "code",
   "execution_count": 66,
   "metadata": {
    "collapsed": false
   },
   "outputs": [],
   "source": [
    "df = pd.read_csv('NursingData_clean.csv')"
   ]
  },
  {
   "cell_type": "code",
   "execution_count": 125,
   "metadata": {
    "collapsed": false
   },
   "outputs": [
    {
     "data": {
      "text/html": [
       "<div>\n",
       "<table border=\"1\" class=\"dataframe\">\n",
       "  <thead>\n",
       "    <tr style=\"text-align: right;\">\n",
       "      <th></th>\n",
       "      <th>Unnamed: 0</th>\n",
       "      <th>time</th>\n",
       "      <th>Year</th>\n",
       "      <th>Month</th>\n",
       "      <th>TimeofDay</th>\n",
       "      <th>LeftFeed</th>\n",
       "      <th>RightFeed</th>\n",
       "      <th>BotFeed</th>\n",
       "      <th>TotalFeed</th>\n",
       "      <th>BotAmt</th>\n",
       "      <th>Sleep</th>\n",
       "    </tr>\n",
       "  </thead>\n",
       "  <tbody>\n",
       "    <tr>\n",
       "      <th>3000</th>\n",
       "      <td>3000</td>\n",
       "      <td>2015-11-29 19:55:13</td>\n",
       "      <td>2015</td>\n",
       "      <td>11</td>\n",
       "      <td>Evening</td>\n",
       "      <td>NaN</td>\n",
       "      <td>NaN</td>\n",
       "      <td>0</td>\n",
       "      <td>NaN</td>\n",
       "      <td>NaN</td>\n",
       "      <td>0.57</td>\n",
       "    </tr>\n",
       "    <tr>\n",
       "      <th>3001</th>\n",
       "      <td>3001</td>\n",
       "      <td>2015-11-29 21:49:10</td>\n",
       "      <td>2015</td>\n",
       "      <td>11</td>\n",
       "      <td>Evening</td>\n",
       "      <td>NaN</td>\n",
       "      <td>NaN</td>\n",
       "      <td>0</td>\n",
       "      <td>NaN</td>\n",
       "      <td>NaN</td>\n",
       "      <td>1.85</td>\n",
       "    </tr>\n",
       "    <tr>\n",
       "      <th>3002</th>\n",
       "      <td>3002</td>\n",
       "      <td>2015-11-30 01:56:00</td>\n",
       "      <td>2015</td>\n",
       "      <td>11</td>\n",
       "      <td>Late night</td>\n",
       "      <td>NaN</td>\n",
       "      <td>NaN</td>\n",
       "      <td>0</td>\n",
       "      <td>NaN</td>\n",
       "      <td>NaN</td>\n",
       "      <td>10.00</td>\n",
       "    </tr>\n",
       "    <tr>\n",
       "      <th>3003</th>\n",
       "      <td>3003</td>\n",
       "      <td>2015-11-30 16:09:39</td>\n",
       "      <td>2015</td>\n",
       "      <td>11</td>\n",
       "      <td>Afternoon</td>\n",
       "      <td>NaN</td>\n",
       "      <td>NaN</td>\n",
       "      <td>0</td>\n",
       "      <td>NaN</td>\n",
       "      <td>NaN</td>\n",
       "      <td>0.92</td>\n",
       "    </tr>\n",
       "    <tr>\n",
       "      <th>3004</th>\n",
       "      <td>3004</td>\n",
       "      <td>2015-11-30 20:25:49</td>\n",
       "      <td>2015</td>\n",
       "      <td>11</td>\n",
       "      <td>Evening</td>\n",
       "      <td>NaN</td>\n",
       "      <td>NaN</td>\n",
       "      <td>0</td>\n",
       "      <td>NaN</td>\n",
       "      <td>NaN</td>\n",
       "      <td>0.75</td>\n",
       "    </tr>\n",
       "    <tr>\n",
       "      <th>3005</th>\n",
       "      <td>3005</td>\n",
       "      <td>2015-12-01 01:17:54</td>\n",
       "      <td>2015</td>\n",
       "      <td>12</td>\n",
       "      <td>Late night</td>\n",
       "      <td>NaN</td>\n",
       "      <td>NaN</td>\n",
       "      <td>0</td>\n",
       "      <td>NaN</td>\n",
       "      <td>NaN</td>\n",
       "      <td>11.90</td>\n",
       "    </tr>\n",
       "    <tr>\n",
       "      <th>3006</th>\n",
       "      <td>3006</td>\n",
       "      <td>2015-12-01 14:58:08</td>\n",
       "      <td>2015</td>\n",
       "      <td>12</td>\n",
       "      <td>Afternoon</td>\n",
       "      <td>NaN</td>\n",
       "      <td>NaN</td>\n",
       "      <td>0</td>\n",
       "      <td>NaN</td>\n",
       "      <td>NaN</td>\n",
       "      <td>1.33</td>\n",
       "    </tr>\n",
       "    <tr>\n",
       "      <th>3007</th>\n",
       "      <td>3007</td>\n",
       "      <td>2015-12-01 18:05:00</td>\n",
       "      <td>2015</td>\n",
       "      <td>12</td>\n",
       "      <td>Afternoon</td>\n",
       "      <td>NaN</td>\n",
       "      <td>NaN</td>\n",
       "      <td>0</td>\n",
       "      <td>NaN</td>\n",
       "      <td>NaN</td>\n",
       "      <td>1.50</td>\n",
       "    </tr>\n",
       "    <tr>\n",
       "      <th>3008</th>\n",
       "      <td>3008</td>\n",
       "      <td>2015-12-01 23:29:37</td>\n",
       "      <td>2015</td>\n",
       "      <td>12</td>\n",
       "      <td>Evening</td>\n",
       "      <td>NaN</td>\n",
       "      <td>NaN</td>\n",
       "      <td>0</td>\n",
       "      <td>NaN</td>\n",
       "      <td>NaN</td>\n",
       "      <td>2.00</td>\n",
       "    </tr>\n",
       "    <tr>\n",
       "      <th>3009</th>\n",
       "      <td>3009</td>\n",
       "      <td>2015-12-02 02:54:55</td>\n",
       "      <td>2015</td>\n",
       "      <td>12</td>\n",
       "      <td>Late night</td>\n",
       "      <td>NaN</td>\n",
       "      <td>NaN</td>\n",
       "      <td>0</td>\n",
       "      <td>NaN</td>\n",
       "      <td>NaN</td>\n",
       "      <td>10.42</td>\n",
       "    </tr>\n",
       "  </tbody>\n",
       "</table>\n",
       "</div>"
      ],
      "text/plain": [
       "      Unnamed: 0                time  Year  Month   TimeofDay  LeftFeed  \\\n",
       "3000        3000 2015-11-29 19:55:13  2015     11     Evening       NaN   \n",
       "3001        3001 2015-11-29 21:49:10  2015     11     Evening       NaN   \n",
       "3002        3002 2015-11-30 01:56:00  2015     11  Late night       NaN   \n",
       "3003        3003 2015-11-30 16:09:39  2015     11   Afternoon       NaN   \n",
       "3004        3004 2015-11-30 20:25:49  2015     11     Evening       NaN   \n",
       "3005        3005 2015-12-01 01:17:54  2015     12  Late night       NaN   \n",
       "3006        3006 2015-12-01 14:58:08  2015     12   Afternoon       NaN   \n",
       "3007        3007 2015-12-01 18:05:00  2015     12   Afternoon       NaN   \n",
       "3008        3008 2015-12-01 23:29:37  2015     12     Evening       NaN   \n",
       "3009        3009 2015-12-02 02:54:55  2015     12  Late night       NaN   \n",
       "\n",
       "      RightFeed  BotFeed  TotalFeed  BotAmt  Sleep  \n",
       "3000        NaN        0        NaN     NaN   0.57  \n",
       "3001        NaN        0        NaN     NaN   1.85  \n",
       "3002        NaN        0        NaN     NaN  10.00  \n",
       "3003        NaN        0        NaN     NaN   0.92  \n",
       "3004        NaN        0        NaN     NaN   0.75  \n",
       "3005        NaN        0        NaN     NaN  11.90  \n",
       "3006        NaN        0        NaN     NaN   1.33  \n",
       "3007        NaN        0        NaN     NaN   1.50  \n",
       "3008        NaN        0        NaN     NaN   2.00  \n",
       "3009        NaN        0        NaN     NaN  10.42  "
      ]
     },
     "execution_count": 125,
     "metadata": {},
     "output_type": "execute_result"
    }
   ],
   "source": [
    "df[3000:3010]"
   ]
  },
  {
   "cell_type": "code",
   "execution_count": 68,
   "metadata": {
    "collapsed": false
   },
   "outputs": [],
   "source": [
    "df['time'] = pd.to_datetime(df['time'])"
   ]
  },
  {
   "cell_type": "code",
   "execution_count": 69,
   "metadata": {
    "collapsed": false
   },
   "outputs": [
    {
     "name": "stdout",
     "output_type": "stream",
     "text": [
      "<class 'pandas.core.frame.DataFrame'>\n",
      "Int64Index: 3267 entries, 0 to 3266\n",
      "Data columns (total 11 columns):\n",
      "Unnamed: 0    3267 non-null int64\n",
      "time          3267 non-null datetime64[ns]\n",
      "Year          3267 non-null int64\n",
      "Month         3267 non-null int64\n",
      "TimeofDay     3267 non-null object\n",
      "LeftFeed      2560 non-null float64\n",
      "RightFeed     2560 non-null float64\n",
      "BotFeed       3267 non-null float64\n",
      "TotalFeed     2560 non-null float64\n",
      "BotAmt        77 non-null float64\n",
      "Sleep         674 non-null float64\n",
      "dtypes: datetime64[ns](1), float64(6), int64(3), object(1)\n",
      "memory usage: 306.3+ KB\n"
     ]
    }
   ],
   "source": [
    "df.info()"
   ]
  },
  {
   "cell_type": "code",
   "execution_count": 192,
   "metadata": {
    "collapsed": false
   },
   "outputs": [],
   "source": []
  },
  {
   "cell_type": "code",
   "execution_count": 193,
   "metadata": {
    "collapsed": false
   },
   "outputs": [
    {
     "data": {
      "text/html": [
       "<div>\n",
       "<table border=\"1\" class=\"dataframe\">\n",
       "  <thead>\n",
       "    <tr style=\"text-align: right;\">\n",
       "      <th></th>\n",
       "      <th>Eat</th>\n",
       "      <th>Sleep</th>\n",
       "    </tr>\n",
       "  </thead>\n",
       "  <tbody>\n",
       "    <tr>\n",
       "      <th>2015-11-21 00:00:00</th>\n",
       "      <td>0</td>\n",
       "      <td>0</td>\n",
       "    </tr>\n",
       "    <tr>\n",
       "      <th>2015-11-21 00:01:00</th>\n",
       "      <td>0</td>\n",
       "      <td>0</td>\n",
       "    </tr>\n",
       "    <tr>\n",
       "      <th>2015-11-21 00:02:00</th>\n",
       "      <td>0</td>\n",
       "      <td>0</td>\n",
       "    </tr>\n",
       "    <tr>\n",
       "      <th>2015-11-21 00:03:00</th>\n",
       "      <td>0</td>\n",
       "      <td>0</td>\n",
       "    </tr>\n",
       "    <tr>\n",
       "      <th>2015-11-21 00:04:00</th>\n",
       "      <td>0</td>\n",
       "      <td>0</td>\n",
       "    </tr>\n",
       "  </tbody>\n",
       "</table>\n",
       "</div>"
      ],
      "text/plain": [
       "                     Eat  Sleep\n",
       "2015-11-21 00:00:00    0      0\n",
       "2015-11-21 00:01:00    0      0\n",
       "2015-11-21 00:02:00    0      0\n",
       "2015-11-21 00:03:00    0      0\n",
       "2015-11-21 00:04:00    0      0"
      ]
     },
     "execution_count": 193,
     "metadata": {},
     "output_type": "execute_result"
    }
   ],
   "source": [
    "ts.head()"
   ]
  },
  {
   "cell_type": "code",
   "execution_count": 209,
   "metadata": {
    "collapsed": false
   },
   "outputs": [],
   "source": [
    "date = '1/21/2016'\n",
    "parsed = datetime.datetime.strptime(date,'%m/%d/%Y')\n",
    "jun21 = pd.date_range(date, periods=1440, freq='min')\n",
    "ts = pd.DataFrame(np.zeros((len(jun21),2)),columns=['Eat','Sleep'],index=jun21)"
   ]
  },
  {
   "cell_type": "code",
   "execution_count": 210,
   "metadata": {
    "collapsed": false,
    "scrolled": true
   },
   "outputs": [
    {
     "name": "stdout",
     "output_type": "stream",
     "text": [
      "This is a feeding.\n",
      "Start time =  2016-01-21 00:29:41\n",
      "End time =  2016-01-21 00:43:41\n",
      "e\n",
      "This is a feeding.\n",
      "Start time =  2016-01-21 02:43:37\n",
      "End time =  2016-01-21 02:50:37\n",
      "e\n",
      "This is a feeding.\n",
      "Start time =  2016-01-21 04:00:00\n",
      "End time =  2016-01-21 04:24:00\n",
      "e\n",
      "This is a feeding.\n",
      "Start time =  2016-01-21 07:44:03\n",
      "End time =  2016-01-21 08:04:03\n",
      "e\n",
      "This is a feeding.\n",
      "Start time =  2016-01-21 10:41:15\n",
      "End time =  2016-01-21 10:56:15\n",
      "e\n",
      "This is a feeding.\n",
      "Start time =  2016-01-21 13:35:30\n",
      "End time =  2016-01-21 14:05:30\n",
      "e\n",
      "This is a feeding.\n",
      "Start time =  2016-01-21 17:34:59\n",
      "End time =  2016-01-21 17:43:59\n",
      "e\n",
      "This is a feeding.\n",
      "Start time =  2016-01-21 18:18:36\n",
      "End time =  2016-01-21 18:31:36\n",
      "e\n",
      "This is a feeding.\n",
      "Start time =  2016-01-21 21:10:00\n",
      "End time =  2016-01-21 21:15:00\n",
      "e\n",
      "This is a feeding.\n",
      "Start time =  2016-01-21 23:43:13\n",
      "End time =  2016-01-21 23:58:13\n",
      "e\n",
      "This is sleep. 12.5\n",
      "Start time =  2016-01-21 00:27:28\n",
      "End time =  2016-01-21 12:57:28\n",
      "s\n",
      "This is sleep. 0.87\n",
      "Start time =  2016-01-21 15:59:22\n",
      "End time =  2016-01-21 16:51:22\n",
      "s\n",
      "This is sleep. 0.75\n",
      "Start time =  2016-01-21 19:00:00\n",
      "End time =  2016-01-21 19:45:00\n",
      "s\n"
     ]
    }
   ],
   "source": [
    "#for each entry in original dataframe\n",
    "for row in df.values:\n",
    "    #select only rows for 12/21/15 for now\n",
    "    if row[1].year == parsed.year and row[1].month == parsed.month and row[1].day == parsed.day:\n",
    "        #add amount to timestamp to get interval\n",
    "        #need to know which number to add, TotalFeed or Sleep \n",
    "        #select whether to add to the Sleep or Eat column\n",
    "        eatsleep = ''\n",
    "        if row[8] > 0.: \n",
    "            print('This is a feeding.')\n",
    "            eatsleep = 'e'\n",
    "            intmin = int(row[8])#don't care about seconds\n",
    "            endtime = row[1] + datetime.timedelta(minutes = intmin)\n",
    "            print('Start time = ',row[1])\n",
    "            print('End time = ', endtime)\n",
    "            \n",
    "        if row[10] > 0.:  \n",
    "            print('This is sleep.',row[10])\n",
    "            #row[10] is H.M, not M.S\n",
    "            eatsleep = 's'\n",
    "            inthrs = int(row[10])\n",
    "            intmin = int((row[10] - inthrs)*60)\n",
    "            endtime = row[1] + datetime.timedelta(hours = inthrs, minutes = intmin)\n",
    "            print('Start time = ',row[1])\n",
    "            print('End time = ', endtime)\n",
    "\n",
    "        print(eatsleep)   \n",
    "        #for each row in dummy, is it in the interval?  If yes, add 1 to that row in dummy, in appropriate column\n",
    "        for i,timebymin in enumerate(ts.index):\n",
    "            if row[1] < timebymin and timebymin <= endtime:\n",
    "                if eatsleep == 'e':  \n",
    "                    ts.Eat[i] = 1\n",
    "                if eatsleep == 's':\n",
    "                    ts.Sleep[i] = 1\n",
    "                #print(ts.ix[i])\n",
    "        \n",
    "        \n",
    "        "
   ]
  },
  {
   "cell_type": "code",
   "execution_count": 211,
   "metadata": {
    "collapsed": false
   },
   "outputs": [
    {
     "data": {
      "image/png": "[encoded data removed]",
      "text/plain": [
       "<matplotlib.figure.Figure at 0x10a0f20f0>"
      ]
     },
     "metadata": {},
     "output_type": "display_data"
    }
   ],
   "source": [
    "fig = plt.figure(figsize=(18,6))\n",
    "ax = fig.add_subplot(111)\n",
    "ax.plot(ts.index,ts.Eat,'orange')\n",
    "ax.plot(ts.index,ts.Sleep,'b')\n",
    "ax.set_ylim(0,1.5)\n",
    "ax.set_title\n",
    "fig.autofmt_xdate()"
   ]
  },
  {
   "cell_type": "code",
   "execution_count": 73,
   "metadata": {
    "collapsed": false
   },
   "outputs": [
    {
     "data": {
      "text/plain": [
       "array([ 0,  0,  0, ..., 23, 23, 23], dtype=int32)"
      ]
     },
     "execution_count": 73,
     "metadata": {},
     "output_type": "execute_result"
    }
   ],
   "source": [
    "ts.index.hour"
   ]
  },
  {
   "cell_type": "code",
   "execution_count": null,
   "metadata": {
    "collapsed": true
   },
   "outputs": [],
   "source": []
  },
  {
   "cell_type": "code",
   "execution_count": null,
   "metadata": {
    "collapsed": true
   },
   "outputs": [],
   "source": [
    "#eventually...\n",
    "ts.resample('5min',how='sum',closed='left',label='left')"
   ]
  }
 ],
 "metadata": {
  "kernelspec": {
   "display_name": "Python 3",
   "language": "python",
   "name": "python3"
  },
  "language_info": {
   "codemirror_mode": {
    "name": "ipython",
    "version": 3
   },
   "file_extension": ".py",
   "mimetype": "text/x-python",
   "name": "python",
   "nbconvert_exporter": "python",
   "pygments_lexer": "ipython3",
   "version": "3.5.1"
  }
 },
 "nbformat": 4,
 "nbformat_minor": 0
}
