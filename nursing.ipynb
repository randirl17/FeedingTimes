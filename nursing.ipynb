{
 "cells": [
  {
   "cell_type": "code",
   "execution_count": 114,
   "metadata": {
    "collapsed": true
   },
   "outputs": [],
   "source": [
    "import pandas as pd"
   ]
  },
  {
   "cell_type": "code",
   "execution_count": 115,
   "metadata": {
    "collapsed": true
   },
   "outputs": [],
   "source": [
    "from datetime import datetime"
   ]
  },
  {
   "cell_type": "code",
   "execution_count": 116,
   "metadata": {
    "collapsed": true
   },
   "outputs": [],
   "source": [
    "import numpy as np"
   ]
  },
  {
   "cell_type": "code",
   "execution_count": 117,
   "metadata": {
    "collapsed": true
   },
   "outputs": [],
   "source": [
    "import matplotlib"
   ]
  },
  {
   "cell_type": "code",
   "execution_count": 118,
   "metadata": {
    "collapsed": true
   },
   "outputs": [],
   "source": [
    "import matplotlib.pyplot as plt"
   ]
  },
  {
   "cell_type": "code",
   "execution_count": 119,
   "metadata": {
    "collapsed": true
   },
   "outputs": [],
   "source": [
    "%matplotlib inline"
   ]
  },
  {
   "cell_type": "code",
   "execution_count": 120,
   "metadata": {
    "collapsed": false
   },
   "outputs": [],
   "source": [
    "df = pd.read_csv('NursingData.csv')"
   ]
  },
  {
   "cell_type": "code",
   "execution_count": 121,
   "metadata": {
    "collapsed": true
   },
   "outputs": [],
   "source": [
    "headers = list(df.columns.values)"
   ]
  },
  {
   "cell_type": "code",
   "execution_count": 122,
   "metadata": {
    "collapsed": true
   },
   "outputs": [],
   "source": [
    "newhead = []"
   ]
  },
  {
   "cell_type": "code",
   "execution_count": 123,
   "metadata": {
    "collapsed": false,
    "scrolled": true
   },
   "outputs": [],
   "source": [
    "for name in headers:\n",
    "    newhead.append(name.strip())"
   ]
  },
  {
   "cell_type": "code",
   "execution_count": 124,
   "metadata": {
    "collapsed": false
   },
   "outputs": [
    {
     "data": {
      "text/plain": [
       "['#',\n",
       " 'time',\n",
       " 'Left',\n",
       " 'Right',\n",
       " 'Bottle',\n",
       " 'Bottle Amount',\n",
       " 'Sleep time',\n",
       " 'wet',\n",
       " 'solid',\n",
       " 'Pump Amount']"
      ]
     },
     "execution_count": 124,
     "metadata": {},
     "output_type": "execute_result"
    }
   ],
   "source": [
    "newhead"
   ]
  },
  {
   "cell_type": "code",
   "execution_count": 125,
   "metadata": {
    "collapsed": true
   },
   "outputs": [],
   "source": [
    "df.columns = newhead"
   ]
  },
  {
   "cell_type": "code",
   "execution_count": 126,
   "metadata": {
    "collapsed": false,
    "scrolled": true
   },
   "outputs": [
    {
     "data": {
      "text/html": [
       "<div>\n",
       "<table border=\"1\" class=\"dataframe\">\n",
       "  <thead>\n",
       "    <tr style=\"text-align: right;\">\n",
       "      <th></th>\n",
       "      <th>#</th>\n",
       "      <th>time</th>\n",
       "      <th>Left</th>\n",
       "      <th>Right</th>\n",
       "      <th>Bottle</th>\n",
       "      <th>Bottle Amount</th>\n",
       "      <th>Sleep time</th>\n",
       "      <th>wet</th>\n",
       "      <th>solid</th>\n",
       "      <th>Pump Amount</th>\n",
       "    </tr>\n",
       "  </thead>\n",
       "  <tbody>\n",
       "    <tr>\n",
       "      <th>0</th>\n",
       "      <td>1</td>\n",
       "      <td>06/21/15 01:17:09</td>\n",
       "      <td>0:0</td>\n",
       "      <td>1:18</td>\n",
       "      <td>0:0</td>\n",
       "      <td></td>\n",
       "      <td>NaN</td>\n",
       "      <td>NaN</td>\n",
       "      <td>NaN</td>\n",
       "      <td>NaN</td>\n",
       "    </tr>\n",
       "    <tr>\n",
       "      <th>1</th>\n",
       "      <td>2</td>\n",
       "      <td>06/21/15 02:00:39</td>\n",
       "      <td>7:31</td>\n",
       "      <td>0:0</td>\n",
       "      <td>0:0</td>\n",
       "      <td></td>\n",
       "      <td>NaN</td>\n",
       "      <td>NaN</td>\n",
       "      <td>NaN</td>\n",
       "      <td>NaN</td>\n",
       "    </tr>\n",
       "    <tr>\n",
       "      <th>2</th>\n",
       "      <td>3</td>\n",
       "      <td>06/21/15 02:37:57</td>\n",
       "      <td>14:3</td>\n",
       "      <td>0:0</td>\n",
       "      <td>0:0</td>\n",
       "      <td></td>\n",
       "      <td>NaN</td>\n",
       "      <td>NaN</td>\n",
       "      <td>NaN</td>\n",
       "      <td>NaN</td>\n",
       "    </tr>\n",
       "    <tr>\n",
       "      <th>3</th>\n",
       "      <td>4</td>\n",
       "      <td>06/21/15 05:23:55</td>\n",
       "      <td>0:0</td>\n",
       "      <td>20:0</td>\n",
       "      <td>0:0</td>\n",
       "      <td></td>\n",
       "      <td>NaN</td>\n",
       "      <td>NaN</td>\n",
       "      <td>NaN</td>\n",
       "      <td>NaN</td>\n",
       "    </tr>\n",
       "    <tr>\n",
       "      <th>4</th>\n",
       "      <td>5</td>\n",
       "      <td>06/21/15 05:47:59</td>\n",
       "      <td>22:11</td>\n",
       "      <td>0:0</td>\n",
       "      <td>0:0</td>\n",
       "      <td></td>\n",
       "      <td>NaN</td>\n",
       "      <td>NaN</td>\n",
       "      <td>NaN</td>\n",
       "      <td>NaN</td>\n",
       "    </tr>\n",
       "    <tr>\n",
       "      <th>5</th>\n",
       "      <td>6</td>\n",
       "      <td>06/21/15 06:24:35</td>\n",
       "      <td>0:0</td>\n",
       "      <td>15:50</td>\n",
       "      <td>0:0</td>\n",
       "      <td></td>\n",
       "      <td>NaN</td>\n",
       "      <td>NaN</td>\n",
       "      <td>NaN</td>\n",
       "      <td>NaN</td>\n",
       "    </tr>\n",
       "    <tr>\n",
       "      <th>6</th>\n",
       "      <td>7</td>\n",
       "      <td>06/21/15 07:50:08</td>\n",
       "      <td>13:37</td>\n",
       "      <td>0:0</td>\n",
       "      <td>0:0</td>\n",
       "      <td></td>\n",
       "      <td>NaN</td>\n",
       "      <td>NaN</td>\n",
       "      <td>NaN</td>\n",
       "      <td>NaN</td>\n",
       "    </tr>\n",
       "    <tr>\n",
       "      <th>7</th>\n",
       "      <td>8</td>\n",
       "      <td>06/21/15 08:44:12</td>\n",
       "      <td>0:0</td>\n",
       "      <td>9:40</td>\n",
       "      <td>0:0</td>\n",
       "      <td></td>\n",
       "      <td>NaN</td>\n",
       "      <td>NaN</td>\n",
       "      <td>NaN</td>\n",
       "      <td>NaN</td>\n",
       "    </tr>\n",
       "  </tbody>\n",
       "</table>\n",
       "</div>"
      ],
      "text/plain": [
       "   #                time    Left   Right Bottle Bottle Amount Sleep time  wet  \\\n",
       "0  1   06/21/15 01:17:09     0:0    1:18    0:0                      NaN  NaN   \n",
       "1  2   06/21/15 02:00:39    7:31     0:0    0:0                      NaN  NaN   \n",
       "2  3   06/21/15 02:37:57    14:3     0:0    0:0                      NaN  NaN   \n",
       "3  4   06/21/15 05:23:55     0:0    20:0    0:0                      NaN  NaN   \n",
       "4  5   06/21/15 05:47:59   22:11     0:0    0:0                      NaN  NaN   \n",
       "5  6   06/21/15 06:24:35     0:0   15:50    0:0                      NaN  NaN   \n",
       "6  7   06/21/15 07:50:08   13:37     0:0    0:0                      NaN  NaN   \n",
       "7  8   06/21/15 08:44:12     0:0    9:40    0:0                      NaN  NaN   \n",
       "\n",
       "  solid Pump Amount  \n",
       "0   NaN         NaN  \n",
       "1   NaN         NaN  \n",
       "2   NaN         NaN  \n",
       "3   NaN         NaN  \n",
       "4   NaN         NaN  \n",
       "5   NaN         NaN  \n",
       "6   NaN         NaN  \n",
       "7   NaN         NaN  "
      ]
     },
     "execution_count": 126,
     "metadata": {},
     "output_type": "execute_result"
    }
   ],
   "source": [
    "df[:8]"
   ]
  },
  {
   "cell_type": "code",
   "execution_count": 127,
   "metadata": {
    "collapsed": false
   },
   "outputs": [
    {
     "data": {
      "text/plain": [
       "#                 int64\n",
       "time             object\n",
       "Left             object\n",
       "Right            object\n",
       "Bottle           object\n",
       "Bottle Amount    object\n",
       "Sleep time       object\n",
       "wet              object\n",
       "solid            object\n",
       "Pump Amount      object\n",
       "dtype: object"
      ]
     },
     "execution_count": 127,
     "metadata": {},
     "output_type": "execute_result"
    }
   ],
   "source": [
    "df.dtypes"
   ]
  },
  {
   "cell_type": "code",
   "execution_count": 128,
   "metadata": {
    "collapsed": false
   },
   "outputs": [],
   "source": [
    "df['time'] = pd.to_datetime(df['time'])"
   ]
  },
  {
   "cell_type": "code",
   "execution_count": 129,
   "metadata": {
    "collapsed": false
   },
   "outputs": [],
   "source": [
    "ordered = df.sort_values('time')"
   ]
  },
  {
   "cell_type": "code",
   "execution_count": 130,
   "metadata": {
    "collapsed": false,
    "scrolled": true
   },
   "outputs": [
    {
     "data": {
      "text/html": [
       "<div>\n",
       "<table border=\"1\" class=\"dataframe\">\n",
       "  <thead>\n",
       "    <tr style=\"text-align: right;\">\n",
       "      <th></th>\n",
       "      <th>#</th>\n",
       "      <th>time</th>\n",
       "      <th>Left</th>\n",
       "      <th>Right</th>\n",
       "      <th>Bottle</th>\n",
       "      <th>Bottle Amount</th>\n",
       "      <th>Sleep time</th>\n",
       "      <th>wet</th>\n",
       "      <th>solid</th>\n",
       "      <th>Pump Amount</th>\n",
       "    </tr>\n",
       "  </thead>\n",
       "  <tbody>\n",
       "    <tr>\n",
       "      <th>3234</th>\n",
       "      <td>1</td>\n",
       "      <td>2015-05-31 00:48:35</td>\n",
       "      <td></td>\n",
       "      <td></td>\n",
       "      <td></td>\n",
       "      <td></td>\n",
       "      <td></td>\n",
       "      <td>O</td>\n",
       "      <td>-</td>\n",
       "      <td>NaN</td>\n",
       "    </tr>\n",
       "    <tr>\n",
       "      <th>0</th>\n",
       "      <td>1</td>\n",
       "      <td>2015-06-21 01:17:09</td>\n",
       "      <td>0:0</td>\n",
       "      <td>1:18</td>\n",
       "      <td>0:0</td>\n",
       "      <td></td>\n",
       "      <td>NaN</td>\n",
       "      <td>NaN</td>\n",
       "      <td>NaN</td>\n",
       "      <td>NaN</td>\n",
       "    </tr>\n",
       "    <tr>\n",
       "      <th>3235</th>\n",
       "      <td>2</td>\n",
       "      <td>2015-06-21 01:17:27</td>\n",
       "      <td></td>\n",
       "      <td></td>\n",
       "      <td></td>\n",
       "      <td></td>\n",
       "      <td></td>\n",
       "      <td>O</td>\n",
       "      <td>O</td>\n",
       "      <td>NaN</td>\n",
       "    </tr>\n",
       "    <tr>\n",
       "      <th>2560</th>\n",
       "      <td>1</td>\n",
       "      <td>2015-06-21 01:19:50</td>\n",
       "      <td></td>\n",
       "      <td></td>\n",
       "      <td></td>\n",
       "      <td></td>\n",
       "      <td>0:39:28</td>\n",
       "      <td>NaN</td>\n",
       "      <td>NaN</td>\n",
       "      <td>NaN</td>\n",
       "    </tr>\n",
       "    <tr>\n",
       "      <th>1</th>\n",
       "      <td>2</td>\n",
       "      <td>2015-06-21 02:00:39</td>\n",
       "      <td>7:31</td>\n",
       "      <td>0:0</td>\n",
       "      <td>0:0</td>\n",
       "      <td></td>\n",
       "      <td>NaN</td>\n",
       "      <td>NaN</td>\n",
       "      <td>NaN</td>\n",
       "      <td>NaN</td>\n",
       "    </tr>\n",
       "    <tr>\n",
       "      <th>2561</th>\n",
       "      <td>2</td>\n",
       "      <td>2015-06-21 02:08:15</td>\n",
       "      <td></td>\n",
       "      <td></td>\n",
       "      <td></td>\n",
       "      <td></td>\n",
       "      <td>0:29:40</td>\n",
       "      <td>NaN</td>\n",
       "      <td>NaN</td>\n",
       "      <td>NaN</td>\n",
       "    </tr>\n",
       "    <tr>\n",
       "      <th>2</th>\n",
       "      <td>3</td>\n",
       "      <td>2015-06-21 02:37:57</td>\n",
       "      <td>14:3</td>\n",
       "      <td>0:0</td>\n",
       "      <td>0:0</td>\n",
       "      <td></td>\n",
       "      <td>NaN</td>\n",
       "      <td>NaN</td>\n",
       "      <td>NaN</td>\n",
       "      <td>NaN</td>\n",
       "    </tr>\n",
       "    <tr>\n",
       "      <th>2562</th>\n",
       "      <td>3</td>\n",
       "      <td>2015-06-21 02:52:03</td>\n",
       "      <td></td>\n",
       "      <td></td>\n",
       "      <td></td>\n",
       "      <td></td>\n",
       "      <td>1:30:3</td>\n",
       "      <td>NaN</td>\n",
       "      <td>NaN</td>\n",
       "      <td>NaN</td>\n",
       "    </tr>\n",
       "  </tbody>\n",
       "</table>\n",
       "</div>"
      ],
      "text/plain": [
       "      #                time   Left  Right Bottle Bottle Amount Sleep time  \\\n",
       "3234  1 2015-05-31 00:48:35                                                 \n",
       "0     1 2015-06-21 01:17:09    0:0   1:18    0:0                      NaN   \n",
       "3235  2 2015-06-21 01:17:27                                                 \n",
       "2560  1 2015-06-21 01:19:50                                       0:39:28   \n",
       "1     2 2015-06-21 02:00:39   7:31    0:0    0:0                      NaN   \n",
       "2561  2 2015-06-21 02:08:15                                       0:29:40   \n",
       "2     3 2015-06-21 02:37:57   14:3    0:0    0:0                      NaN   \n",
       "2562  3 2015-06-21 02:52:03                                        1:30:3   \n",
       "\n",
       "      wet solid Pump Amount  \n",
       "3234    O     -         NaN  \n",
       "0     NaN   NaN         NaN  \n",
       "3235    O     O         NaN  \n",
       "2560  NaN   NaN         NaN  \n",
       "1     NaN   NaN         NaN  \n",
       "2561  NaN   NaN         NaN  \n",
       "2     NaN   NaN         NaN  \n",
       "2562  NaN   NaN         NaN  "
      ]
     },
     "execution_count": 130,
     "metadata": {},
     "output_type": "execute_result"
    }
   ],
   "source": [
    "ordered[:8]"
   ]
  },
  {
   "cell_type": "code",
   "execution_count": 131,
   "metadata": {
    "collapsed": false,
    "scrolled": true
   },
   "outputs": [],
   "source": [
    "def convmmss(mmss):\n",
    "    minlist = []\n",
    "    for value in mmss:\n",
    "        if len(value) == 1:\n",
    "            value = [float('NaN'),float('NaN')]\n",
    "        else:\n",
    "            if int(value[1]) < 10:\n",
    "                value[1] = value[1] + '0'\n",
    "        minutes = float(value[0]) + float(value[1])/60.\n",
    "        minlist.append(minutes)\n",
    "    minarr = np.array(minlist)\n",
    "    return minarr"
   ]
  },
  {
   "cell_type": "code",
   "execution_count": 132,
   "metadata": {
    "collapsed": false
   },
   "outputs": [],
   "source": [
    "leftmin = convmmss(df['Left'].str.split(':'))"
   ]
  },
  {
   "cell_type": "code",
   "execution_count": 133,
   "metadata": {
    "collapsed": false
   },
   "outputs": [],
   "source": [
    "leftadj = np.where(leftmin > 45, 15., leftmin)"
   ]
  },
  {
   "cell_type": "code",
   "execution_count": 134,
   "metadata": {
    "collapsed": false
   },
   "outputs": [],
   "source": [
    "rightmin = convmmss(df['Right'].str.split(':'))"
   ]
  },
  {
   "cell_type": "code",
   "execution_count": 135,
   "metadata": {
    "collapsed": true
   },
   "outputs": [],
   "source": [
    "rightadj = np.where(rightmin > 45, 15., rightmin)"
   ]
  },
  {
   "cell_type": "code",
   "execution_count": 136,
   "metadata": {
    "collapsed": false
   },
   "outputs": [],
   "source": [
    "bottime = np.where(df['Bottle'] == ' Bottle-Pump',5.,0.)"
   ]
  },
  {
   "cell_type": "code",
   "execution_count": 137,
   "metadata": {
    "collapsed": false,
    "scrolled": true
   },
   "outputs": [
    {
     "data": {
      "text/plain": [
       "array([ 0.,  0.,  0.,  0.,  0.,  0.,  0.,  0.,  0.,  0.,  5.,  0.,  0.,\n",
       "        0.,  0.,  0.,  0.,  0.,  0.,  0.,  0.,  0.,  0.,  0.,  0.,  0.,\n",
       "        0.,  0.,  0.,  0.,  0.,  0.,  0.,  0.,  0.,  0.,  0.,  0.,  0.,\n",
       "        0.,  0.,  0.,  0.,  0.,  0.,  0.,  0.,  0.,  0.,  0.,  0.,  0.,\n",
       "        0.,  0.,  0.,  0.,  0.,  0.,  0.,  0.,  0.,  0.,  5.,  0.,  0.,\n",
       "        0.,  0.,  0.,  0.,  5.,  5.,  0.,  0.,  0.,  0.,  0.,  0.,  0.,\n",
       "        0.,  0.,  0.,  0.,  0.,  0.,  0.,  0.,  0.,  0.,  0.,  0.,  0.,\n",
       "        5.,  5.,  0.,  0.,  0.,  0.,  0.,  0.,  0.,  0.,  0.,  0.,  0.,\n",
       "        0.,  0.,  0.,  0.,  0.,  0.,  0.,  0.,  0.,  0.,  0.,  0.,  0.,\n",
       "        0.,  0.,  0.,  0.,  0.,  0.,  0.,  0.,  0.,  0.,  0.,  0.,  0.,\n",
       "        0.,  0.,  0.,  0.,  0.,  0.,  0.,  0.,  0.,  0.,  0.,  0.,  0.,\n",
       "        0.,  0.,  0.,  0.,  0.,  0.,  0.,  0.,  0.,  0.,  0.,  0.,  5.,\n",
       "        0.,  0.,  0.,  5.,  0.,  0.,  0.,  0.,  0.,  0.,  0.,  0.,  0.,\n",
       "        0.,  0.,  5.,  5.,  0.,  0.,  0.,  0.,  0.,  0.,  0.,  0.,  0.,\n",
       "        0.,  0.,  0.,  0.,  0.,  0.,  0.,  0.,  0.,  0.,  0.,  0.,  0.,\n",
       "        0.,  0.,  0.,  0.,  0.])"
      ]
     },
     "execution_count": 137,
     "metadata": {},
     "output_type": "execute_result"
    }
   ],
   "source": [
    "bottime[1000:1200]"
   ]
  },
  {
   "cell_type": "code",
   "execution_count": 138,
   "metadata": {
    "collapsed": false
   },
   "outputs": [],
   "source": [
    "totfeed = leftmin + rightmin + bottime"
   ]
  },
  {
   "cell_type": "code",
   "execution_count": 139,
   "metadata": {
    "collapsed": true
   },
   "outputs": [],
   "source": [
    "totadj = leftadj + rightadj + bottime"
   ]
  },
  {
   "cell_type": "code",
   "execution_count": 140,
   "metadata": {
    "collapsed": false,
    "scrolled": true
   },
   "outputs": [
    {
     "data": {
      "text/plain": [
       "array([  15.        ,   23.61666667,   67.25      ,   11.48333333,\n",
       "         17.95      ,   21.3       ,  101.43333333,   15.        ,\n",
       "         19.76666667,   15.        ,    5.        ,   15.9       ,\n",
       "         15.        ,   15.        ,   20.66666667,   15.        ,\n",
       "         15.        ,   15.41666667,   14.5       ,   15.        ,\n",
       "         13.16666667,   26.43333333,   11.46666667,   30.        ,\n",
       "          9.51666667,   15.        ,   15.        ,   24.98333333,\n",
       "         20.        ,   22.21666667,   19.35      ,   15.        ,\n",
       "         15.        ,   15.        ,   15.        ,   17.8       ,\n",
       "         16.25      ,    8.61666667,   16.61666667,   17.2       ,\n",
       "         12.83333333,   11.9       ,   15.        ,   17.71666667,\n",
       "         17.66666667,   15.        ,   15.        ,   15.        ,\n",
       "         19.33333333,   15.        ])"
      ]
     },
     "execution_count": 140,
     "metadata": {},
     "output_type": "execute_result"
    }
   ],
   "source": [
    "totfeed[1000:1050]"
   ]
  },
  {
   "cell_type": "code",
   "execution_count": 141,
   "metadata": {
    "collapsed": false
   },
   "outputs": [],
   "source": [
    "df.loc[:,'Total Feed'] = pd.Series(totadj, index = df.index)"
   ]
  },
  {
   "cell_type": "code",
   "execution_count": 142,
   "metadata": {
    "collapsed": true
   },
   "outputs": [],
   "source": [
    "df.loc[:,'leftfeed'] = pd.Series(leftadj, index = df.index)\n",
    "df.loc[:,'rightfeed'] = pd.Series(rightadj, index = df.index)\n"
   ]
  },
  {
   "cell_type": "code",
   "execution_count": 143,
   "metadata": {
    "collapsed": false,
    "scrolled": true
   },
   "outputs": [],
   "source": [
    "del df['#']"
   ]
  },
  {
   "cell_type": "code",
   "execution_count": 144,
   "metadata": {
    "collapsed": false
   },
   "outputs": [
    {
     "data": {
      "text/html": [
       "<div>\n",
       "<table border=\"1\" class=\"dataframe\">\n",
       "  <thead>\n",
       "    <tr style=\"text-align: right;\">\n",
       "      <th></th>\n",
       "      <th>time</th>\n",
       "      <th>Left</th>\n",
       "      <th>Right</th>\n",
       "      <th>Bottle</th>\n",
       "      <th>Bottle Amount</th>\n",
       "      <th>Sleep time</th>\n",
       "      <th>wet</th>\n",
       "      <th>solid</th>\n",
       "      <th>Pump Amount</th>\n",
       "      <th>Total Feed</th>\n",
       "      <th>leftfeed</th>\n",
       "      <th>rightfeed</th>\n",
       "    </tr>\n",
       "  </thead>\n",
       "  <tbody>\n",
       "    <tr>\n",
       "      <th>0</th>\n",
       "      <td>2015-06-21 01:17:09</td>\n",
       "      <td>0:0</td>\n",
       "      <td>1:18</td>\n",
       "      <td>0:0</td>\n",
       "      <td></td>\n",
       "      <td>NaN</td>\n",
       "      <td>NaN</td>\n",
       "      <td>NaN</td>\n",
       "      <td>NaN</td>\n",
       "      <td>1.300000</td>\n",
       "      <td>0.000000</td>\n",
       "      <td>1.300000</td>\n",
       "    </tr>\n",
       "    <tr>\n",
       "      <th>1</th>\n",
       "      <td>2015-06-21 02:00:39</td>\n",
       "      <td>7:31</td>\n",
       "      <td>0:0</td>\n",
       "      <td>0:0</td>\n",
       "      <td></td>\n",
       "      <td>NaN</td>\n",
       "      <td>NaN</td>\n",
       "      <td>NaN</td>\n",
       "      <td>NaN</td>\n",
       "      <td>7.516667</td>\n",
       "      <td>7.516667</td>\n",
       "      <td>0.000000</td>\n",
       "    </tr>\n",
       "    <tr>\n",
       "      <th>2</th>\n",
       "      <td>2015-06-21 02:37:57</td>\n",
       "      <td>14:3</td>\n",
       "      <td>0:0</td>\n",
       "      <td>0:0</td>\n",
       "      <td></td>\n",
       "      <td>NaN</td>\n",
       "      <td>NaN</td>\n",
       "      <td>NaN</td>\n",
       "      <td>NaN</td>\n",
       "      <td>14.500000</td>\n",
       "      <td>14.500000</td>\n",
       "      <td>0.000000</td>\n",
       "    </tr>\n",
       "    <tr>\n",
       "      <th>3</th>\n",
       "      <td>2015-06-21 05:23:55</td>\n",
       "      <td>0:0</td>\n",
       "      <td>20:0</td>\n",
       "      <td>0:0</td>\n",
       "      <td></td>\n",
       "      <td>NaN</td>\n",
       "      <td>NaN</td>\n",
       "      <td>NaN</td>\n",
       "      <td>NaN</td>\n",
       "      <td>20.000000</td>\n",
       "      <td>0.000000</td>\n",
       "      <td>20.000000</td>\n",
       "    </tr>\n",
       "    <tr>\n",
       "      <th>4</th>\n",
       "      <td>2015-06-21 05:47:59</td>\n",
       "      <td>22:11</td>\n",
       "      <td>0:0</td>\n",
       "      <td>0:0</td>\n",
       "      <td></td>\n",
       "      <td>NaN</td>\n",
       "      <td>NaN</td>\n",
       "      <td>NaN</td>\n",
       "      <td>NaN</td>\n",
       "      <td>22.183333</td>\n",
       "      <td>22.183333</td>\n",
       "      <td>0.000000</td>\n",
       "    </tr>\n",
       "    <tr>\n",
       "      <th>5</th>\n",
       "      <td>2015-06-21 06:24:35</td>\n",
       "      <td>0:0</td>\n",
       "      <td>15:50</td>\n",
       "      <td>0:0</td>\n",
       "      <td></td>\n",
       "      <td>NaN</td>\n",
       "      <td>NaN</td>\n",
       "      <td>NaN</td>\n",
       "      <td>NaN</td>\n",
       "      <td>15.833333</td>\n",
       "      <td>0.000000</td>\n",
       "      <td>15.833333</td>\n",
       "    </tr>\n",
       "    <tr>\n",
       "      <th>6</th>\n",
       "      <td>2015-06-21 07:50:08</td>\n",
       "      <td>13:37</td>\n",
       "      <td>0:0</td>\n",
       "      <td>0:0</td>\n",
       "      <td></td>\n",
       "      <td>NaN</td>\n",
       "      <td>NaN</td>\n",
       "      <td>NaN</td>\n",
       "      <td>NaN</td>\n",
       "      <td>13.616667</td>\n",
       "      <td>13.616667</td>\n",
       "      <td>0.000000</td>\n",
       "    </tr>\n",
       "    <tr>\n",
       "      <th>7</th>\n",
       "      <td>2015-06-21 08:44:12</td>\n",
       "      <td>0:0</td>\n",
       "      <td>9:40</td>\n",
       "      <td>0:0</td>\n",
       "      <td></td>\n",
       "      <td>NaN</td>\n",
       "      <td>NaN</td>\n",
       "      <td>NaN</td>\n",
       "      <td>NaN</td>\n",
       "      <td>9.666667</td>\n",
       "      <td>0.000000</td>\n",
       "      <td>9.666667</td>\n",
       "    </tr>\n",
       "  </tbody>\n",
       "</table>\n",
       "</div>"
      ],
      "text/plain": [
       "                 time    Left   Right Bottle Bottle Amount Sleep time  wet  \\\n",
       "0 2015-06-21 01:17:09     0:0    1:18    0:0                      NaN  NaN   \n",
       "1 2015-06-21 02:00:39    7:31     0:0    0:0                      NaN  NaN   \n",
       "2 2015-06-21 02:37:57    14:3     0:0    0:0                      NaN  NaN   \n",
       "3 2015-06-21 05:23:55     0:0    20:0    0:0                      NaN  NaN   \n",
       "4 2015-06-21 05:47:59   22:11     0:0    0:0                      NaN  NaN   \n",
       "5 2015-06-21 06:24:35     0:0   15:50    0:0                      NaN  NaN   \n",
       "6 2015-06-21 07:50:08   13:37     0:0    0:0                      NaN  NaN   \n",
       "7 2015-06-21 08:44:12     0:0    9:40    0:0                      NaN  NaN   \n",
       "\n",
       "  solid Pump Amount  Total Feed   leftfeed  rightfeed  \n",
       "0   NaN         NaN    1.300000   0.000000   1.300000  \n",
       "1   NaN         NaN    7.516667   7.516667   0.000000  \n",
       "2   NaN         NaN   14.500000  14.500000   0.000000  \n",
       "3   NaN         NaN   20.000000   0.000000  20.000000  \n",
       "4   NaN         NaN   22.183333  22.183333   0.000000  \n",
       "5   NaN         NaN   15.833333   0.000000  15.833333  \n",
       "6   NaN         NaN   13.616667  13.616667   0.000000  \n",
       "7   NaN         NaN    9.666667   0.000000   9.666667  "
      ]
     },
     "execution_count": 144,
     "metadata": {},
     "output_type": "execute_result"
    }
   ],
   "source": [
    "df[:8]"
   ]
  },
  {
   "cell_type": "code",
   "execution_count": 145,
   "metadata": {
    "collapsed": false
   },
   "outputs": [
    {
     "data": {
      "text/plain": [
       "'2015'"
      ]
     },
     "execution_count": 145,
     "metadata": {},
     "output_type": "execute_result"
    }
   ],
   "source": [
    "df['time'][0].strftime('%Y')"
   ]
  },
  {
   "cell_type": "code",
   "execution_count": 146,
   "metadata": {
    "collapsed": true
   },
   "outputs": [],
   "source": [
    "month = []"
   ]
  },
  {
   "cell_type": "code",
   "execution_count": 147,
   "metadata": {
    "collapsed": true
   },
   "outputs": [],
   "source": [
    "year = []"
   ]
  },
  {
   "cell_type": "code",
   "execution_count": 148,
   "metadata": {
    "collapsed": false
   },
   "outputs": [],
   "source": [
    "timeofday = []"
   ]
  },
  {
   "cell_type": "code",
   "execution_count": 149,
   "metadata": {
    "collapsed": false
   },
   "outputs": [],
   "source": [
    "for times in df['time']:\n",
    "    month.append(times.strftime('%m'))\n",
    "    year.append(times.strftime('%Y'))"
   ]
  },
  {
   "cell_type": "code",
   "execution_count": 150,
   "metadata": {
    "collapsed": false
   },
   "outputs": [],
   "source": [
    "for time in df['time']:\n",
    "    if int(time.strftime('%H')) <= 6:\n",
    "        timeofday.append('Late night')\n",
    "    elif 6 < int(time.strftime('%H')) <= 12:\n",
    "        timeofday.append('Morning')\n",
    "    elif 12 < int(time.strftime('%H')) <= 18:\n",
    "        timeofday.append('Afternoon')\n",
    "    elif 18 <= int(time.strftime('%H')):\n",
    "        timeofday.append('Evening')"
   ]
  },
  {
   "cell_type": "code",
   "execution_count": 151,
   "metadata": {
    "collapsed": false
   },
   "outputs": [],
   "source": [
    "df['Month'] = month"
   ]
  },
  {
   "cell_type": "code",
   "execution_count": 152,
   "metadata": {
    "collapsed": true
   },
   "outputs": [],
   "source": [
    "df['Year'] = year"
   ]
  },
  {
   "cell_type": "code",
   "execution_count": 153,
   "metadata": {
    "collapsed": false
   },
   "outputs": [],
   "source": [
    "df['Time of Day'] = timeofday"
   ]
  },
  {
   "cell_type": "code",
   "execution_count": 154,
   "metadata": {
    "collapsed": false
   },
   "outputs": [],
   "source": [
    "monthly = df.groupby([df['Year'],df['Month']])"
   ]
  },
  {
   "cell_type": "code",
   "execution_count": 155,
   "metadata": {
    "collapsed": false
   },
   "outputs": [
    {
     "data": {
      "text/html": [
       "<div>\n",
       "<table border=\"1\" class=\"dataframe\">\n",
       "  <thead>\n",
       "    <tr style=\"text-align: right;\">\n",
       "      <th></th>\n",
       "      <th></th>\n",
       "      <th>Total Feed</th>\n",
       "      <th>leftfeed</th>\n",
       "      <th>rightfeed</th>\n",
       "    </tr>\n",
       "    <tr>\n",
       "      <th>Year</th>\n",
       "      <th>Month</th>\n",
       "      <th></th>\n",
       "      <th></th>\n",
       "      <th></th>\n",
       "    </tr>\n",
       "  </thead>\n",
       "  <tbody>\n",
       "    <tr>\n",
       "      <th rowspan=\"8\" valign=\"top\">2015</th>\n",
       "      <th>05</th>\n",
       "      <td>NaN</td>\n",
       "      <td>NaN</td>\n",
       "      <td>NaN</td>\n",
       "    </tr>\n",
       "    <tr>\n",
       "      <th>06</th>\n",
       "      <td>17.883868</td>\n",
       "      <td>9.363996</td>\n",
       "      <td>8.519872</td>\n",
       "    </tr>\n",
       "    <tr>\n",
       "      <th>07</th>\n",
       "      <td>17.367562</td>\n",
       "      <td>8.602220</td>\n",
       "      <td>8.753660</td>\n",
       "    </tr>\n",
       "    <tr>\n",
       "      <th>08</th>\n",
       "      <td>17.109870</td>\n",
       "      <td>8.403593</td>\n",
       "      <td>8.602381</td>\n",
       "    </tr>\n",
       "    <tr>\n",
       "      <th>09</th>\n",
       "      <td>17.498765</td>\n",
       "      <td>8.319907</td>\n",
       "      <td>8.993673</td>\n",
       "    </tr>\n",
       "    <tr>\n",
       "      <th>10</th>\n",
       "      <td>16.128008</td>\n",
       "      <td>7.780966</td>\n",
       "      <td>8.095562</td>\n",
       "    </tr>\n",
       "    <tr>\n",
       "      <th>11</th>\n",
       "      <td>14.943805</td>\n",
       "      <td>7.980138</td>\n",
       "      <td>6.771927</td>\n",
       "    </tr>\n",
       "    <tr>\n",
       "      <th>12</th>\n",
       "      <td>15.042160</td>\n",
       "      <td>7.895957</td>\n",
       "      <td>6.850345</td>\n",
       "    </tr>\n",
       "    <tr>\n",
       "      <th>2016</th>\n",
       "      <th>01</th>\n",
       "      <td>15.609127</td>\n",
       "      <td>8.173479</td>\n",
       "      <td>7.376124</td>\n",
       "    </tr>\n",
       "  </tbody>\n",
       "</table>\n",
       "</div>"
      ],
      "text/plain": [
       "            Total Feed  leftfeed  rightfeed\n",
       "Year Month                                 \n",
       "2015 05            NaN       NaN        NaN\n",
       "     06      17.883868  9.363996   8.519872\n",
       "     07      17.367562  8.602220   8.753660\n",
       "     08      17.109870  8.403593   8.602381\n",
       "     09      17.498765  8.319907   8.993673\n",
       "     10      16.128008  7.780966   8.095562\n",
       "     11      14.943805  7.980138   6.771927\n",
       "     12      15.042160  7.895957   6.850345\n",
       "2016 01      15.609127  8.173479   7.376124"
      ]
     },
     "execution_count": 155,
     "metadata": {},
     "output_type": "execute_result"
    }
   ],
   "source": [
    "monthly.mean()"
   ]
  },
  {
   "cell_type": "code",
   "execution_count": 156,
   "metadata": {
    "collapsed": false,
    "scrolled": true
   },
   "outputs": [
    {
     "data": {
      "text/html": [
       "<div>\n",
       "<table border=\"1\" class=\"dataframe\">\n",
       "  <thead>\n",
       "    <tr style=\"text-align: right;\">\n",
       "      <th></th>\n",
       "      <th></th>\n",
       "      <th></th>\n",
       "      <th>Total Feed</th>\n",
       "      <th>leftfeed</th>\n",
       "      <th>rightfeed</th>\n",
       "    </tr>\n",
       "    <tr>\n",
       "      <th>Year</th>\n",
       "      <th>Month</th>\n",
       "      <th></th>\n",
       "      <th></th>\n",
       "      <th></th>\n",
       "      <th></th>\n",
       "    </tr>\n",
       "  </thead>\n",
       "  <tbody>\n",
       "    <tr>\n",
       "      <th rowspan=\"53\" valign=\"top\">2015</th>\n",
       "      <th rowspan=\"8\" valign=\"top\">05</th>\n",
       "      <th>count</th>\n",
       "      <td>0.000000</td>\n",
       "      <td>0.000000</td>\n",
       "      <td>0.000000</td>\n",
       "    </tr>\n",
       "    <tr>\n",
       "      <th>mean</th>\n",
       "      <td>NaN</td>\n",
       "      <td>NaN</td>\n",
       "      <td>NaN</td>\n",
       "    </tr>\n",
       "    <tr>\n",
       "      <th>std</th>\n",
       "      <td>NaN</td>\n",
       "      <td>NaN</td>\n",
       "      <td>NaN</td>\n",
       "    </tr>\n",
       "    <tr>\n",
       "      <th>min</th>\n",
       "      <td>NaN</td>\n",
       "      <td>NaN</td>\n",
       "      <td>NaN</td>\n",
       "    </tr>\n",
       "    <tr>\n",
       "      <th>25%</th>\n",
       "      <td>NaN</td>\n",
       "      <td>NaN</td>\n",
       "      <td>NaN</td>\n",
       "    </tr>\n",
       "    <tr>\n",
       "      <th>50%</th>\n",
       "      <td>NaN</td>\n",
       "      <td>NaN</td>\n",
       "      <td>NaN</td>\n",
       "    </tr>\n",
       "    <tr>\n",
       "      <th>75%</th>\n",
       "      <td>NaN</td>\n",
       "      <td>NaN</td>\n",
       "      <td>NaN</td>\n",
       "    </tr>\n",
       "    <tr>\n",
       "      <th>max</th>\n",
       "      <td>NaN</td>\n",
       "      <td>NaN</td>\n",
       "      <td>NaN</td>\n",
       "    </tr>\n",
       "    <tr>\n",
       "      <th rowspan=\"8\" valign=\"top\">06</th>\n",
       "      <th>count</th>\n",
       "      <td>156.000000</td>\n",
       "      <td>156.000000</td>\n",
       "      <td>156.000000</td>\n",
       "    </tr>\n",
       "    <tr>\n",
       "      <th>mean</th>\n",
       "      <td>17.883868</td>\n",
       "      <td>9.363996</td>\n",
       "      <td>8.519872</td>\n",
       "    </tr>\n",
       "    <tr>\n",
       "      <th>std</th>\n",
       "      <td>8.285943</td>\n",
       "      <td>9.973715</td>\n",
       "      <td>9.981003</td>\n",
       "    </tr>\n",
       "    <tr>\n",
       "      <th>min</th>\n",
       "      <td>1.300000</td>\n",
       "      <td>0.000000</td>\n",
       "      <td>0.000000</td>\n",
       "    </tr>\n",
       "    <tr>\n",
       "      <th>25%</th>\n",
       "      <td>12.500000</td>\n",
       "      <td>0.000000</td>\n",
       "      <td>0.000000</td>\n",
       "    </tr>\n",
       "    <tr>\n",
       "      <th>50%</th>\n",
       "      <td>15.416667</td>\n",
       "      <td>9.416667</td>\n",
       "      <td>4.150000</td>\n",
       "    </tr>\n",
       "    <tr>\n",
       "      <th>75%</th>\n",
       "      <td>20.762500</td>\n",
       "      <td>16.170833</td>\n",
       "      <td>15.000000</td>\n",
       "    </tr>\n",
       "    <tr>\n",
       "      <th>max</th>\n",
       "      <td>57.600000</td>\n",
       "      <td>40.916667</td>\n",
       "      <td>39.300000</td>\n",
       "    </tr>\n",
       "    <tr>\n",
       "      <th rowspan=\"8\" valign=\"top\">07</th>\n",
       "      <th>count</th>\n",
       "      <td>428.000000</td>\n",
       "      <td>428.000000</td>\n",
       "      <td>428.000000</td>\n",
       "    </tr>\n",
       "    <tr>\n",
       "      <th>mean</th>\n",
       "      <td>17.367562</td>\n",
       "      <td>8.602220</td>\n",
       "      <td>8.753660</td>\n",
       "    </tr>\n",
       "    <tr>\n",
       "      <th>std</th>\n",
       "      <td>8.440938</td>\n",
       "      <td>9.180466</td>\n",
       "      <td>9.398947</td>\n",
       "    </tr>\n",
       "    <tr>\n",
       "      <th>min</th>\n",
       "      <td>0.333333</td>\n",
       "      <td>0.000000</td>\n",
       "      <td>0.000000</td>\n",
       "    </tr>\n",
       "    <tr>\n",
       "      <th>25%</th>\n",
       "      <td>12.437500</td>\n",
       "      <td>0.000000</td>\n",
       "      <td>0.000000</td>\n",
       "    </tr>\n",
       "    <tr>\n",
       "      <th>50%</th>\n",
       "      <td>15.000000</td>\n",
       "      <td>8.208333</td>\n",
       "      <td>8.466667</td>\n",
       "    </tr>\n",
       "    <tr>\n",
       "      <th>75%</th>\n",
       "      <td>20.000000</td>\n",
       "      <td>15.000000</td>\n",
       "      <td>15.000000</td>\n",
       "    </tr>\n",
       "    <tr>\n",
       "      <th>max</th>\n",
       "      <td>50.000000</td>\n",
       "      <td>43.950000</td>\n",
       "      <td>44.666667</td>\n",
       "    </tr>\n",
       "    <tr>\n",
       "      <th rowspan=\"6\" valign=\"top\">08</th>\n",
       "      <th>count</th>\n",
       "      <td>385.000000</td>\n",
       "      <td>385.000000</td>\n",
       "      <td>385.000000</td>\n",
       "    </tr>\n",
       "    <tr>\n",
       "      <th>mean</th>\n",
       "      <td>17.109870</td>\n",
       "      <td>8.403593</td>\n",
       "      <td>8.602381</td>\n",
       "    </tr>\n",
       "    <tr>\n",
       "      <th>std</th>\n",
       "      <td>8.253485</td>\n",
       "      <td>8.884654</td>\n",
       "      <td>9.342838</td>\n",
       "    </tr>\n",
       "    <tr>\n",
       "      <th>min</th>\n",
       "      <td>0.000000</td>\n",
       "      <td>0.000000</td>\n",
       "      <td>0.000000</td>\n",
       "    </tr>\n",
       "    <tr>\n",
       "      <th>25%</th>\n",
       "      <td>13.316667</td>\n",
       "      <td>0.000000</td>\n",
       "      <td>0.000000</td>\n",
       "    </tr>\n",
       "    <tr>\n",
       "      <th>50%</th>\n",
       "      <td>15.000000</td>\n",
       "      <td>8.366667</td>\n",
       "      <td>8.366667</td>\n",
       "    </tr>\n",
       "    <tr>\n",
       "      <th>08</th>\n",
       "      <th>...</th>\n",
       "      <td>...</td>\n",
       "      <td>...</td>\n",
       "      <td>...</td>\n",
       "    </tr>\n",
       "    <tr>\n",
       "      <th rowspan=\"6\" valign=\"top\">10</th>\n",
       "      <th>std</th>\n",
       "      <td>7.132335</td>\n",
       "      <td>8.058134</td>\n",
       "      <td>8.604141</td>\n",
       "    </tr>\n",
       "    <tr>\n",
       "      <th>min</th>\n",
       "      <td>0.500000</td>\n",
       "      <td>0.000000</td>\n",
       "      <td>0.000000</td>\n",
       "    </tr>\n",
       "    <tr>\n",
       "      <th>25%</th>\n",
       "      <td>11.654167</td>\n",
       "      <td>0.000000</td>\n",
       "      <td>0.000000</td>\n",
       "    </tr>\n",
       "    <tr>\n",
       "      <th>50%</th>\n",
       "      <td>15.000000</td>\n",
       "      <td>8.000000</td>\n",
       "      <td>7.583333</td>\n",
       "    </tr>\n",
       "    <tr>\n",
       "      <th>75%</th>\n",
       "      <td>19.791667</td>\n",
       "      <td>15.000000</td>\n",
       "      <td>15.000000</td>\n",
       "    </tr>\n",
       "    <tr>\n",
       "      <th>max</th>\n",
       "      <td>42.850000</td>\n",
       "      <td>40.166667</td>\n",
       "      <td>42.850000</td>\n",
       "    </tr>\n",
       "    <tr>\n",
       "      <th rowspan=\"8\" valign=\"top\">11</th>\n",
       "      <th>count</th>\n",
       "      <td>339.000000</td>\n",
       "      <td>339.000000</td>\n",
       "      <td>339.000000</td>\n",
       "    </tr>\n",
       "    <tr>\n",
       "      <th>mean</th>\n",
       "      <td>14.943805</td>\n",
       "      <td>7.980138</td>\n",
       "      <td>6.771927</td>\n",
       "    </tr>\n",
       "    <tr>\n",
       "      <th>std</th>\n",
       "      <td>7.202140</td>\n",
       "      <td>8.731328</td>\n",
       "      <td>8.076711</td>\n",
       "    </tr>\n",
       "    <tr>\n",
       "      <th>min</th>\n",
       "      <td>0.166667</td>\n",
       "      <td>0.000000</td>\n",
       "      <td>0.000000</td>\n",
       "    </tr>\n",
       "    <tr>\n",
       "      <th>25%</th>\n",
       "      <td>9.666667</td>\n",
       "      <td>0.000000</td>\n",
       "      <td>0.000000</td>\n",
       "    </tr>\n",
       "    <tr>\n",
       "      <th>50%</th>\n",
       "      <td>15.000000</td>\n",
       "      <td>7.333333</td>\n",
       "      <td>5.000000</td>\n",
       "    </tr>\n",
       "    <tr>\n",
       "      <th>75%</th>\n",
       "      <td>18.000000</td>\n",
       "      <td>15.000000</td>\n",
       "      <td>13.150000</td>\n",
       "    </tr>\n",
       "    <tr>\n",
       "      <th>max</th>\n",
       "      <td>42.166667</td>\n",
       "      <td>42.166667</td>\n",
       "      <td>38.533333</td>\n",
       "    </tr>\n",
       "    <tr>\n",
       "      <th rowspan=\"8\" valign=\"top\">12</th>\n",
       "      <th>count</th>\n",
       "      <td>338.000000</td>\n",
       "      <td>338.000000</td>\n",
       "      <td>338.000000</td>\n",
       "    </tr>\n",
       "    <tr>\n",
       "      <th>mean</th>\n",
       "      <td>15.042160</td>\n",
       "      <td>7.895957</td>\n",
       "      <td>6.850345</td>\n",
       "    </tr>\n",
       "    <tr>\n",
       "      <th>std</th>\n",
       "      <td>7.722023</td>\n",
       "      <td>8.532760</td>\n",
       "      <td>7.553610</td>\n",
       "    </tr>\n",
       "    <tr>\n",
       "      <th>min</th>\n",
       "      <td>1.450000</td>\n",
       "      <td>0.000000</td>\n",
       "      <td>0.000000</td>\n",
       "    </tr>\n",
       "    <tr>\n",
       "      <th>25%</th>\n",
       "      <td>10.350000</td>\n",
       "      <td>0.000000</td>\n",
       "      <td>0.000000</td>\n",
       "    </tr>\n",
       "    <tr>\n",
       "      <th>50%</th>\n",
       "      <td>15.000000</td>\n",
       "      <td>7.325000</td>\n",
       "      <td>5.941667</td>\n",
       "    </tr>\n",
       "    <tr>\n",
       "      <th>75%</th>\n",
       "      <td>16.175000</td>\n",
       "      <td>14.750000</td>\n",
       "      <td>14.595833</td>\n",
       "    </tr>\n",
       "    <tr>\n",
       "      <th>max</th>\n",
       "      <td>56.983333</td>\n",
       "      <td>44.366667</td>\n",
       "      <td>44.816667</td>\n",
       "    </tr>\n",
       "    <tr>\n",
       "      <th rowspan=\"8\" valign=\"top\">2016</th>\n",
       "      <th rowspan=\"8\" valign=\"top\">01</th>\n",
       "      <th>count</th>\n",
       "      <td>252.000000</td>\n",
       "      <td>252.000000</td>\n",
       "      <td>252.000000</td>\n",
       "    </tr>\n",
       "    <tr>\n",
       "      <th>mean</th>\n",
       "      <td>15.609127</td>\n",
       "      <td>8.173479</td>\n",
       "      <td>7.376124</td>\n",
       "    </tr>\n",
       "    <tr>\n",
       "      <th>std</th>\n",
       "      <td>5.636214</td>\n",
       "      <td>7.714664</td>\n",
       "      <td>7.581042</td>\n",
       "    </tr>\n",
       "    <tr>\n",
       "      <th>min</th>\n",
       "      <td>0.000000</td>\n",
       "      <td>0.000000</td>\n",
       "      <td>0.000000</td>\n",
       "    </tr>\n",
       "    <tr>\n",
       "      <th>25%</th>\n",
       "      <td>13.366667</td>\n",
       "      <td>0.000000</td>\n",
       "      <td>0.000000</td>\n",
       "    </tr>\n",
       "    <tr>\n",
       "      <th>50%</th>\n",
       "      <td>15.000000</td>\n",
       "      <td>8.541667</td>\n",
       "      <td>7.133333</td>\n",
       "    </tr>\n",
       "    <tr>\n",
       "      <th>75%</th>\n",
       "      <td>16.929167</td>\n",
       "      <td>15.000000</td>\n",
       "      <td>15.000000</td>\n",
       "    </tr>\n",
       "    <tr>\n",
       "      <th>max</th>\n",
       "      <td>37.416667</td>\n",
       "      <td>31.666667</td>\n",
       "      <td>32.416667</td>\n",
       "    </tr>\n",
       "  </tbody>\n",
       "</table>\n",
       "<p>72 rows × 3 columns</p>\n",
       "</div>"
      ],
      "text/plain": [
       "                  Total Feed    leftfeed   rightfeed\n",
       "Year Month                                          \n",
       "2015 05    count    0.000000    0.000000    0.000000\n",
       "           mean          NaN         NaN         NaN\n",
       "           std           NaN         NaN         NaN\n",
       "           min           NaN         NaN         NaN\n",
       "           25%           NaN         NaN         NaN\n",
       "           50%           NaN         NaN         NaN\n",
       "           75%           NaN         NaN         NaN\n",
       "           max           NaN         NaN         NaN\n",
       "     06    count  156.000000  156.000000  156.000000\n",
       "           mean    17.883868    9.363996    8.519872\n",
       "           std      8.285943    9.973715    9.981003\n",
       "           min      1.300000    0.000000    0.000000\n",
       "           25%     12.500000    0.000000    0.000000\n",
       "           50%     15.416667    9.416667    4.150000\n",
       "           75%     20.762500   16.170833   15.000000\n",
       "           max     57.600000   40.916667   39.300000\n",
       "     07    count  428.000000  428.000000  428.000000\n",
       "           mean    17.367562    8.602220    8.753660\n",
       "           std      8.440938    9.180466    9.398947\n",
       "           min      0.333333    0.000000    0.000000\n",
       "           25%     12.437500    0.000000    0.000000\n",
       "           50%     15.000000    8.208333    8.466667\n",
       "           75%     20.000000   15.000000   15.000000\n",
       "           max     50.000000   43.950000   44.666667\n",
       "     08    count  385.000000  385.000000  385.000000\n",
       "           mean    17.109870    8.403593    8.602381\n",
       "           std      8.253485    8.884654    9.342838\n",
       "           min      0.000000    0.000000    0.000000\n",
       "           25%     13.316667    0.000000    0.000000\n",
       "           50%     15.000000    8.366667    8.366667\n",
       "...                      ...         ...         ...\n",
       "     10    std      7.132335    8.058134    8.604141\n",
       "           min      0.500000    0.000000    0.000000\n",
       "           25%     11.654167    0.000000    0.000000\n",
       "           50%     15.000000    8.000000    7.583333\n",
       "           75%     19.791667   15.000000   15.000000\n",
       "           max     42.850000   40.166667   42.850000\n",
       "     11    count  339.000000  339.000000  339.000000\n",
       "           mean    14.943805    7.980138    6.771927\n",
       "           std      7.202140    8.731328    8.076711\n",
       "           min      0.166667    0.000000    0.000000\n",
       "           25%      9.666667    0.000000    0.000000\n",
       "           50%     15.000000    7.333333    5.000000\n",
       "           75%     18.000000   15.000000   13.150000\n",
       "           max     42.166667   42.166667   38.533333\n",
       "     12    count  338.000000  338.000000  338.000000\n",
       "           mean    15.042160    7.895957    6.850345\n",
       "           std      7.722023    8.532760    7.553610\n",
       "           min      1.450000    0.000000    0.000000\n",
       "           25%     10.350000    0.000000    0.000000\n",
       "           50%     15.000000    7.325000    5.941667\n",
       "           75%     16.175000   14.750000   14.595833\n",
       "           max     56.983333   44.366667   44.816667\n",
       "2016 01    count  252.000000  252.000000  252.000000\n",
       "           mean    15.609127    8.173479    7.376124\n",
       "           std      5.636214    7.714664    7.581042\n",
       "           min      0.000000    0.000000    0.000000\n",
       "           25%     13.366667    0.000000    0.000000\n",
       "           50%     15.000000    8.541667    7.133333\n",
       "           75%     16.929167   15.000000   15.000000\n",
       "           max     37.416667   31.666667   32.416667\n",
       "\n",
       "[72 rows x 3 columns]"
      ]
     },
     "execution_count": 156,
     "metadata": {},
     "output_type": "execute_result"
    }
   ],
   "source": [
    "monthly.describe()"
   ]
  },
  {
   "cell_type": "code",
   "execution_count": 157,
   "metadata": {
    "collapsed": false
   },
   "outputs": [
    {
     "data": {
      "text/plain": [
       "<matplotlib.text.Text at 0x11a9ccbe0>"
      ]
     },
     "execution_count": 157,
     "metadata": {},
     "output_type": "execute_result"
    },
    {
     "data": {
      "image/png": "[encoded data removed]",
      "text/plain": [
       "<matplotlib.figure.Figure at 0x11a9c7748>"
      ]
     },
     "metadata": {},
     "output_type": "display_data"
    }
   ],
   "source": [
    "fig = plt.figure(); ax = fig.add_subplot(1,1,1)\n",
    "ax.set_title=(\"Average Length of Feeding Time\")\n",
    "ax.set_ylabel('ylabel')\n"
   ]
  },
  {
   "cell_type": "code",
   "execution_count": 158,
   "metadata": {
    "collapsed": true
   },
   "outputs": [],
   "source": [
    "rm15 = df[df['Total Feed'] != 15.]"
   ]
  },
  {
   "cell_type": "code",
   "execution_count": 159,
   "metadata": {
    "collapsed": true
   },
   "outputs": [],
   "source": [
    "monthly_rm15 = rm15.groupby([df['Year'],df['Month']])"
   ]
  },
  {
   "cell_type": "code",
   "execution_count": 160,
   "metadata": {
    "collapsed": false
   },
   "outputs": [
    {
     "data": {
      "text/plain": [
       "<matplotlib.text.Text at 0x11aa04e80>"
      ]
     },
     "execution_count": 160,
     "metadata": {},
     "output_type": "execute_result"
    },
    {
     "data": {
      "image/png": "[encoded data removed]",
      "text/plain": [
       "<matplotlib.figure.Figure at 0x11aa43358>"
      ]
     },
     "metadata": {},
     "output_type": "display_data"
    }
   ],
   "source": [
    "monthly_rm15['Total Feed'].mean().plot(kind='bar',color='b',alpha=0.3)\n",
    "plt.title('Average Length of Feeding (minutes)')"
   ]
  },
  {
   "cell_type": "code",
   "execution_count": 161,
   "metadata": {
    "collapsed": false
   },
   "outputs": [
    {
     "data": {
      "text/html": [
       "<div>\n",
       "<table border=\"1\" class=\"dataframe\">\n",
       "  <thead>\n",
       "    <tr style=\"text-align: right;\">\n",
       "      <th></th>\n",
       "      <th>time</th>\n",
       "      <th>Left</th>\n",
       "      <th>Right</th>\n",
       "      <th>Bottle</th>\n",
       "      <th>Bottle Amount</th>\n",
       "      <th>Sleep time</th>\n",
       "      <th>wet</th>\n",
       "      <th>solid</th>\n",
       "      <th>Pump Amount</th>\n",
       "      <th>Total Feed</th>\n",
       "      <th>leftfeed</th>\n",
       "      <th>rightfeed</th>\n",
       "      <th>Month</th>\n",
       "      <th>Year</th>\n",
       "      <th>Time of Day</th>\n",
       "    </tr>\n",
       "  </thead>\n",
       "  <tbody>\n",
       "    <tr>\n",
       "      <th>0</th>\n",
       "      <td>2015-06-21 01:17:09</td>\n",
       "      <td>0:0</td>\n",
       "      <td>1:18</td>\n",
       "      <td>0:0</td>\n",
       "      <td></td>\n",
       "      <td>NaN</td>\n",
       "      <td>NaN</td>\n",
       "      <td>NaN</td>\n",
       "      <td>NaN</td>\n",
       "      <td>1.300000</td>\n",
       "      <td>0.000000</td>\n",
       "      <td>1.300000</td>\n",
       "      <td>06</td>\n",
       "      <td>2015</td>\n",
       "      <td>Late night</td>\n",
       "    </tr>\n",
       "    <tr>\n",
       "      <th>1</th>\n",
       "      <td>2015-06-21 02:00:39</td>\n",
       "      <td>7:31</td>\n",
       "      <td>0:0</td>\n",
       "      <td>0:0</td>\n",
       "      <td></td>\n",
       "      <td>NaN</td>\n",
       "      <td>NaN</td>\n",
       "      <td>NaN</td>\n",
       "      <td>NaN</td>\n",
       "      <td>7.516667</td>\n",
       "      <td>7.516667</td>\n",
       "      <td>0.000000</td>\n",
       "      <td>06</td>\n",
       "      <td>2015</td>\n",
       "      <td>Late night</td>\n",
       "    </tr>\n",
       "    <tr>\n",
       "      <th>2</th>\n",
       "      <td>2015-06-21 02:37:57</td>\n",
       "      <td>14:3</td>\n",
       "      <td>0:0</td>\n",
       "      <td>0:0</td>\n",
       "      <td></td>\n",
       "      <td>NaN</td>\n",
       "      <td>NaN</td>\n",
       "      <td>NaN</td>\n",
       "      <td>NaN</td>\n",
       "      <td>14.500000</td>\n",
       "      <td>14.500000</td>\n",
       "      <td>0.000000</td>\n",
       "      <td>06</td>\n",
       "      <td>2015</td>\n",
       "      <td>Late night</td>\n",
       "    </tr>\n",
       "    <tr>\n",
       "      <th>3</th>\n",
       "      <td>2015-06-21 05:23:55</td>\n",
       "      <td>0:0</td>\n",
       "      <td>20:0</td>\n",
       "      <td>0:0</td>\n",
       "      <td></td>\n",
       "      <td>NaN</td>\n",
       "      <td>NaN</td>\n",
       "      <td>NaN</td>\n",
       "      <td>NaN</td>\n",
       "      <td>20.000000</td>\n",
       "      <td>0.000000</td>\n",
       "      <td>20.000000</td>\n",
       "      <td>06</td>\n",
       "      <td>2015</td>\n",
       "      <td>Late night</td>\n",
       "    </tr>\n",
       "    <tr>\n",
       "      <th>4</th>\n",
       "      <td>2015-06-21 05:47:59</td>\n",
       "      <td>22:11</td>\n",
       "      <td>0:0</td>\n",
       "      <td>0:0</td>\n",
       "      <td></td>\n",
       "      <td>NaN</td>\n",
       "      <td>NaN</td>\n",
       "      <td>NaN</td>\n",
       "      <td>NaN</td>\n",
       "      <td>22.183333</td>\n",
       "      <td>22.183333</td>\n",
       "      <td>0.000000</td>\n",
       "      <td>06</td>\n",
       "      <td>2015</td>\n",
       "      <td>Late night</td>\n",
       "    </tr>\n",
       "    <tr>\n",
       "      <th>5</th>\n",
       "      <td>2015-06-21 06:24:35</td>\n",
       "      <td>0:0</td>\n",
       "      <td>15:50</td>\n",
       "      <td>0:0</td>\n",
       "      <td></td>\n",
       "      <td>NaN</td>\n",
       "      <td>NaN</td>\n",
       "      <td>NaN</td>\n",
       "      <td>NaN</td>\n",
       "      <td>15.833333</td>\n",
       "      <td>0.000000</td>\n",
       "      <td>15.833333</td>\n",
       "      <td>06</td>\n",
       "      <td>2015</td>\n",
       "      <td>Late night</td>\n",
       "    </tr>\n",
       "    <tr>\n",
       "      <th>6</th>\n",
       "      <td>2015-06-21 07:50:08</td>\n",
       "      <td>13:37</td>\n",
       "      <td>0:0</td>\n",
       "      <td>0:0</td>\n",
       "      <td></td>\n",
       "      <td>NaN</td>\n",
       "      <td>NaN</td>\n",
       "      <td>NaN</td>\n",
       "      <td>NaN</td>\n",
       "      <td>13.616667</td>\n",
       "      <td>13.616667</td>\n",
       "      <td>0.000000</td>\n",
       "      <td>06</td>\n",
       "      <td>2015</td>\n",
       "      <td>Morning</td>\n",
       "    </tr>\n",
       "    <tr>\n",
       "      <th>7</th>\n",
       "      <td>2015-06-21 08:44:12</td>\n",
       "      <td>0:0</td>\n",
       "      <td>9:40</td>\n",
       "      <td>0:0</td>\n",
       "      <td></td>\n",
       "      <td>NaN</td>\n",
       "      <td>NaN</td>\n",
       "      <td>NaN</td>\n",
       "      <td>NaN</td>\n",
       "      <td>9.666667</td>\n",
       "      <td>0.000000</td>\n",
       "      <td>9.666667</td>\n",
       "      <td>06</td>\n",
       "      <td>2015</td>\n",
       "      <td>Morning</td>\n",
       "    </tr>\n",
       "  </tbody>\n",
       "</table>\n",
       "</div>"
      ],
      "text/plain": [
       "                 time    Left   Right Bottle Bottle Amount Sleep time  wet  \\\n",
       "0 2015-06-21 01:17:09     0:0    1:18    0:0                      NaN  NaN   \n",
       "1 2015-06-21 02:00:39    7:31     0:0    0:0                      NaN  NaN   \n",
       "2 2015-06-21 02:37:57    14:3     0:0    0:0                      NaN  NaN   \n",
       "3 2015-06-21 05:23:55     0:0    20:0    0:0                      NaN  NaN   \n",
       "4 2015-06-21 05:47:59   22:11     0:0    0:0                      NaN  NaN   \n",
       "5 2015-06-21 06:24:35     0:0   15:50    0:0                      NaN  NaN   \n",
       "6 2015-06-21 07:50:08   13:37     0:0    0:0                      NaN  NaN   \n",
       "7 2015-06-21 08:44:12     0:0    9:40    0:0                      NaN  NaN   \n",
       "\n",
       "  solid Pump Amount  Total Feed   leftfeed  rightfeed Month  Year Time of Day  \n",
       "0   NaN         NaN    1.300000   0.000000   1.300000    06  2015  Late night  \n",
       "1   NaN         NaN    7.516667   7.516667   0.000000    06  2015  Late night  \n",
       "2   NaN         NaN   14.500000  14.500000   0.000000    06  2015  Late night  \n",
       "3   NaN         NaN   20.000000   0.000000  20.000000    06  2015  Late night  \n",
       "4   NaN         NaN   22.183333  22.183333   0.000000    06  2015  Late night  \n",
       "5   NaN         NaN   15.833333   0.000000  15.833333    06  2015  Late night  \n",
       "6   NaN         NaN   13.616667  13.616667   0.000000    06  2015     Morning  \n",
       "7   NaN         NaN    9.666667   0.000000   9.666667    06  2015     Morning  "
      ]
     },
     "execution_count": 161,
     "metadata": {},
     "output_type": "execute_result"
    }
   ],
   "source": [
    "df[:8]"
   ]
  },
  {
   "cell_type": "code",
   "execution_count": 162,
   "metadata": {
    "collapsed": true
   },
   "outputs": [],
   "source": [
    "daytime = df.groupby(\"Time of Day\")"
   ]
  },
  {
   "cell_type": "code",
   "execution_count": 163,
   "metadata": {
    "collapsed": false
   },
   "outputs": [],
   "source": [
    "data = pd.Series(df['Time of Day'])#, index = ['Morning','Afternoon','Evening','Late Night'])"
   ]
  },
  {
   "cell_type": "code",
   "execution_count": 164,
   "metadata": {
    "collapsed": false
   },
   "outputs": [
    {
     "data": {
      "text/plain": [
       "0    Late night\n",
       "1    Late night\n",
       "2    Late night\n",
       "3    Late night\n",
       "4    Late night\n",
       "5    Late night\n",
       "6       Morning\n",
       "7       Morning\n",
       "Name: Time of Day, dtype: object"
      ]
     },
     "execution_count": 164,
     "metadata": {},
     "output_type": "execute_result"
    }
   ],
   "source": [
    "data[:8]"
   ]
  },
  {
   "cell_type": "code",
   "execution_count": 165,
   "metadata": {
    "collapsed": false
   },
   "outputs": [
    {
     "data": {
      "text/plain": [
       "<matplotlib.axes._subplots.AxesSubplot at 0x11aade5c0>"
      ]
     },
     "execution_count": 165,
     "metadata": {},
     "output_type": "execute_result"
    },
    {
     "data": {
      "image/png": "[encoded data removed]",
      "text/plain": [
       "<matplotlib.figure.Figure at 0x11aabdc88>"
      ]
     },
     "metadata": {},
     "output_type": "display_data"
    }
   ],
   "source": [
    "data.value_counts().plot(kind='barh')"
   ]
  },
  {
   "cell_type": "code",
   "execution_count": 166,
   "metadata": {
    "collapsed": false
   },
   "outputs": [],
   "source": [
    "timelen = pd.cut(df['Total Feed'], 5)"
   ]
  },
  {
   "cell_type": "code",
   "execution_count": 167,
   "metadata": {
    "collapsed": false
   },
   "outputs": [
    {
     "data": {
      "text/plain": [
       "0    (-0.06, 12]\n",
       "1    (-0.06, 12]\n",
       "2       (12, 24]\n",
       "3       (12, 24]\n",
       "4       (12, 24]\n",
       "Name: Total Feed, dtype: category\n",
       "Categories (5, object): [(-0.06, 12] < (12, 24] < (24, 36] < (36, 48] < (48, 60]]"
      ]
     },
     "execution_count": 167,
     "metadata": {},
     "output_type": "execute_result"
    }
   ],
   "source": [
    "timelen[:5]"
   ]
  },
  {
   "cell_type": "code",
   "execution_count": 168,
   "metadata": {
    "collapsed": false
   },
   "outputs": [],
   "source": [
    "feedtime = pd.crosstab(df['Time of Day'],timelen)"
   ]
  },
  {
   "cell_type": "code",
   "execution_count": 169,
   "metadata": {
    "collapsed": false
   },
   "outputs": [
    {
     "data": {
      "text/html": [
       "<div>\n",
       "<table border=\"1\" class=\"dataframe\">\n",
       "  <thead>\n",
       "    <tr style=\"text-align: right;\">\n",
       "      <th>Total Feed</th>\n",
       "      <th>(-0.06, 12]</th>\n",
       "      <th>(12, 24]</th>\n",
       "      <th>(24, 36]</th>\n",
       "      <th>(36, 48]</th>\n",
       "      <th>(48, 60]</th>\n",
       "    </tr>\n",
       "    <tr>\n",
       "      <th>Time of Day</th>\n",
       "      <th></th>\n",
       "      <th></th>\n",
       "      <th></th>\n",
       "      <th></th>\n",
       "      <th></th>\n",
       "    </tr>\n",
       "  </thead>\n",
       "  <tbody>\n",
       "    <tr>\n",
       "      <th>Afternoon</th>\n",
       "      <td>177</td>\n",
       "      <td>375</td>\n",
       "      <td>54</td>\n",
       "      <td>7</td>\n",
       "      <td>0</td>\n",
       "    </tr>\n",
       "    <tr>\n",
       "      <th>Evening</th>\n",
       "      <td>137</td>\n",
       "      <td>327</td>\n",
       "      <td>73</td>\n",
       "      <td>16</td>\n",
       "      <td>1</td>\n",
       "    </tr>\n",
       "    <tr>\n",
       "      <th>Late night</th>\n",
       "      <td>153</td>\n",
       "      <td>448</td>\n",
       "      <td>90</td>\n",
       "      <td>36</td>\n",
       "      <td>6</td>\n",
       "    </tr>\n",
       "    <tr>\n",
       "      <th>Morning</th>\n",
       "      <td>179</td>\n",
       "      <td>422</td>\n",
       "      <td>47</td>\n",
       "      <td>11</td>\n",
       "      <td>1</td>\n",
       "    </tr>\n",
       "  </tbody>\n",
       "</table>\n",
       "</div>"
      ],
      "text/plain": [
       "Total Feed   (-0.06, 12]  (12, 24]  (24, 36]  (36, 48]  (48, 60]\n",
       "Time of Day                                                     \n",
       "Afternoon            177       375        54         7         0\n",
       "Evening              137       327        73        16         1\n",
       "Late night           153       448        90        36         6\n",
       "Morning              179       422        47        11         1"
      ]
     },
     "execution_count": 169,
     "metadata": {},
     "output_type": "execute_result"
    }
   ],
   "source": [
    "feedtime"
   ]
  },
  {
   "cell_type": "code",
   "execution_count": 170,
   "metadata": {
    "collapsed": false
   },
   "outputs": [
    {
     "data": {
      "text/plain": [
       "<matplotlib.legend.Legend at 0x118ac24e0>"
      ]
     },
     "execution_count": 170,
     "metadata": {},
     "output_type": "execute_result"
    },
    {
     "data": {
      "image/png": "[encoded data removed]",
      "text/plain": [
       "<matplotlib.figure.Figure at 0x118ac2dd8>"
      ]
     },
     "metadata": {},
     "output_type": "display_data"
    }
   ],
   "source": [
    "feedtime.plot(kind='barh', stacked = True)\n",
    "plt.legend(loc='best')"
   ]
  },
  {
   "cell_type": "code",
   "execution_count": 231,
   "metadata": {
    "collapsed": false
   },
   "outputs": [
    {
     "data": {
      "text/html": [
       "<div>\n",
       "<table border=\"1\" class=\"dataframe\">\n",
       "  <thead>\n",
       "    <tr style=\"text-align: right;\">\n",
       "      <th></th>\n",
       "      <th>time</th>\n",
       "      <th>Left</th>\n",
       "      <th>Right</th>\n",
       "      <th>Bottle</th>\n",
       "      <th>Bottle Amount</th>\n",
       "      <th>Sleep time</th>\n",
       "      <th>wet</th>\n",
       "      <th>solid</th>\n",
       "      <th>Pump Amount</th>\n",
       "      <th>Total Feed</th>\n",
       "      <th>leftfeed</th>\n",
       "      <th>rightfeed</th>\n",
       "      <th>Month</th>\n",
       "      <th>Year</th>\n",
       "      <th>Time of Day</th>\n",
       "    </tr>\n",
       "  </thead>\n",
       "  <tbody>\n",
       "    <tr>\n",
       "      <th>0</th>\n",
       "      <td>2015-06-21 01:17:09</td>\n",
       "      <td>0:0</td>\n",
       "      <td>1:18</td>\n",
       "      <td>0:0</td>\n",
       "      <td></td>\n",
       "      <td>NaN</td>\n",
       "      <td>NaN</td>\n",
       "      <td>NaN</td>\n",
       "      <td>NaN</td>\n",
       "      <td>1.300000</td>\n",
       "      <td>0.000000</td>\n",
       "      <td>1.300000</td>\n",
       "      <td>06</td>\n",
       "      <td>2015</td>\n",
       "      <td>Late night</td>\n",
       "    </tr>\n",
       "    <tr>\n",
       "      <th>1</th>\n",
       "      <td>2015-06-21 02:00:39</td>\n",
       "      <td>7:31</td>\n",
       "      <td>0:0</td>\n",
       "      <td>0:0</td>\n",
       "      <td></td>\n",
       "      <td>NaN</td>\n",
       "      <td>NaN</td>\n",
       "      <td>NaN</td>\n",
       "      <td>NaN</td>\n",
       "      <td>7.516667</td>\n",
       "      <td>7.516667</td>\n",
       "      <td>0.000000</td>\n",
       "      <td>06</td>\n",
       "      <td>2015</td>\n",
       "      <td>Late night</td>\n",
       "    </tr>\n",
       "    <tr>\n",
       "      <th>2</th>\n",
       "      <td>2015-06-21 02:37:57</td>\n",
       "      <td>14:3</td>\n",
       "      <td>0:0</td>\n",
       "      <td>0:0</td>\n",
       "      <td></td>\n",
       "      <td>NaN</td>\n",
       "      <td>NaN</td>\n",
       "      <td>NaN</td>\n",
       "      <td>NaN</td>\n",
       "      <td>14.500000</td>\n",
       "      <td>14.500000</td>\n",
       "      <td>0.000000</td>\n",
       "      <td>06</td>\n",
       "      <td>2015</td>\n",
       "      <td>Late night</td>\n",
       "    </tr>\n",
       "    <tr>\n",
       "      <th>3</th>\n",
       "      <td>2015-06-21 05:23:55</td>\n",
       "      <td>0:0</td>\n",
       "      <td>20:0</td>\n",
       "      <td>0:0</td>\n",
       "      <td></td>\n",
       "      <td>NaN</td>\n",
       "      <td>NaN</td>\n",
       "      <td>NaN</td>\n",
       "      <td>NaN</td>\n",
       "      <td>20.000000</td>\n",
       "      <td>0.000000</td>\n",
       "      <td>20.000000</td>\n",
       "      <td>06</td>\n",
       "      <td>2015</td>\n",
       "      <td>Late night</td>\n",
       "    </tr>\n",
       "    <tr>\n",
       "      <th>4</th>\n",
       "      <td>2015-06-21 05:47:59</td>\n",
       "      <td>22:11</td>\n",
       "      <td>0:0</td>\n",
       "      <td>0:0</td>\n",
       "      <td></td>\n",
       "      <td>NaN</td>\n",
       "      <td>NaN</td>\n",
       "      <td>NaN</td>\n",
       "      <td>NaN</td>\n",
       "      <td>22.183333</td>\n",
       "      <td>22.183333</td>\n",
       "      <td>0.000000</td>\n",
       "      <td>06</td>\n",
       "      <td>2015</td>\n",
       "      <td>Late night</td>\n",
       "    </tr>\n",
       "    <tr>\n",
       "      <th>5</th>\n",
       "      <td>2015-06-21 06:24:35</td>\n",
       "      <td>0:0</td>\n",
       "      <td>15:50</td>\n",
       "      <td>0:0</td>\n",
       "      <td></td>\n",
       "      <td>NaN</td>\n",
       "      <td>NaN</td>\n",
       "      <td>NaN</td>\n",
       "      <td>NaN</td>\n",
       "      <td>15.833333</td>\n",
       "      <td>0.000000</td>\n",
       "      <td>15.833333</td>\n",
       "      <td>06</td>\n",
       "      <td>2015</td>\n",
       "      <td>Late night</td>\n",
       "    </tr>\n",
       "    <tr>\n",
       "      <th>6</th>\n",
       "      <td>2015-06-21 07:50:08</td>\n",
       "      <td>13:37</td>\n",
       "      <td>0:0</td>\n",
       "      <td>0:0</td>\n",
       "      <td></td>\n",
       "      <td>NaN</td>\n",
       "      <td>NaN</td>\n",
       "      <td>NaN</td>\n",
       "      <td>NaN</td>\n",
       "      <td>13.616667</td>\n",
       "      <td>13.616667</td>\n",
       "      <td>0.000000</td>\n",
       "      <td>06</td>\n",
       "      <td>2015</td>\n",
       "      <td>Morning</td>\n",
       "    </tr>\n",
       "    <tr>\n",
       "      <th>7</th>\n",
       "      <td>2015-06-21 08:44:12</td>\n",
       "      <td>0:0</td>\n",
       "      <td>9:40</td>\n",
       "      <td>0:0</td>\n",
       "      <td></td>\n",
       "      <td>NaN</td>\n",
       "      <td>NaN</td>\n",
       "      <td>NaN</td>\n",
       "      <td>NaN</td>\n",
       "      <td>9.666667</td>\n",
       "      <td>0.000000</td>\n",
       "      <td>9.666667</td>\n",
       "      <td>06</td>\n",
       "      <td>2015</td>\n",
       "      <td>Morning</td>\n",
       "    </tr>\n",
       "  </tbody>\n",
       "</table>\n",
       "</div>"
      ],
      "text/plain": [
       "                 time    Left   Right Bottle Bottle Amount Sleep time  wet  \\\n",
       "0 2015-06-21 01:17:09     0:0    1:18    0:0                      NaN  NaN   \n",
       "1 2015-06-21 02:00:39    7:31     0:0    0:0                      NaN  NaN   \n",
       "2 2015-06-21 02:37:57    14:3     0:0    0:0                      NaN  NaN   \n",
       "3 2015-06-21 05:23:55     0:0    20:0    0:0                      NaN  NaN   \n",
       "4 2015-06-21 05:47:59   22:11     0:0    0:0                      NaN  NaN   \n",
       "5 2015-06-21 06:24:35     0:0   15:50    0:0                      NaN  NaN   \n",
       "6 2015-06-21 07:50:08   13:37     0:0    0:0                      NaN  NaN   \n",
       "7 2015-06-21 08:44:12     0:0    9:40    0:0                      NaN  NaN   \n",
       "\n",
       "  solid Pump Amount  Total Feed   leftfeed  rightfeed Month  Year Time of Day  \n",
       "0   NaN         NaN    1.300000   0.000000   1.300000    06  2015  Late night  \n",
       "1   NaN         NaN    7.516667   7.516667   0.000000    06  2015  Late night  \n",
       "2   NaN         NaN   14.500000  14.500000   0.000000    06  2015  Late night  \n",
       "3   NaN         NaN   20.000000   0.000000  20.000000    06  2015  Late night  \n",
       "4   NaN         NaN   22.183333  22.183333   0.000000    06  2015  Late night  \n",
       "5   NaN         NaN   15.833333   0.000000  15.833333    06  2015  Late night  \n",
       "6   NaN         NaN   13.616667  13.616667   0.000000    06  2015     Morning  \n",
       "7   NaN         NaN    9.666667   0.000000   9.666667    06  2015     Morning  "
      ]
     },
     "execution_count": 231,
     "metadata": {},
     "output_type": "execute_result"
    }
   ],
   "source": [
    "df[:8]"
   ]
  },
  {
   "cell_type": "code",
   "execution_count": 172,
   "metadata": {
    "collapsed": false
   },
   "outputs": [],
   "source": [
    "feeddf = pd.DataFrame({'time':df.time,'leftfeed':df.leftfeed,\n",
    "                       'rightfeed':df.rightfeed, 'botfeed': bottime,\n",
    "                       'totfeed':df['Total Feed'], 'month':df.Month,\n",
    "                       'ToD':df['Time of Day'], 'year':df.Year})"
   ]
  },
  {
   "cell_type": "code",
   "execution_count": 173,
   "metadata": {
    "collapsed": false
   },
   "outputs": [],
   "source": [
    "feeddf = pd.DataFrame(df, columns=['time','Year','Month','Time of Day','leftfeed','rightfeed','Total Feed'])"
   ]
  },
  {
   "cell_type": "code",
   "execution_count": 174,
   "metadata": {
    "collapsed": false
   },
   "outputs": [
    {
     "data": {
      "text/html": [
       "<div>\n",
       "<table border=\"1\" class=\"dataframe\">\n",
       "  <thead>\n",
       "    <tr style=\"text-align: right;\">\n",
       "      <th></th>\n",
       "      <th>time</th>\n",
       "      <th>Year</th>\n",
       "      <th>Month</th>\n",
       "      <th>Time of Day</th>\n",
       "      <th>leftfeed</th>\n",
       "      <th>rightfeed</th>\n",
       "      <th>Total Feed</th>\n",
       "    </tr>\n",
       "  </thead>\n",
       "  <tbody>\n",
       "    <tr>\n",
       "      <th>1010</th>\n",
       "      <td>2015-09-04 03:43:00</td>\n",
       "      <td>2015</td>\n",
       "      <td>09</td>\n",
       "      <td>Late night</td>\n",
       "      <td>0.000000</td>\n",
       "      <td>0.000000</td>\n",
       "      <td>5.000000</td>\n",
       "    </tr>\n",
       "    <tr>\n",
       "      <th>1011</th>\n",
       "      <td>2015-09-04 05:03:57</td>\n",
       "      <td>2015</td>\n",
       "      <td>09</td>\n",
       "      <td>Late night</td>\n",
       "      <td>15.900000</td>\n",
       "      <td>0.000000</td>\n",
       "      <td>15.900000</td>\n",
       "    </tr>\n",
       "    <tr>\n",
       "      <th>1012</th>\n",
       "      <td>2015-09-04 08:07:27</td>\n",
       "      <td>2015</td>\n",
       "      <td>09</td>\n",
       "      <td>Morning</td>\n",
       "      <td>0.000000</td>\n",
       "      <td>15.000000</td>\n",
       "      <td>15.000000</td>\n",
       "    </tr>\n",
       "    <tr>\n",
       "      <th>1013</th>\n",
       "      <td>2015-09-04 10:41:19</td>\n",
       "      <td>2015</td>\n",
       "      <td>09</td>\n",
       "      <td>Morning</td>\n",
       "      <td>15.000000</td>\n",
       "      <td>0.000000</td>\n",
       "      <td>15.000000</td>\n",
       "    </tr>\n",
       "    <tr>\n",
       "      <th>1014</th>\n",
       "      <td>2015-09-04 13:29:20</td>\n",
       "      <td>2015</td>\n",
       "      <td>09</td>\n",
       "      <td>Afternoon</td>\n",
       "      <td>20.666667</td>\n",
       "      <td>0.000000</td>\n",
       "      <td>20.666667</td>\n",
       "    </tr>\n",
       "    <tr>\n",
       "      <th>1015</th>\n",
       "      <td>2015-09-04 15:51:01</td>\n",
       "      <td>2015</td>\n",
       "      <td>09</td>\n",
       "      <td>Afternoon</td>\n",
       "      <td>0.000000</td>\n",
       "      <td>15.000000</td>\n",
       "      <td>15.000000</td>\n",
       "    </tr>\n",
       "    <tr>\n",
       "      <th>1016</th>\n",
       "      <td>2015-09-04 17:34:39</td>\n",
       "      <td>2015</td>\n",
       "      <td>09</td>\n",
       "      <td>Afternoon</td>\n",
       "      <td>15.000000</td>\n",
       "      <td>0.000000</td>\n",
       "      <td>15.000000</td>\n",
       "    </tr>\n",
       "    <tr>\n",
       "      <th>1017</th>\n",
       "      <td>2015-09-04 19:16:23</td>\n",
       "      <td>2015</td>\n",
       "      <td>09</td>\n",
       "      <td>Evening</td>\n",
       "      <td>0.000000</td>\n",
       "      <td>15.416667</td>\n",
       "      <td>15.416667</td>\n",
       "    </tr>\n",
       "    <tr>\n",
       "      <th>1018</th>\n",
       "      <td>2015-09-04 21:04:53</td>\n",
       "      <td>2015</td>\n",
       "      <td>09</td>\n",
       "      <td>Evening</td>\n",
       "      <td>14.500000</td>\n",
       "      <td>0.000000</td>\n",
       "      <td>14.500000</td>\n",
       "    </tr>\n",
       "    <tr>\n",
       "      <th>1019</th>\n",
       "      <td>2015-09-05 00:28:08</td>\n",
       "      <td>2015</td>\n",
       "      <td>09</td>\n",
       "      <td>Late night</td>\n",
       "      <td>0.000000</td>\n",
       "      <td>15.000000</td>\n",
       "      <td>15.000000</td>\n",
       "    </tr>\n",
       "  </tbody>\n",
       "</table>\n",
       "</div>"
      ],
      "text/plain": [
       "                    time  Year Month Time of Day   leftfeed  rightfeed  \\\n",
       "1010 2015-09-04 03:43:00  2015    09  Late night   0.000000   0.000000   \n",
       "1011 2015-09-04 05:03:57  2015    09  Late night  15.900000   0.000000   \n",
       "1012 2015-09-04 08:07:27  2015    09     Morning   0.000000  15.000000   \n",
       "1013 2015-09-04 10:41:19  2015    09     Morning  15.000000   0.000000   \n",
       "1014 2015-09-04 13:29:20  2015    09   Afternoon  20.666667   0.000000   \n",
       "1015 2015-09-04 15:51:01  2015    09   Afternoon   0.000000  15.000000   \n",
       "1016 2015-09-04 17:34:39  2015    09   Afternoon  15.000000   0.000000   \n",
       "1017 2015-09-04 19:16:23  2015    09     Evening   0.000000  15.416667   \n",
       "1018 2015-09-04 21:04:53  2015    09     Evening  14.500000   0.000000   \n",
       "1019 2015-09-05 00:28:08  2015    09  Late night   0.000000  15.000000   \n",
       "\n",
       "      Total Feed  \n",
       "1010    5.000000  \n",
       "1011   15.900000  \n",
       "1012   15.000000  \n",
       "1013   15.000000  \n",
       "1014   20.666667  \n",
       "1015   15.000000  \n",
       "1016   15.000000  \n",
       "1017   15.416667  \n",
       "1018   14.500000  \n",
       "1019   15.000000  "
      ]
     },
     "execution_count": 174,
     "metadata": {},
     "output_type": "execute_result"
    }
   ],
   "source": [
    "feeddf[1010:1020]"
   ]
  },
  {
   "cell_type": "code",
   "execution_count": 175,
   "metadata": {
    "collapsed": false
   },
   "outputs": [],
   "source": [
    "feeddf.insert(6,'botfeed',bottime)"
   ]
  },
  {
   "cell_type": "code",
   "execution_count": 176,
   "metadata": {
    "collapsed": false
   },
   "outputs": [],
   "source": [
    "ordered = feeddf.sort_values('time')"
   ]
  },
  {
   "cell_type": "code",
   "execution_count": 177,
   "metadata": {
    "collapsed": false
   },
   "outputs": [
    {
     "data": {
      "text/html": [
       "<div>\n",
       "<table border=\"1\" class=\"dataframe\">\n",
       "  <thead>\n",
       "    <tr style=\"text-align: right;\">\n",
       "      <th></th>\n",
       "      <th>time</th>\n",
       "      <th>Year</th>\n",
       "      <th>Month</th>\n",
       "      <th>Time of Day</th>\n",
       "      <th>leftfeed</th>\n",
       "      <th>rightfeed</th>\n",
       "      <th>botfeed</th>\n",
       "      <th>Total Feed</th>\n",
       "    </tr>\n",
       "  </thead>\n",
       "  <tbody>\n",
       "    <tr>\n",
       "      <th>927</th>\n",
       "      <td>2015-08-28 16:02:55</td>\n",
       "      <td>2015</td>\n",
       "      <td>08</td>\n",
       "      <td>Afternoon</td>\n",
       "      <td>0.000000</td>\n",
       "      <td>27.316667</td>\n",
       "      <td>0</td>\n",
       "      <td>27.316667</td>\n",
       "    </tr>\n",
       "    <tr>\n",
       "      <th>928</th>\n",
       "      <td>2015-08-28 18:05:22</td>\n",
       "      <td>2015</td>\n",
       "      <td>08</td>\n",
       "      <td>Afternoon</td>\n",
       "      <td>12.366667</td>\n",
       "      <td>0.000000</td>\n",
       "      <td>0</td>\n",
       "      <td>12.366667</td>\n",
       "    </tr>\n",
       "    <tr>\n",
       "      <th>929</th>\n",
       "      <td>2015-08-28 19:59:41</td>\n",
       "      <td>2015</td>\n",
       "      <td>08</td>\n",
       "      <td>Evening</td>\n",
       "      <td>0.000000</td>\n",
       "      <td>14.400000</td>\n",
       "      <td>0</td>\n",
       "      <td>14.400000</td>\n",
       "    </tr>\n",
       "    <tr>\n",
       "      <th>930</th>\n",
       "      <td>2015-08-28 21:27:10</td>\n",
       "      <td>2015</td>\n",
       "      <td>08</td>\n",
       "      <td>Evening</td>\n",
       "      <td>15.000000</td>\n",
       "      <td>0.000000</td>\n",
       "      <td>0</td>\n",
       "      <td>15.000000</td>\n",
       "    </tr>\n",
       "    <tr>\n",
       "      <th>931</th>\n",
       "      <td>2015-08-28 22:15:00</td>\n",
       "      <td>2015</td>\n",
       "      <td>08</td>\n",
       "      <td>Evening</td>\n",
       "      <td>0.000000</td>\n",
       "      <td>15.000000</td>\n",
       "      <td>0</td>\n",
       "      <td>15.000000</td>\n",
       "    </tr>\n",
       "    <tr>\n",
       "      <th>932</th>\n",
       "      <td>2015-08-29 02:11:07</td>\n",
       "      <td>2015</td>\n",
       "      <td>08</td>\n",
       "      <td>Late night</td>\n",
       "      <td>18.450000</td>\n",
       "      <td>0.000000</td>\n",
       "      <td>0</td>\n",
       "      <td>18.450000</td>\n",
       "    </tr>\n",
       "    <tr>\n",
       "      <th>933</th>\n",
       "      <td>2015-08-29 04:09:03</td>\n",
       "      <td>2015</td>\n",
       "      <td>08</td>\n",
       "      <td>Late night</td>\n",
       "      <td>0.000000</td>\n",
       "      <td>15.000000</td>\n",
       "      <td>0</td>\n",
       "      <td>15.000000</td>\n",
       "    </tr>\n",
       "    <tr>\n",
       "      <th>934</th>\n",
       "      <td>2015-08-29 07:40:51</td>\n",
       "      <td>2015</td>\n",
       "      <td>08</td>\n",
       "      <td>Morning</td>\n",
       "      <td>15.000000</td>\n",
       "      <td>0.000000</td>\n",
       "      <td>0</td>\n",
       "      <td>15.000000</td>\n",
       "    </tr>\n",
       "    <tr>\n",
       "      <th>935</th>\n",
       "      <td>2015-08-29 09:19:23</td>\n",
       "      <td>2015</td>\n",
       "      <td>08</td>\n",
       "      <td>Morning</td>\n",
       "      <td>15.000000</td>\n",
       "      <td>0.000000</td>\n",
       "      <td>0</td>\n",
       "      <td>15.000000</td>\n",
       "    </tr>\n",
       "    <tr>\n",
       "      <th>936</th>\n",
       "      <td>2015-08-29 11:13:34</td>\n",
       "      <td>2015</td>\n",
       "      <td>08</td>\n",
       "      <td>Morning</td>\n",
       "      <td>0.000000</td>\n",
       "      <td>14.500000</td>\n",
       "      <td>0</td>\n",
       "      <td>14.500000</td>\n",
       "    </tr>\n",
       "  </tbody>\n",
       "</table>\n",
       "</div>"
      ],
      "text/plain": [
       "                   time  Year Month Time of Day   leftfeed  rightfeed  \\\n",
       "927 2015-08-28 16:02:55  2015    08   Afternoon   0.000000  27.316667   \n",
       "928 2015-08-28 18:05:22  2015    08   Afternoon  12.366667   0.000000   \n",
       "929 2015-08-28 19:59:41  2015    08     Evening   0.000000  14.400000   \n",
       "930 2015-08-28 21:27:10  2015    08     Evening  15.000000   0.000000   \n",
       "931 2015-08-28 22:15:00  2015    08     Evening   0.000000  15.000000   \n",
       "932 2015-08-29 02:11:07  2015    08  Late night  18.450000   0.000000   \n",
       "933 2015-08-29 04:09:03  2015    08  Late night   0.000000  15.000000   \n",
       "934 2015-08-29 07:40:51  2015    08     Morning  15.000000   0.000000   \n",
       "935 2015-08-29 09:19:23  2015    08     Morning  15.000000   0.000000   \n",
       "936 2015-08-29 11:13:34  2015    08     Morning   0.000000  14.500000   \n",
       "\n",
       "     botfeed  Total Feed  \n",
       "927        0   27.316667  \n",
       "928        0   12.366667  \n",
       "929        0   14.400000  \n",
       "930        0   15.000000  \n",
       "931        0   15.000000  \n",
       "932        0   18.450000  \n",
       "933        0   15.000000  \n",
       "934        0   15.000000  \n",
       "935        0   15.000000  \n",
       "936        0   14.500000  "
      ]
     },
     "execution_count": 177,
     "metadata": {},
     "output_type": "execute_result"
    }
   ],
   "source": [
    "ordered[1010:1020]"
   ]
  },
  {
   "cell_type": "code",
   "execution_count": 178,
   "metadata": {
    "collapsed": false
   },
   "outputs": [],
   "source": [
    "del feeddf['botfeed']"
   ]
  },
  {
   "cell_type": "code",
   "execution_count": 179,
   "metadata": {
    "collapsed": false
   },
   "outputs": [
    {
     "data": {
      "text/plain": [
       " O    20\n",
       " -    13\n",
       "       3\n",
       "Name: solid, dtype: int64"
      ]
     },
     "execution_count": 179,
     "metadata": {},
     "output_type": "execute_result"
    }
   ],
   "source": [
    "df.solid.value_counts()"
   ]
  },
  {
   "cell_type": "code",
   "execution_count": 223,
   "metadata": {
    "collapsed": false,
    "scrolled": true
   },
   "outputs": [
    {
     "data": {
      "text/plain": [
       "2000          \n",
       "2001          \n",
       "2002          \n",
       "2003          \n",
       "2004          \n",
       "2005          \n",
       "2006          \n",
       "2007          \n",
       "2008          \n",
       "2009     4.5oz\n",
       "2010       2oz\n",
       "2011     1.5oz\n",
       "Name: Bottle Amount, dtype: object"
      ]
     },
     "execution_count": 223,
     "metadata": {},
     "output_type": "execute_result"
    }
   ],
   "source": [
    "df['Bottle Amount'][2000:2012]"
   ]
  },
  {
   "cell_type": "code",
   "execution_count": 221,
   "metadata": {
    "collapsed": true
   },
   "outputs": [],
   "source": [
    "botamt = []\n",
    "for amt in df['Bottle Amount']:\n",
    "    if 'oz' not in amt:\n",
    "        newamt = float('NaN')\n",
    "    else:\n",
    "        newamt = amt.strip().replace('oz','')\n",
    "    botamt.append(newamt)"
   ]
  },
  {
   "cell_type": "code",
   "execution_count": 227,
   "metadata": {
    "collapsed": false
   },
   "outputs": [
    {
     "data": {
      "text/plain": [
       "['0', '24', '1']"
      ]
     },
     "execution_count": 227,
     "metadata": {},
     "output_type": "execute_result"
    }
   ],
   "source": [
    "df['Sleep time'][3000].split(':')"
   ]
  },
  {
   "cell_type": "code",
   "execution_count": 229,
   "metadata": {
    "collapsed": false
   },
   "outputs": [
    {
     "data": {
      "text/plain": [
       "3000      0:24:1\n",
       "3001     1:33:18\n",
       "3002      10:0:0\n",
       "3003     0:34:21\n",
       "3004     0:34:11\n",
       "3005    11:29:25\n",
       "3006      0:40:4\n",
       "3007      1:30:0\n",
       "3008     1:23:37\n",
       "3009      9:35:5\n",
       "3010     0:27:43\n",
       "3011     0:26:47\n",
       "3012    10:26:35\n",
       "3013      1:50:0\n",
       "3014      0:30:0\n",
       "3015      0:36:0\n",
       "3016     10:20:0\n",
       "3017      1:47:3\n",
       "3018       3:9:0\n",
       "3019      0:25:0\n",
       "Name: Sleep time, dtype: object"
      ]
     },
     "execution_count": 229,
     "metadata": {},
     "output_type": "execute_result"
    }
   ],
   "source": [
    "df['Sleep time'][3000:3020]"
   ]
  },
  {
   "cell_type": "code",
   "execution_count": 273,
   "metadata": {
    "collapsed": false
   },
   "outputs": [],
   "source": [
    "hms = df['Sleep time']"
   ]
  },
  {
   "cell_type": "code",
   "execution_count": 274,
   "metadata": {
    "collapsed": false
   },
   "outputs": [
    {
     "name": "stdout",
     "output_type": "stream",
     "text": [
      "[' ']\n"
     ]
    },
    {
     "ename": "IndexError",
     "evalue": "list index out of range",
     "output_type": "error",
     "traceback": [
      "\u001b[0;31m---------------------------------------------------------------------------\u001b[0m",
      "\u001b[0;31mIndexError\u001b[0m                                Traceback (most recent call last)",
      "\u001b[0;32m<ipython-input-274-abf902fa1a68>\u001b[0m in \u001b[0;36m<module>\u001b[0;34m()\u001b[0m\n\u001b[1;32m      6\u001b[0m         \u001b[0mvalspl\u001b[0m \u001b[0;34m=\u001b[0m \u001b[0mstr\u001b[0m\u001b[0;34m(\u001b[0m\u001b[0mvalue\u001b[0m\u001b[0;34m)\u001b[0m\u001b[0;34m.\u001b[0m\u001b[0msplit\u001b[0m\u001b[0;34m(\u001b[0m\u001b[0;34m':'\u001b[0m\u001b[0;34m)\u001b[0m\u001b[0;34m\u001b[0m\u001b[0m\n\u001b[1;32m      7\u001b[0m         \u001b[0mprint\u001b[0m\u001b[0;34m(\u001b[0m\u001b[0mvalspl\u001b[0m\u001b[0;34m)\u001b[0m\u001b[0;34m\u001b[0m\u001b[0m\n\u001b[0;32m----> 8\u001b[0;31m         \u001b[0;32mif\u001b[0m \u001b[0mint\u001b[0m\u001b[0;34m(\u001b[0m\u001b[0mvalspl\u001b[0m\u001b[0;34m[\u001b[0m\u001b[0;36m2\u001b[0m\u001b[0;34m]\u001b[0m\u001b[0;34m)\u001b[0m \u001b[0;34m<\u001b[0m \u001b[0;36m10\u001b[0m\u001b[0;34m:\u001b[0m\u001b[0;34m\u001b[0m\u001b[0m\n\u001b[0m\u001b[1;32m      9\u001b[0m             \u001b[0mvalspl\u001b[0m\u001b[0;34m[\u001b[0m\u001b[0;36m2\u001b[0m\u001b[0;34m]\u001b[0m \u001b[0;34m=\u001b[0m \u001b[0mvalspl\u001b[0m\u001b[0;34m[\u001b[0m\u001b[0;36m2\u001b[0m\u001b[0;34m]\u001b[0m \u001b[0;34m+\u001b[0m \u001b[0;34m'0'\u001b[0m\u001b[0;34m\u001b[0m\u001b[0m\n\u001b[1;32m     10\u001b[0m         \u001b[0mhours\u001b[0m \u001b[0;34m=\u001b[0m \u001b[0mvalspl\u001b[0m\u001b[0;34m[\u001b[0m\u001b[0;36m0\u001b[0m\u001b[0;34m]\u001b[0m \u001b[0;34m+\u001b[0m \u001b[0mvalspl\u001b[0m\u001b[0;34m[\u001b[0m\u001b[0;36m1\u001b[0m\u001b[0;34m]\u001b[0m\u001b[0;34m/\u001b[0m\u001b[0;36m60.\u001b[0m \u001b[0;34m+\u001b[0m \u001b[0mvalspl\u001b[0m\u001b[0;34m[\u001b[0m\u001b[0;36m2\u001b[0m\u001b[0;34m]\u001b[0m\u001b[0;34m/\u001b[0m\u001b[0;36m60.\u001b[0m\u001b[0;34m\u001b[0m\u001b[0m\n",
      "\u001b[0;31mIndexError\u001b[0m: list index out of range"
     ]
    }
   ],
   "source": [
    "    hrlist = []\n",
    "    for value in hms:\n",
    "        if str(value) == 'nan':\n",
    "            hours = float(value)\n",
    "        elif str(value)\n",
    "        else:\n",
    "            valspl = str(value).split(':')\n",
    "            print(valspl)\n",
    "            if int(valspl[2]) < 10:\n",
    "                valspl[2] = valspl[2] + '0'\n",
    "            hours = valspl[0] + valspl[1]/60. + valspl[2]/60.\n",
    "        hrlist.append(hours)\n",
    "    hrarr = np.array(hrlist)\n"
   ]
  },
  {
   "cell_type": "code",
   "execution_count": 275,
   "metadata": {
    "collapsed": false
   },
   "outputs": [
    {
     "data": {
      "text/plain": [
       "2530        NaN\n",
       "2531        NaN\n",
       "2532        NaN\n",
       "2533        NaN\n",
       "2534        NaN\n",
       "2535        NaN\n",
       "2536        NaN\n",
       "2537        NaN\n",
       "2538        NaN\n",
       "2539        NaN\n",
       "2540        NaN\n",
       "2541        NaN\n",
       "2542        NaN\n",
       "2543        NaN\n",
       "2544        NaN\n",
       "2545        NaN\n",
       "2546        NaN\n",
       "2547        NaN\n",
       "2548        NaN\n",
       "2549        NaN\n",
       "2550        NaN\n",
       "2551        NaN\n",
       "2552        NaN\n",
       "2553        NaN\n",
       "2554        NaN\n",
       "2555        NaN\n",
       "2556        NaN\n",
       "2557           \n",
       "2558           \n",
       "2559           \n",
       "2560    0:39:28\n",
       "2561    0:29:40\n",
       "2562     1:30:3\n",
       "2563     0:47:3\n",
       "2564    1:38:32\n",
       "2565     2:31:0\n",
       "2566     2:30:0\n",
       "2567     2:45:0\n",
       "2568    2:11:27\n",
       "2569     1:44:0\n",
       "Name: Sleep time, dtype: object"
      ]
     },
     "execution_count": 275,
     "metadata": {},
     "output_type": "execute_result"
    }
   ],
   "source": [
    "hms[2530:2570]"
   ]
  },
  {
   "cell_type": "code",
   "execution_count": 272,
   "metadata": {
    "collapsed": false
   },
   "outputs": [
    {
     "data": {
      "text/plain": [
       "True"
      ]
     },
     "execution_count": 272,
     "metadata": {},
     "output_type": "execute_result"
    }
   ],
   "source": [
    "str(hms[2510]) == 'nan'"
   ]
  },
  {
   "cell_type": "code",
   "execution_count": 260,
   "metadata": {
    "collapsed": false
   },
   "outputs": [],
   "source": [
    "if hms[0] == float('NaN'):\n",
    "    print('yay')"
   ]
  },
  {
   "cell_type": "code",
   "execution_count": null,
   "metadata": {
    "collapsed": true
   },
   "outputs": [],
   "source": []
  }
 ],
 "metadata": {
  "kernelspec": {
   "display_name": "Python 3",
   "language": "python",
   "name": "python3"
  },
  "language_info": {
   "codemirror_mode": {
    "name": "ipython",
    "version": 3
   },
   "file_extension": ".py",
   "mimetype": "text/x-python",
   "name": "python",
   "nbconvert_exporter": "python",
   "pygments_lexer": "ipython3",
   "version": "3.5.1"
  }
 },
 "nbformat": 4,
 "nbformat_minor": 0
}
