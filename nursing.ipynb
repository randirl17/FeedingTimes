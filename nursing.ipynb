{
 "cells": [
  {
   "cell_type": "markdown",
   "metadata": {},
   "source": [
    "# Infant eating and sleeping patterns"
   ]
  },
  {
   "cell_type": "markdown",
   "metadata": {},
   "source": [
    "I have a friend who uses an app to keep track of her infant's eating and sleeping schedule.  Because she is breastfeeding, the baby's eating habits can be unpredictable, but in principle, keeping track of the data could help identify patterns of behavior (haha, as if babies could be predicted!)\n",
    "\n",
    "I have the exported data from the app as a CSV of timestamped periods of eating and sleeping, including whether the baby nursed on the left/right side or ate from a bottle, and if so, how many oz of milk were used.  I'm hoping to use this data to answer questions of interest like:\n",
    "* Does the baby tends to nap longer immediately following a feeding?\n",
    "* Do the number of naps or cumulative napping time have an impact on the number/frequency of nighttime wakings?\n",
    "* Has the baby shown changes in patterns of feedings/sleeping as time progresses?\n",
    "* Does the baby tend to nurse on both sides more often (thus consuming more milk at a time) as the months have passed?"
   ]
  },
  {
   "cell_type": "code",
   "execution_count": 240,
   "metadata": {
    "collapsed": true
   },
   "outputs": [],
   "source": [
    "import pandas as pd\n",
    "from datetime import datetime\n",
    "import numpy as np\n",
    "from scipy import stats\n",
    "import math\n",
    "import matplotlib\n",
    "import matplotlib.pyplot as plt\n",
    "import matplotlib.dates as mdates"
   ]
  },
  {
   "cell_type": "code",
   "execution_count": 2,
   "metadata": {
    "collapsed": true
   },
   "outputs": [],
   "source": [
    "%matplotlib inline"
   ]
  },
  {
   "cell_type": "code",
   "execution_count": 3,
   "metadata": {
    "collapsed": false
   },
   "outputs": [],
   "source": [
    "df = pd.read_csv('NursingData_clean.csv')"
   ]
  },
  {
   "cell_type": "markdown",
   "metadata": {},
   "source": [
    "Using the cleaned and converted data, I can now investigate it for patterns such as:\n",
    "* L/R counts bar graph for time of day (sleep, afternoon, evening)\n",
    "* mean daily feeding per week\n",
    "* Stacked bar for L/R/bottle counts per month\n",
    "* Stacked bar for hrs slept, night + nap(s) per month\n",
    "* Time sleeping in one day vs time eating in one day (correlated?)\n",
    "* Do naps that immediately follow nursing last longer than ones that don\\'t? (Time since last nurse vs. length of nap)\n",
    "* Frequency of bottle feedings per month (have bottle feedings become more rare with age?)\n",
    "* make keys of month (0,1,2...) and week to .groupby() and perform summary stats on "
   ]
  },
  {
   "cell_type": "code",
   "execution_count": 4,
   "metadata": {
    "collapsed": false
   },
   "outputs": [
    {
     "data": {
      "text/plain": [
       "array(['Unnamed: 0', 'time', 'Year', 'Month', 'TimeofDay', 'LeftFeed',\n",
       "       'RightFeed', 'BotFeed', 'TotalFeed', 'BotAmt', 'Sleep'], dtype=object)"
      ]
     },
     "execution_count": 4,
     "metadata": {},
     "output_type": "execute_result"
    }
   ],
   "source": [
    "df.columns.values"
   ]
  },
  {
   "cell_type": "code",
   "execution_count": 14,
   "metadata": {
    "collapsed": false,
    "scrolled": true
   },
   "outputs": [
    {
     "data": {
      "text/html": [
       "<div>\n",
       "<table border=\"1\" class=\"dataframe\">\n",
       "  <thead>\n",
       "    <tr style=\"text-align: right;\">\n",
       "      <th></th>\n",
       "      <th>Unnamed: 0</th>\n",
       "      <th>time</th>\n",
       "      <th>Year</th>\n",
       "      <th>Month</th>\n",
       "      <th>TimeofDay</th>\n",
       "      <th>LeftFeed</th>\n",
       "      <th>RightFeed</th>\n",
       "      <th>BotFeed</th>\n",
       "      <th>TotalFeed</th>\n",
       "      <th>BotAmt</th>\n",
       "      <th>Sleep</th>\n",
       "    </tr>\n",
       "  </thead>\n",
       "  <tbody>\n",
       "    <tr>\n",
       "      <th>0</th>\n",
       "      <td>0</td>\n",
       "      <td>2015-06-21 01:17:09</td>\n",
       "      <td>2015</td>\n",
       "      <td>6</td>\n",
       "      <td>Late night</td>\n",
       "      <td>0.00</td>\n",
       "      <td>1.3</td>\n",
       "      <td>0</td>\n",
       "      <td>1.30</td>\n",
       "      <td>NaN</td>\n",
       "      <td>NaN</td>\n",
       "    </tr>\n",
       "    <tr>\n",
       "      <th>1</th>\n",
       "      <td>1</td>\n",
       "      <td>2015-06-21 02:00:39</td>\n",
       "      <td>2015</td>\n",
       "      <td>6</td>\n",
       "      <td>Late night</td>\n",
       "      <td>7.52</td>\n",
       "      <td>0.0</td>\n",
       "      <td>0</td>\n",
       "      <td>7.52</td>\n",
       "      <td>NaN</td>\n",
       "      <td>NaN</td>\n",
       "    </tr>\n",
       "    <tr>\n",
       "      <th>2</th>\n",
       "      <td>2</td>\n",
       "      <td>2015-06-21 02:37:57</td>\n",
       "      <td>2015</td>\n",
       "      <td>6</td>\n",
       "      <td>Late night</td>\n",
       "      <td>14.50</td>\n",
       "      <td>0.0</td>\n",
       "      <td>0</td>\n",
       "      <td>14.50</td>\n",
       "      <td>NaN</td>\n",
       "      <td>NaN</td>\n",
       "    </tr>\n",
       "    <tr>\n",
       "      <th>3</th>\n",
       "      <td>3</td>\n",
       "      <td>2015-06-21 05:23:55</td>\n",
       "      <td>2015</td>\n",
       "      <td>6</td>\n",
       "      <td>Late night</td>\n",
       "      <td>0.00</td>\n",
       "      <td>20.0</td>\n",
       "      <td>0</td>\n",
       "      <td>20.00</td>\n",
       "      <td>NaN</td>\n",
       "      <td>NaN</td>\n",
       "    </tr>\n",
       "    <tr>\n",
       "      <th>4</th>\n",
       "      <td>4</td>\n",
       "      <td>2015-06-21 05:47:59</td>\n",
       "      <td>2015</td>\n",
       "      <td>6</td>\n",
       "      <td>Late night</td>\n",
       "      <td>22.18</td>\n",
       "      <td>0.0</td>\n",
       "      <td>0</td>\n",
       "      <td>22.18</td>\n",
       "      <td>NaN</td>\n",
       "      <td>NaN</td>\n",
       "    </tr>\n",
       "  </tbody>\n",
       "</table>\n",
       "</div>"
      ],
      "text/plain": [
       "   Unnamed: 0                time  Year  Month   TimeofDay  LeftFeed  \\\n",
       "0           0 2015-06-21 01:17:09  2015      6  Late night      0.00   \n",
       "1           1 2015-06-21 02:00:39  2015      6  Late night      7.52   \n",
       "2           2 2015-06-21 02:37:57  2015      6  Late night     14.50   \n",
       "3           3 2015-06-21 05:23:55  2015      6  Late night      0.00   \n",
       "4           4 2015-06-21 05:47:59  2015      6  Late night     22.18   \n",
       "\n",
       "   RightFeed  BotFeed  TotalFeed  BotAmt  Sleep  \n",
       "0        1.3        0       1.30     NaN    NaN  \n",
       "1        0.0        0       7.52     NaN    NaN  \n",
       "2        0.0        0      14.50     NaN    NaN  \n",
       "3       20.0        0      20.00     NaN    NaN  \n",
       "4        0.0        0      22.18     NaN    NaN  "
      ]
     },
     "execution_count": 14,
     "metadata": {},
     "output_type": "execute_result"
    }
   ],
   "source": [
    "df[:5]"
   ]
  },
  {
   "cell_type": "code",
   "execution_count": 6,
   "metadata": {
    "collapsed": false
   },
   "outputs": [],
   "source": [
    "df['time'] = pd.to_datetime(df['time'])"
   ]
  },
  {
   "cell_type": "code",
   "execution_count": 7,
   "metadata": {
    "collapsed": false
   },
   "outputs": [],
   "source": [
    "ordered = df.sort_values('time')"
   ]
  },
  {
   "cell_type": "code",
   "execution_count": 15,
   "metadata": {
    "collapsed": false,
    "scrolled": true
   },
   "outputs": [
    {
     "data": {
      "text/html": [
       "<div>\n",
       "<table border=\"1\" class=\"dataframe\">\n",
       "  <thead>\n",
       "    <tr style=\"text-align: right;\">\n",
       "      <th></th>\n",
       "      <th>Unnamed: 0</th>\n",
       "      <th>time</th>\n",
       "      <th>Year</th>\n",
       "      <th>Month</th>\n",
       "      <th>TimeofDay</th>\n",
       "      <th>LeftFeed</th>\n",
       "      <th>RightFeed</th>\n",
       "      <th>BotFeed</th>\n",
       "      <th>TotalFeed</th>\n",
       "      <th>BotAmt</th>\n",
       "      <th>Sleep</th>\n",
       "    </tr>\n",
       "  </thead>\n",
       "  <tbody>\n",
       "    <tr>\n",
       "      <th>3234</th>\n",
       "      <td>3234</td>\n",
       "      <td>2015-05-31 00:48:35</td>\n",
       "      <td>2015</td>\n",
       "      <td>5</td>\n",
       "      <td>Late night</td>\n",
       "      <td>NaN</td>\n",
       "      <td>NaN</td>\n",
       "      <td>0</td>\n",
       "      <td>NaN</td>\n",
       "      <td>NaN</td>\n",
       "      <td>NaN</td>\n",
       "    </tr>\n",
       "    <tr>\n",
       "      <th>0</th>\n",
       "      <td>0</td>\n",
       "      <td>2015-06-21 01:17:09</td>\n",
       "      <td>2015</td>\n",
       "      <td>6</td>\n",
       "      <td>Late night</td>\n",
       "      <td>0.00</td>\n",
       "      <td>1.3</td>\n",
       "      <td>0</td>\n",
       "      <td>1.30</td>\n",
       "      <td>NaN</td>\n",
       "      <td>NaN</td>\n",
       "    </tr>\n",
       "    <tr>\n",
       "      <th>3235</th>\n",
       "      <td>3235</td>\n",
       "      <td>2015-06-21 01:17:27</td>\n",
       "      <td>2015</td>\n",
       "      <td>6</td>\n",
       "      <td>Late night</td>\n",
       "      <td>NaN</td>\n",
       "      <td>NaN</td>\n",
       "      <td>0</td>\n",
       "      <td>NaN</td>\n",
       "      <td>NaN</td>\n",
       "      <td>NaN</td>\n",
       "    </tr>\n",
       "    <tr>\n",
       "      <th>2560</th>\n",
       "      <td>2560</td>\n",
       "      <td>2015-06-21 01:19:50</td>\n",
       "      <td>2015</td>\n",
       "      <td>6</td>\n",
       "      <td>Late night</td>\n",
       "      <td>NaN</td>\n",
       "      <td>NaN</td>\n",
       "      <td>0</td>\n",
       "      <td>NaN</td>\n",
       "      <td>NaN</td>\n",
       "      <td>1.12</td>\n",
       "    </tr>\n",
       "    <tr>\n",
       "      <th>1</th>\n",
       "      <td>1</td>\n",
       "      <td>2015-06-21 02:00:39</td>\n",
       "      <td>2015</td>\n",
       "      <td>6</td>\n",
       "      <td>Late night</td>\n",
       "      <td>7.52</td>\n",
       "      <td>0.0</td>\n",
       "      <td>0</td>\n",
       "      <td>7.52</td>\n",
       "      <td>NaN</td>\n",
       "      <td>NaN</td>\n",
       "    </tr>\n",
       "  </tbody>\n",
       "</table>\n",
       "</div>"
      ],
      "text/plain": [
       "      Unnamed: 0                time  Year  Month   TimeofDay  LeftFeed  \\\n",
       "3234        3234 2015-05-31 00:48:35  2015      5  Late night       NaN   \n",
       "0              0 2015-06-21 01:17:09  2015      6  Late night      0.00   \n",
       "3235        3235 2015-06-21 01:17:27  2015      6  Late night       NaN   \n",
       "2560        2560 2015-06-21 01:19:50  2015      6  Late night       NaN   \n",
       "1              1 2015-06-21 02:00:39  2015      6  Late night      7.52   \n",
       "\n",
       "      RightFeed  BotFeed  TotalFeed  BotAmt  Sleep  \n",
       "3234        NaN        0        NaN     NaN    NaN  \n",
       "0           1.3        0       1.30     NaN    NaN  \n",
       "3235        NaN        0        NaN     NaN    NaN  \n",
       "2560        NaN        0        NaN     NaN   1.12  \n",
       "1           0.0        0       7.52     NaN    NaN  "
      ]
     },
     "execution_count": 15,
     "metadata": {},
     "output_type": "execute_result"
    }
   ],
   "source": [
    "ordered[:5]"
   ]
  },
  {
   "cell_type": "markdown",
   "metadata": {},
   "source": [
    "# Exploring the Data Set"
   ]
  },
  {
   "cell_type": "code",
   "execution_count": 9,
   "metadata": {
    "collapsed": false
   },
   "outputs": [],
   "source": [
    "monthly = df.groupby([df['Year'],df['Month']])"
   ]
  },
  {
   "cell_type": "code",
   "execution_count": 10,
   "metadata": {
    "collapsed": false
   },
   "outputs": [
    {
     "data": {
      "text/html": [
       "<div>\n",
       "<table border=\"1\" class=\"dataframe\">\n",
       "  <thead>\n",
       "    <tr style=\"text-align: right;\">\n",
       "      <th></th>\n",
       "      <th></th>\n",
       "      <th>Unnamed: 0</th>\n",
       "      <th>LeftFeed</th>\n",
       "      <th>RightFeed</th>\n",
       "      <th>BotFeed</th>\n",
       "      <th>TotalFeed</th>\n",
       "      <th>BotAmt</th>\n",
       "      <th>Sleep</th>\n",
       "    </tr>\n",
       "    <tr>\n",
       "      <th>Year</th>\n",
       "      <th>Month</th>\n",
       "      <th></th>\n",
       "      <th></th>\n",
       "      <th></th>\n",
       "      <th></th>\n",
       "      <th></th>\n",
       "      <th></th>\n",
       "      <th></th>\n",
       "    </tr>\n",
       "  </thead>\n",
       "  <tbody>\n",
       "    <tr>\n",
       "      <th rowspan=\"8\" valign=\"top\">2015</th>\n",
       "      <th>5</th>\n",
       "      <td>3234.000000</td>\n",
       "      <td>NaN</td>\n",
       "      <td>NaN</td>\n",
       "      <td>0.000000</td>\n",
       "      <td>NaN</td>\n",
       "      <td>NaN</td>\n",
       "      <td>NaN</td>\n",
       "    </tr>\n",
       "    <tr>\n",
       "      <th>6</th>\n",
       "      <td>592.144385</td>\n",
       "      <td>9.364038</td>\n",
       "      <td>8.519808</td>\n",
       "      <td>0.000000</td>\n",
       "      <td>17.883846</td>\n",
       "      <td>NaN</td>\n",
       "      <td>1.423333</td>\n",
       "    </tr>\n",
       "    <tr>\n",
       "      <th>7</th>\n",
       "      <td>382.960465</td>\n",
       "      <td>8.602150</td>\n",
       "      <td>8.753621</td>\n",
       "      <td>0.011628</td>\n",
       "      <td>17.367523</td>\n",
       "      <td>1.500000</td>\n",
       "      <td>NaN</td>\n",
       "    </tr>\n",
       "    <tr>\n",
       "      <th>8</th>\n",
       "      <td>984.218391</td>\n",
       "      <td>8.403558</td>\n",
       "      <td>8.602442</td>\n",
       "      <td>0.091954</td>\n",
       "      <td>17.109896</td>\n",
       "      <td>3.300000</td>\n",
       "      <td>1.904800</td>\n",
       "    </tr>\n",
       "    <tr>\n",
       "      <th>9</th>\n",
       "      <td>1574.625551</td>\n",
       "      <td>8.320031</td>\n",
       "      <td>8.993611</td>\n",
       "      <td>0.132159</td>\n",
       "      <td>17.498827</td>\n",
       "      <td>2.708333</td>\n",
       "      <td>1.911860</td>\n",
       "    </tr>\n",
       "    <tr>\n",
       "      <th>10</th>\n",
       "      <td>1855.357143</td>\n",
       "      <td>7.781006</td>\n",
       "      <td>8.095503</td>\n",
       "      <td>0.178571</td>\n",
       "      <td>16.127929</td>\n",
       "      <td>3.264706</td>\n",
       "      <td>3.285401</td>\n",
       "    </tr>\n",
       "    <tr>\n",
       "      <th>11</th>\n",
       "      <td>2109.849462</td>\n",
       "      <td>7.980206</td>\n",
       "      <td>6.771858</td>\n",
       "      <td>0.139785</td>\n",
       "      <td>14.943776</td>\n",
       "      <td>2.615385</td>\n",
       "      <td>3.249524</td>\n",
       "    </tr>\n",
       "    <tr>\n",
       "      <th>12</th>\n",
       "      <td>2397.784648</td>\n",
       "      <td>7.895947</td>\n",
       "      <td>6.850296</td>\n",
       "      <td>0.213220</td>\n",
       "      <td>15.042041</td>\n",
       "      <td>3.125000</td>\n",
       "      <td>3.394122</td>\n",
       "    </tr>\n",
       "    <tr>\n",
       "      <th>2016</th>\n",
       "      <th>1</th>\n",
       "      <td>2641.620000</td>\n",
       "      <td>8.173333</td>\n",
       "      <td>7.376190</td>\n",
       "      <td>0.042857</td>\n",
       "      <td>15.609127</td>\n",
       "      <td>3.250000</td>\n",
       "      <td>3.876122</td>\n",
       "    </tr>\n",
       "  </tbody>\n",
       "</table>\n",
       "</div>"
      ],
      "text/plain": [
       "             Unnamed: 0  LeftFeed  RightFeed   BotFeed  TotalFeed    BotAmt  \\\n",
       "Year Month                                                                    \n",
       "2015 5      3234.000000       NaN        NaN  0.000000        NaN       NaN   \n",
       "     6       592.144385  9.364038   8.519808  0.000000  17.883846       NaN   \n",
       "     7       382.960465  8.602150   8.753621  0.011628  17.367523  1.500000   \n",
       "     8       984.218391  8.403558   8.602442  0.091954  17.109896  3.300000   \n",
       "     9      1574.625551  8.320031   8.993611  0.132159  17.498827  2.708333   \n",
       "     10     1855.357143  7.781006   8.095503  0.178571  16.127929  3.264706   \n",
       "     11     2109.849462  7.980206   6.771858  0.139785  14.943776  2.615385   \n",
       "     12     2397.784648  7.895947   6.850296  0.213220  15.042041  3.125000   \n",
       "2016 1      2641.620000  8.173333   7.376190  0.042857  15.609127  3.250000   \n",
       "\n",
       "               Sleep  \n",
       "Year Month            \n",
       "2015 5           NaN  \n",
       "     6      1.423333  \n",
       "     7           NaN  \n",
       "     8      1.904800  \n",
       "     9      1.911860  \n",
       "     10     3.285401  \n",
       "     11     3.249524  \n",
       "     12     3.394122  \n",
       "2016 1      3.876122  "
      ]
     },
     "execution_count": 10,
     "metadata": {},
     "output_type": "execute_result"
    }
   ],
   "source": [
    "monthly.mean()"
   ]
  },
  {
   "cell_type": "code",
   "execution_count": 11,
   "metadata": {
    "collapsed": false,
    "scrolled": true
   },
   "outputs": [
    {
     "data": {
      "text/html": [
       "<div>\n",
       "<table border=\"1\" class=\"dataframe\">\n",
       "  <thead>\n",
       "    <tr style=\"text-align: right;\">\n",
       "      <th></th>\n",
       "      <th></th>\n",
       "      <th></th>\n",
       "      <th>BotAmt</th>\n",
       "      <th>BotFeed</th>\n",
       "      <th>LeftFeed</th>\n",
       "      <th>RightFeed</th>\n",
       "      <th>Sleep</th>\n",
       "      <th>TotalFeed</th>\n",
       "      <th>Unnamed: 0</th>\n",
       "    </tr>\n",
       "    <tr>\n",
       "      <th>Year</th>\n",
       "      <th>Month</th>\n",
       "      <th></th>\n",
       "      <th></th>\n",
       "      <th></th>\n",
       "      <th></th>\n",
       "      <th></th>\n",
       "      <th></th>\n",
       "      <th></th>\n",
       "      <th></th>\n",
       "    </tr>\n",
       "  </thead>\n",
       "  <tbody>\n",
       "    <tr>\n",
       "      <th rowspan=\"53\" valign=\"top\">2015</th>\n",
       "      <th rowspan=\"8\" valign=\"top\">5</th>\n",
       "      <th>count</th>\n",
       "      <td>0.000000</td>\n",
       "      <td>1.000000</td>\n",
       "      <td>0.000000</td>\n",
       "      <td>0.000000</td>\n",
       "      <td>0.000000</td>\n",
       "      <td>0.000000</td>\n",
       "      <td>1.000000</td>\n",
       "    </tr>\n",
       "    <tr>\n",
       "      <th>mean</th>\n",
       "      <td>NaN</td>\n",
       "      <td>0.000000</td>\n",
       "      <td>NaN</td>\n",
       "      <td>NaN</td>\n",
       "      <td>NaN</td>\n",
       "      <td>NaN</td>\n",
       "      <td>3234.000000</td>\n",
       "    </tr>\n",
       "    <tr>\n",
       "      <th>std</th>\n",
       "      <td>NaN</td>\n",
       "      <td>NaN</td>\n",
       "      <td>NaN</td>\n",
       "      <td>NaN</td>\n",
       "      <td>NaN</td>\n",
       "      <td>NaN</td>\n",
       "      <td>NaN</td>\n",
       "    </tr>\n",
       "    <tr>\n",
       "      <th>min</th>\n",
       "      <td>NaN</td>\n",
       "      <td>0.000000</td>\n",
       "      <td>NaN</td>\n",
       "      <td>NaN</td>\n",
       "      <td>NaN</td>\n",
       "      <td>NaN</td>\n",
       "      <td>3234.000000</td>\n",
       "    </tr>\n",
       "    <tr>\n",
       "      <th>25%</th>\n",
       "      <td>NaN</td>\n",
       "      <td>0.000000</td>\n",
       "      <td>NaN</td>\n",
       "      <td>NaN</td>\n",
       "      <td>NaN</td>\n",
       "      <td>NaN</td>\n",
       "      <td>3234.000000</td>\n",
       "    </tr>\n",
       "    <tr>\n",
       "      <th>50%</th>\n",
       "      <td>NaN</td>\n",
       "      <td>0.000000</td>\n",
       "      <td>NaN</td>\n",
       "      <td>NaN</td>\n",
       "      <td>NaN</td>\n",
       "      <td>NaN</td>\n",
       "      <td>3234.000000</td>\n",
       "    </tr>\n",
       "    <tr>\n",
       "      <th>75%</th>\n",
       "      <td>NaN</td>\n",
       "      <td>0.000000</td>\n",
       "      <td>NaN</td>\n",
       "      <td>NaN</td>\n",
       "      <td>NaN</td>\n",
       "      <td>NaN</td>\n",
       "      <td>3234.000000</td>\n",
       "    </tr>\n",
       "    <tr>\n",
       "      <th>max</th>\n",
       "      <td>NaN</td>\n",
       "      <td>0.000000</td>\n",
       "      <td>NaN</td>\n",
       "      <td>NaN</td>\n",
       "      <td>NaN</td>\n",
       "      <td>NaN</td>\n",
       "      <td>3234.000000</td>\n",
       "    </tr>\n",
       "    <tr>\n",
       "      <th rowspan=\"8\" valign=\"top\">6</th>\n",
       "      <th>count</th>\n",
       "      <td>0.000000</td>\n",
       "      <td>187.000000</td>\n",
       "      <td>156.000000</td>\n",
       "      <td>156.000000</td>\n",
       "      <td>3.000000</td>\n",
       "      <td>156.000000</td>\n",
       "      <td>187.000000</td>\n",
       "    </tr>\n",
       "    <tr>\n",
       "      <th>mean</th>\n",
       "      <td>NaN</td>\n",
       "      <td>0.000000</td>\n",
       "      <td>9.364038</td>\n",
       "      <td>8.519808</td>\n",
       "      <td>1.423333</td>\n",
       "      <td>17.883846</td>\n",
       "      <td>592.144385</td>\n",
       "    </tr>\n",
       "    <tr>\n",
       "      <th>std</th>\n",
       "      <td>NaN</td>\n",
       "      <td>0.000000</td>\n",
       "      <td>9.973710</td>\n",
       "      <td>9.980969</td>\n",
       "      <td>0.499633</td>\n",
       "      <td>8.285890</td>\n",
       "      <td>1161.292488</td>\n",
       "    </tr>\n",
       "    <tr>\n",
       "      <th>min</th>\n",
       "      <td>NaN</td>\n",
       "      <td>0.000000</td>\n",
       "      <td>0.000000</td>\n",
       "      <td>0.000000</td>\n",
       "      <td>1.120000</td>\n",
       "      <td>1.300000</td>\n",
       "      <td>0.000000</td>\n",
       "    </tr>\n",
       "    <tr>\n",
       "      <th>25%</th>\n",
       "      <td>NaN</td>\n",
       "      <td>0.000000</td>\n",
       "      <td>0.000000</td>\n",
       "      <td>0.000000</td>\n",
       "      <td>1.135000</td>\n",
       "      <td>12.500000</td>\n",
       "      <td>46.500000</td>\n",
       "    </tr>\n",
       "    <tr>\n",
       "      <th>50%</th>\n",
       "      <td>NaN</td>\n",
       "      <td>0.000000</td>\n",
       "      <td>9.415000</td>\n",
       "      <td>4.150000</td>\n",
       "      <td>1.150000</td>\n",
       "      <td>15.415000</td>\n",
       "      <td>93.000000</td>\n",
       "    </tr>\n",
       "    <tr>\n",
       "      <th>75%</th>\n",
       "      <td>NaN</td>\n",
       "      <td>0.000000</td>\n",
       "      <td>16.172500</td>\n",
       "      <td>15.000000</td>\n",
       "      <td>1.575000</td>\n",
       "      <td>20.762500</td>\n",
       "      <td>139.500000</td>\n",
       "    </tr>\n",
       "    <tr>\n",
       "      <th>max</th>\n",
       "      <td>NaN</td>\n",
       "      <td>0.000000</td>\n",
       "      <td>40.920000</td>\n",
       "      <td>39.300000</td>\n",
       "      <td>2.000000</td>\n",
       "      <td>57.600000</td>\n",
       "      <td>3262.000000</td>\n",
       "    </tr>\n",
       "    <tr>\n",
       "      <th rowspan=\"8\" valign=\"top\">7</th>\n",
       "      <th>count</th>\n",
       "      <td>1.000000</td>\n",
       "      <td>430.000000</td>\n",
       "      <td>428.000000</td>\n",
       "      <td>428.000000</td>\n",
       "      <td>0.000000</td>\n",
       "      <td>428.000000</td>\n",
       "      <td>430.000000</td>\n",
       "    </tr>\n",
       "    <tr>\n",
       "      <th>mean</th>\n",
       "      <td>1.500000</td>\n",
       "      <td>0.011628</td>\n",
       "      <td>8.602150</td>\n",
       "      <td>8.753621</td>\n",
       "      <td>NaN</td>\n",
       "      <td>17.367523</td>\n",
       "      <td>382.960465</td>\n",
       "    </tr>\n",
       "    <tr>\n",
       "      <th>std</th>\n",
       "      <td>NaN</td>\n",
       "      <td>0.241121</td>\n",
       "      <td>9.180430</td>\n",
       "      <td>9.398947</td>\n",
       "      <td>NaN</td>\n",
       "      <td>8.441029</td>\n",
       "      <td>232.579988</td>\n",
       "    </tr>\n",
       "    <tr>\n",
       "      <th>min</th>\n",
       "      <td>1.500000</td>\n",
       "      <td>0.000000</td>\n",
       "      <td>0.000000</td>\n",
       "      <td>0.000000</td>\n",
       "      <td>NaN</td>\n",
       "      <td>0.330000</td>\n",
       "      <td>156.000000</td>\n",
       "    </tr>\n",
       "    <tr>\n",
       "      <th>25%</th>\n",
       "      <td>1.500000</td>\n",
       "      <td>0.000000</td>\n",
       "      <td>0.000000</td>\n",
       "      <td>0.000000</td>\n",
       "      <td>NaN</td>\n",
       "      <td>12.437500</td>\n",
       "      <td>263.250000</td>\n",
       "    </tr>\n",
       "    <tr>\n",
       "      <th>50%</th>\n",
       "      <td>1.500000</td>\n",
       "      <td>0.000000</td>\n",
       "      <td>8.210000</td>\n",
       "      <td>8.470000</td>\n",
       "      <td>NaN</td>\n",
       "      <td>15.000000</td>\n",
       "      <td>370.500000</td>\n",
       "    </tr>\n",
       "    <tr>\n",
       "      <th>75%</th>\n",
       "      <td>1.500000</td>\n",
       "      <td>0.000000</td>\n",
       "      <td>15.000000</td>\n",
       "      <td>15.000000</td>\n",
       "      <td>NaN</td>\n",
       "      <td>20.000000</td>\n",
       "      <td>477.750000</td>\n",
       "    </tr>\n",
       "    <tr>\n",
       "      <th>max</th>\n",
       "      <td>1.500000</td>\n",
       "      <td>5.000000</td>\n",
       "      <td>43.950000</td>\n",
       "      <td>44.670000</td>\n",
       "      <td>NaN</td>\n",
       "      <td>50.000000</td>\n",
       "      <td>3264.000000</td>\n",
       "    </tr>\n",
       "    <tr>\n",
       "      <th rowspan=\"6\" valign=\"top\">8</th>\n",
       "      <th>count</th>\n",
       "      <td>10.000000</td>\n",
       "      <td>435.000000</td>\n",
       "      <td>385.000000</td>\n",
       "      <td>385.000000</td>\n",
       "      <td>50.000000</td>\n",
       "      <td>385.000000</td>\n",
       "      <td>435.000000</td>\n",
       "    </tr>\n",
       "    <tr>\n",
       "      <th>mean</th>\n",
       "      <td>3.300000</td>\n",
       "      <td>0.091954</td>\n",
       "      <td>8.403558</td>\n",
       "      <td>8.602442</td>\n",
       "      <td>1.904800</td>\n",
       "      <td>17.109896</td>\n",
       "      <td>984.218391</td>\n",
       "    </tr>\n",
       "    <tr>\n",
       "      <th>std</th>\n",
       "      <td>1.437591</td>\n",
       "      <td>0.672573</td>\n",
       "      <td>8.884587</td>\n",
       "      <td>9.342929</td>\n",
       "      <td>1.113236</td>\n",
       "      <td>8.253539</td>\n",
       "      <td>587.863358</td>\n",
       "    </tr>\n",
       "    <tr>\n",
       "      <th>min</th>\n",
       "      <td>1.500000</td>\n",
       "      <td>0.000000</td>\n",
       "      <td>0.000000</td>\n",
       "      <td>0.000000</td>\n",
       "      <td>0.170000</td>\n",
       "      <td>0.000000</td>\n",
       "      <td>584.000000</td>\n",
       "    </tr>\n",
       "    <tr>\n",
       "      <th>25%</th>\n",
       "      <td>2.125000</td>\n",
       "      <td>0.000000</td>\n",
       "      <td>0.000000</td>\n",
       "      <td>0.000000</td>\n",
       "      <td>1.055000</td>\n",
       "      <td>13.320000</td>\n",
       "      <td>692.500000</td>\n",
       "    </tr>\n",
       "    <tr>\n",
       "      <th>50%</th>\n",
       "      <td>3.000000</td>\n",
       "      <td>0.000000</td>\n",
       "      <td>8.370000</td>\n",
       "      <td>8.370000</td>\n",
       "      <td>1.655000</td>\n",
       "      <td>15.000000</td>\n",
       "      <td>801.000000</td>\n",
       "    </tr>\n",
       "    <tr>\n",
       "      <th>8</th>\n",
       "      <th>...</th>\n",
       "      <td>...</td>\n",
       "      <td>...</td>\n",
       "      <td>...</td>\n",
       "      <td>...</td>\n",
       "      <td>...</td>\n",
       "      <td>...</td>\n",
       "      <td>...</td>\n",
       "    </tr>\n",
       "    <tr>\n",
       "      <th rowspan=\"6\" valign=\"top\">10</th>\n",
       "      <th>std</th>\n",
       "      <td>1.213436</td>\n",
       "      <td>0.928861</td>\n",
       "      <td>8.058181</td>\n",
       "      <td>8.604257</td>\n",
       "      <td>3.830923</td>\n",
       "      <td>7.132331</td>\n",
       "      <td>620.948777</td>\n",
       "    </tr>\n",
       "    <tr>\n",
       "      <th>min</th>\n",
       "      <td>1.000000</td>\n",
       "      <td>0.000000</td>\n",
       "      <td>0.000000</td>\n",
       "      <td>0.000000</td>\n",
       "      <td>0.250000</td>\n",
       "      <td>0.500000</td>\n",
       "      <td>1293.000000</td>\n",
       "    </tr>\n",
       "    <tr>\n",
       "      <th>25%</th>\n",
       "      <td>2.500000</td>\n",
       "      <td>0.000000</td>\n",
       "      <td>0.000000</td>\n",
       "      <td>0.000000</td>\n",
       "      <td>1.120000</td>\n",
       "      <td>11.652500</td>\n",
       "      <td>1411.750000</td>\n",
       "    </tr>\n",
       "    <tr>\n",
       "      <th>50%</th>\n",
       "      <td>3.000000</td>\n",
       "      <td>0.000000</td>\n",
       "      <td>8.000000</td>\n",
       "      <td>7.585000</td>\n",
       "      <td>1.530000</td>\n",
       "      <td>15.000000</td>\n",
       "      <td>1530.500000</td>\n",
       "    </tr>\n",
       "    <tr>\n",
       "      <th>75%</th>\n",
       "      <td>4.000000</td>\n",
       "      <td>0.000000</td>\n",
       "      <td>15.000000</td>\n",
       "      <td>15.000000</td>\n",
       "      <td>2.730000</td>\n",
       "      <td>19.790000</td>\n",
       "      <td>2760.250000</td>\n",
       "    </tr>\n",
       "    <tr>\n",
       "      <th>max</th>\n",
       "      <td>6.000000</td>\n",
       "      <td>5.000000</td>\n",
       "      <td>40.170000</td>\n",
       "      <td>42.850000</td>\n",
       "      <td>13.550000</td>\n",
       "      <td>42.850000</td>\n",
       "      <td>3266.000000</td>\n",
       "    </tr>\n",
       "    <tr>\n",
       "      <th rowspan=\"8\" valign=\"top\">11</th>\n",
       "      <th>count</th>\n",
       "      <td>13.000000</td>\n",
       "      <td>465.000000</td>\n",
       "      <td>339.000000</td>\n",
       "      <td>339.000000</td>\n",
       "      <td>126.000000</td>\n",
       "      <td>339.000000</td>\n",
       "      <td>465.000000</td>\n",
       "    </tr>\n",
       "    <tr>\n",
       "      <th>mean</th>\n",
       "      <td>2.615385</td>\n",
       "      <td>0.139785</td>\n",
       "      <td>7.980206</td>\n",
       "      <td>6.771858</td>\n",
       "      <td>3.249524</td>\n",
       "      <td>14.943776</td>\n",
       "      <td>2109.849462</td>\n",
       "    </tr>\n",
       "    <tr>\n",
       "      <th>std</th>\n",
       "      <td>0.820413</td>\n",
       "      <td>0.825136</td>\n",
       "      <td>8.731438</td>\n",
       "      <td>8.076575</td>\n",
       "      <td>3.858532</td>\n",
       "      <td>7.202271</td>\n",
       "      <td>515.905526</td>\n",
       "    </tr>\n",
       "    <tr>\n",
       "      <th>min</th>\n",
       "      <td>0.500000</td>\n",
       "      <td>0.000000</td>\n",
       "      <td>0.000000</td>\n",
       "      <td>0.000000</td>\n",
       "      <td>0.170000</td>\n",
       "      <td>0.170000</td>\n",
       "      <td>1630.000000</td>\n",
       "    </tr>\n",
       "    <tr>\n",
       "      <th>25%</th>\n",
       "      <td>2.000000</td>\n",
       "      <td>0.000000</td>\n",
       "      <td>0.000000</td>\n",
       "      <td>0.000000</td>\n",
       "      <td>0.942500</td>\n",
       "      <td>9.665000</td>\n",
       "      <td>1746.000000</td>\n",
       "    </tr>\n",
       "    <tr>\n",
       "      <th>50%</th>\n",
       "      <td>3.000000</td>\n",
       "      <td>0.000000</td>\n",
       "      <td>7.330000</td>\n",
       "      <td>5.000000</td>\n",
       "      <td>1.515000</td>\n",
       "      <td>15.000000</td>\n",
       "      <td>1862.000000</td>\n",
       "    </tr>\n",
       "    <tr>\n",
       "      <th>75%</th>\n",
       "      <td>3.000000</td>\n",
       "      <td>0.000000</td>\n",
       "      <td>15.000000</td>\n",
       "      <td>13.150000</td>\n",
       "      <td>2.642500</td>\n",
       "      <td>18.000000</td>\n",
       "      <td>2888.000000</td>\n",
       "    </tr>\n",
       "    <tr>\n",
       "      <th>max</th>\n",
       "      <td>3.500000</td>\n",
       "      <td>5.000000</td>\n",
       "      <td>42.170000</td>\n",
       "      <td>38.530000</td>\n",
       "      <td>13.520000</td>\n",
       "      <td>42.170000</td>\n",
       "      <td>3004.000000</td>\n",
       "    </tr>\n",
       "    <tr>\n",
       "      <th rowspan=\"8\" valign=\"top\">12</th>\n",
       "      <th>count</th>\n",
       "      <td>20.000000</td>\n",
       "      <td>469.000000</td>\n",
       "      <td>338.000000</td>\n",
       "      <td>338.000000</td>\n",
       "      <td>131.000000</td>\n",
       "      <td>338.000000</td>\n",
       "      <td>469.000000</td>\n",
       "    </tr>\n",
       "    <tr>\n",
       "      <th>mean</th>\n",
       "      <td>3.125000</td>\n",
       "      <td>0.213220</td>\n",
       "      <td>7.895947</td>\n",
       "      <td>6.850296</td>\n",
       "      <td>3.394122</td>\n",
       "      <td>15.042041</td>\n",
       "      <td>2397.784648</td>\n",
       "    </tr>\n",
       "    <tr>\n",
       "      <th>std</th>\n",
       "      <td>1.394302</td>\n",
       "      <td>1.011344</td>\n",
       "      <td>8.532743</td>\n",
       "      <td>7.553696</td>\n",
       "      <td>3.929287</td>\n",
       "      <td>7.721970</td>\n",
       "      <td>427.907673</td>\n",
       "    </tr>\n",
       "    <tr>\n",
       "      <th>min</th>\n",
       "      <td>1.000000</td>\n",
       "      <td>0.000000</td>\n",
       "      <td>0.000000</td>\n",
       "      <td>0.000000</td>\n",
       "      <td>0.170000</td>\n",
       "      <td>1.450000</td>\n",
       "      <td>1968.000000</td>\n",
       "    </tr>\n",
       "    <tr>\n",
       "      <th>25%</th>\n",
       "      <td>2.000000</td>\n",
       "      <td>0.000000</td>\n",
       "      <td>0.000000</td>\n",
       "      <td>0.000000</td>\n",
       "      <td>0.955000</td>\n",
       "      <td>10.347500</td>\n",
       "      <td>2085.000000</td>\n",
       "    </tr>\n",
       "    <tr>\n",
       "      <th>50%</th>\n",
       "      <td>3.000000</td>\n",
       "      <td>0.000000</td>\n",
       "      <td>7.325000</td>\n",
       "      <td>5.940000</td>\n",
       "      <td>1.430000</td>\n",
       "      <td>15.000000</td>\n",
       "      <td>2202.000000</td>\n",
       "    </tr>\n",
       "    <tr>\n",
       "      <th>75%</th>\n",
       "      <td>4.500000</td>\n",
       "      <td>0.000000</td>\n",
       "      <td>14.747500</td>\n",
       "      <td>14.592500</td>\n",
       "      <td>2.925000</td>\n",
       "      <td>16.172500</td>\n",
       "      <td>3018.000000</td>\n",
       "    </tr>\n",
       "    <tr>\n",
       "      <th>max</th>\n",
       "      <td>5.000000</td>\n",
       "      <td>5.000000</td>\n",
       "      <td>44.370000</td>\n",
       "      <td>44.820000</td>\n",
       "      <td>13.050000</td>\n",
       "      <td>56.980000</td>\n",
       "      <td>3135.000000</td>\n",
       "    </tr>\n",
       "    <tr>\n",
       "      <th rowspan=\"8\" valign=\"top\">2016</th>\n",
       "      <th rowspan=\"8\" valign=\"top\">1</th>\n",
       "      <th>count</th>\n",
       "      <td>4.000000</td>\n",
       "      <td>350.000000</td>\n",
       "      <td>252.000000</td>\n",
       "      <td>252.000000</td>\n",
       "      <td>98.000000</td>\n",
       "      <td>252.000000</td>\n",
       "      <td>350.000000</td>\n",
       "    </tr>\n",
       "    <tr>\n",
       "      <th>mean</th>\n",
       "      <td>3.250000</td>\n",
       "      <td>0.042857</td>\n",
       "      <td>8.173333</td>\n",
       "      <td>7.376190</td>\n",
       "      <td>3.876122</td>\n",
       "      <td>15.609127</td>\n",
       "      <td>2641.620000</td>\n",
       "    </tr>\n",
       "    <tr>\n",
       "      <th>std</th>\n",
       "      <td>0.500000</td>\n",
       "      <td>0.461582</td>\n",
       "      <td>7.714639</td>\n",
       "      <td>7.581197</td>\n",
       "      <td>4.438797</td>\n",
       "      <td>5.636536</td>\n",
       "      <td>344.944979</td>\n",
       "    </tr>\n",
       "    <tr>\n",
       "      <th>min</th>\n",
       "      <td>3.000000</td>\n",
       "      <td>0.000000</td>\n",
       "      <td>0.000000</td>\n",
       "      <td>0.000000</td>\n",
       "      <td>0.250000</td>\n",
       "      <td>0.000000</td>\n",
       "      <td>2305.000000</td>\n",
       "    </tr>\n",
       "    <tr>\n",
       "      <th>25%</th>\n",
       "      <td>3.000000</td>\n",
       "      <td>0.000000</td>\n",
       "      <td>0.000000</td>\n",
       "      <td>0.000000</td>\n",
       "      <td>1.090000</td>\n",
       "      <td>13.367500</td>\n",
       "      <td>2392.250000</td>\n",
       "    </tr>\n",
       "    <tr>\n",
       "      <th>50%</th>\n",
       "      <td>3.000000</td>\n",
       "      <td>0.000000</td>\n",
       "      <td>8.540000</td>\n",
       "      <td>7.135000</td>\n",
       "      <td>1.615000</td>\n",
       "      <td>15.000000</td>\n",
       "      <td>2479.500000</td>\n",
       "    </tr>\n",
       "    <tr>\n",
       "      <th>75%</th>\n",
       "      <td>3.250000</td>\n",
       "      <td>0.000000</td>\n",
       "      <td>15.000000</td>\n",
       "      <td>15.000000</td>\n",
       "      <td>3.152500</td>\n",
       "      <td>16.930000</td>\n",
       "      <td>3145.750000</td>\n",
       "    </tr>\n",
       "    <tr>\n",
       "      <th>max</th>\n",
       "      <td>4.000000</td>\n",
       "      <td>5.000000</td>\n",
       "      <td>31.670000</td>\n",
       "      <td>32.420000</td>\n",
       "      <td>13.680000</td>\n",
       "      <td>37.420000</td>\n",
       "      <td>3233.000000</td>\n",
       "    </tr>\n",
       "  </tbody>\n",
       "</table>\n",
       "<p>72 rows × 7 columns</p>\n",
       "</div>"
      ],
      "text/plain": [
       "                     BotAmt     BotFeed    LeftFeed   RightFeed       Sleep  \\\n",
       "Year Month                                                                    \n",
       "2015 5     count   0.000000    1.000000    0.000000    0.000000    0.000000   \n",
       "           mean         NaN    0.000000         NaN         NaN         NaN   \n",
       "           std          NaN         NaN         NaN         NaN         NaN   \n",
       "           min          NaN    0.000000         NaN         NaN         NaN   \n",
       "           25%          NaN    0.000000         NaN         NaN         NaN   \n",
       "           50%          NaN    0.000000         NaN         NaN         NaN   \n",
       "           75%          NaN    0.000000         NaN         NaN         NaN   \n",
       "           max          NaN    0.000000         NaN         NaN         NaN   \n",
       "     6     count   0.000000  187.000000  156.000000  156.000000    3.000000   \n",
       "           mean         NaN    0.000000    9.364038    8.519808    1.423333   \n",
       "           std          NaN    0.000000    9.973710    9.980969    0.499633   \n",
       "           min          NaN    0.000000    0.000000    0.000000    1.120000   \n",
       "           25%          NaN    0.000000    0.000000    0.000000    1.135000   \n",
       "           50%          NaN    0.000000    9.415000    4.150000    1.150000   \n",
       "           75%          NaN    0.000000   16.172500   15.000000    1.575000   \n",
       "           max          NaN    0.000000   40.920000   39.300000    2.000000   \n",
       "     7     count   1.000000  430.000000  428.000000  428.000000    0.000000   \n",
       "           mean    1.500000    0.011628    8.602150    8.753621         NaN   \n",
       "           std          NaN    0.241121    9.180430    9.398947         NaN   \n",
       "           min     1.500000    0.000000    0.000000    0.000000         NaN   \n",
       "           25%     1.500000    0.000000    0.000000    0.000000         NaN   \n",
       "           50%     1.500000    0.000000    8.210000    8.470000         NaN   \n",
       "           75%     1.500000    0.000000   15.000000   15.000000         NaN   \n",
       "           max     1.500000    5.000000   43.950000   44.670000         NaN   \n",
       "     8     count  10.000000  435.000000  385.000000  385.000000   50.000000   \n",
       "           mean    3.300000    0.091954    8.403558    8.602442    1.904800   \n",
       "           std     1.437591    0.672573    8.884587    9.342929    1.113236   \n",
       "           min     1.500000    0.000000    0.000000    0.000000    0.170000   \n",
       "           25%     2.125000    0.000000    0.000000    0.000000    1.055000   \n",
       "           50%     3.000000    0.000000    8.370000    8.370000    1.655000   \n",
       "...                     ...         ...         ...         ...         ...   \n",
       "     10    std     1.213436    0.928861    8.058181    8.604257    3.830923   \n",
       "           min     1.000000    0.000000    0.000000    0.000000    0.250000   \n",
       "           25%     2.500000    0.000000    0.000000    0.000000    1.120000   \n",
       "           50%     3.000000    0.000000    8.000000    7.585000    1.530000   \n",
       "           75%     4.000000    0.000000   15.000000   15.000000    2.730000   \n",
       "           max     6.000000    5.000000   40.170000   42.850000   13.550000   \n",
       "     11    count  13.000000  465.000000  339.000000  339.000000  126.000000   \n",
       "           mean    2.615385    0.139785    7.980206    6.771858    3.249524   \n",
       "           std     0.820413    0.825136    8.731438    8.076575    3.858532   \n",
       "           min     0.500000    0.000000    0.000000    0.000000    0.170000   \n",
       "           25%     2.000000    0.000000    0.000000    0.000000    0.942500   \n",
       "           50%     3.000000    0.000000    7.330000    5.000000    1.515000   \n",
       "           75%     3.000000    0.000000   15.000000   13.150000    2.642500   \n",
       "           max     3.500000    5.000000   42.170000   38.530000   13.520000   \n",
       "     12    count  20.000000  469.000000  338.000000  338.000000  131.000000   \n",
       "           mean    3.125000    0.213220    7.895947    6.850296    3.394122   \n",
       "           std     1.394302    1.011344    8.532743    7.553696    3.929287   \n",
       "           min     1.000000    0.000000    0.000000    0.000000    0.170000   \n",
       "           25%     2.000000    0.000000    0.000000    0.000000    0.955000   \n",
       "           50%     3.000000    0.000000    7.325000    5.940000    1.430000   \n",
       "           75%     4.500000    0.000000   14.747500   14.592500    2.925000   \n",
       "           max     5.000000    5.000000   44.370000   44.820000   13.050000   \n",
       "2016 1     count   4.000000  350.000000  252.000000  252.000000   98.000000   \n",
       "           mean    3.250000    0.042857    8.173333    7.376190    3.876122   \n",
       "           std     0.500000    0.461582    7.714639    7.581197    4.438797   \n",
       "           min     3.000000    0.000000    0.000000    0.000000    0.250000   \n",
       "           25%     3.000000    0.000000    0.000000    0.000000    1.090000   \n",
       "           50%     3.000000    0.000000    8.540000    7.135000    1.615000   \n",
       "           75%     3.250000    0.000000   15.000000   15.000000    3.152500   \n",
       "           max     4.000000    5.000000   31.670000   32.420000   13.680000   \n",
       "\n",
       "                   TotalFeed   Unnamed: 0  \n",
       "Year Month                                 \n",
       "2015 5     count    0.000000     1.000000  \n",
       "           mean          NaN  3234.000000  \n",
       "           std           NaN          NaN  \n",
       "           min           NaN  3234.000000  \n",
       "           25%           NaN  3234.000000  \n",
       "           50%           NaN  3234.000000  \n",
       "           75%           NaN  3234.000000  \n",
       "           max           NaN  3234.000000  \n",
       "     6     count  156.000000   187.000000  \n",
       "           mean    17.883846   592.144385  \n",
       "           std      8.285890  1161.292488  \n",
       "           min      1.300000     0.000000  \n",
       "           25%     12.500000    46.500000  \n",
       "           50%     15.415000    93.000000  \n",
       "           75%     20.762500   139.500000  \n",
       "           max     57.600000  3262.000000  \n",
       "     7     count  428.000000   430.000000  \n",
       "           mean    17.367523   382.960465  \n",
       "           std      8.441029   232.579988  \n",
       "           min      0.330000   156.000000  \n",
       "           25%     12.437500   263.250000  \n",
       "           50%     15.000000   370.500000  \n",
       "           75%     20.000000   477.750000  \n",
       "           max     50.000000  3264.000000  \n",
       "     8     count  385.000000   435.000000  \n",
       "           mean    17.109896   984.218391  \n",
       "           std      8.253539   587.863358  \n",
       "           min      0.000000   584.000000  \n",
       "           25%     13.320000   692.500000  \n",
       "           50%     15.000000   801.000000  \n",
       "...                      ...          ...  \n",
       "     10    std      7.132331   620.948777  \n",
       "           min      0.500000  1293.000000  \n",
       "           25%     11.652500  1411.750000  \n",
       "           50%     15.000000  1530.500000  \n",
       "           75%     19.790000  2760.250000  \n",
       "           max     42.850000  3266.000000  \n",
       "     11    count  339.000000   465.000000  \n",
       "           mean    14.943776  2109.849462  \n",
       "           std      7.202271   515.905526  \n",
       "           min      0.170000  1630.000000  \n",
       "           25%      9.665000  1746.000000  \n",
       "           50%     15.000000  1862.000000  \n",
       "           75%     18.000000  2888.000000  \n",
       "           max     42.170000  3004.000000  \n",
       "     12    count  338.000000   469.000000  \n",
       "           mean    15.042041  2397.784648  \n",
       "           std      7.721970   427.907673  \n",
       "           min      1.450000  1968.000000  \n",
       "           25%     10.347500  2085.000000  \n",
       "           50%     15.000000  2202.000000  \n",
       "           75%     16.172500  3018.000000  \n",
       "           max     56.980000  3135.000000  \n",
       "2016 1     count  252.000000   350.000000  \n",
       "           mean    15.609127  2641.620000  \n",
       "           std      5.636536   344.944979  \n",
       "           min      0.000000  2305.000000  \n",
       "           25%     13.367500  2392.250000  \n",
       "           50%     15.000000  2479.500000  \n",
       "           75%     16.930000  3145.750000  \n",
       "           max     37.420000  3233.000000  \n",
       "\n",
       "[72 rows x 7 columns]"
      ]
     },
     "execution_count": 11,
     "metadata": {},
     "output_type": "execute_result"
    }
   ],
   "source": [
    "monthly.describe()"
   ]
  },
  {
   "cell_type": "markdown",
   "metadata": {},
   "source": [
    "# Monthly Data"
   ]
  },
  {
   "cell_type": "markdown",
   "metadata": {},
   "source": [
    "15 minutes is the placeholder value if the timer was left running (selected as total feeds > 50 min).  These should be removed to give accurate feeding times."
   ]
  },
  {
   "cell_type": "code",
   "execution_count": 142,
   "metadata": {
    "collapsed": false
   },
   "outputs": [],
   "source": [
    "rm15 = df[(df['TotalFeed'] != 15.) & ((df['Month'] >= 6)|(df['Year']==2016))]"
   ]
  },
  {
   "cell_type": "code",
   "execution_count": 143,
   "metadata": {
    "collapsed": true
   },
   "outputs": [],
   "source": [
    "monthly_rm15 = rm15.groupby([df['Year'],df['Month']])"
   ]
  },
  {
   "cell_type": "code",
   "execution_count": 144,
   "metadata": {
    "collapsed": false
   },
   "outputs": [],
   "source": [
    "sqrt = [math.sqrt(x) for x in monthly_rm15['TotalFeed'].count()]"
   ]
  },
  {
   "cell_type": "code",
   "execution_count": 147,
   "metadata": {
    "collapsed": false
   },
   "outputs": [
    {
     "data": {
      "text/plain": [
       "<matplotlib.text.Text at 0x12add47b8>"
      ]
     },
     "execution_count": 147,
     "metadata": {},
     "output_type": "execute_result"
    },
    {
     "data": {
      "image/png": "[encoded data removed]",
      "text/plain": [
       "<matplotlib.figure.Figure at 0x12ad96b70>"
      ]
     },
     "metadata": {},
     "output_type": "display_data"
    }
   ],
   "source": [
    "err = monthly_rm15['TotalFeed'].std()/sqrt\n",
    "monthly_rm15['TotalFeed'].mean().plot(kind='bar',color='b',alpha=0.3,yerr=err)\n",
    "plt.title('Average Length of Feeding (minutes)')"
   ]
  },
  {
   "cell_type": "code",
   "execution_count": 355,
   "metadata": {
    "collapsed": false
   },
   "outputs": [],
   "source": [
    "date = [x.strftime('%Y %m %d') for x in df['time']]"
   ]
  },
  {
   "cell_type": "code",
   "execution_count": 356,
   "metadata": {
    "collapsed": true
   },
   "outputs": [],
   "source": [
    "df['Date'] = date"
   ]
  },
  {
   "cell_type": "code",
   "execution_count": 357,
   "metadata": {
    "collapsed": false
   },
   "outputs": [
    {
     "data": {
      "text/html": [
       "<div>\n",
       "<table border=\"1\" class=\"dataframe\">\n",
       "  <thead>\n",
       "    <tr style=\"text-align: right;\">\n",
       "      <th></th>\n",
       "      <th>Unnamed: 0</th>\n",
       "      <th>time</th>\n",
       "      <th>Year</th>\n",
       "      <th>Month</th>\n",
       "      <th>TimeofDay</th>\n",
       "      <th>LeftFeed</th>\n",
       "      <th>RightFeed</th>\n",
       "      <th>BotFeed</th>\n",
       "      <th>TotalFeed</th>\n",
       "      <th>BotAmt</th>\n",
       "      <th>Sleep</th>\n",
       "      <th>Date</th>\n",
       "    </tr>\n",
       "  </thead>\n",
       "  <tbody>\n",
       "    <tr>\n",
       "      <th>0</th>\n",
       "      <td>0</td>\n",
       "      <td>2015-06-21 01:17:09</td>\n",
       "      <td>2015</td>\n",
       "      <td>6</td>\n",
       "      <td>Late night</td>\n",
       "      <td>0.00</td>\n",
       "      <td>1.3</td>\n",
       "      <td>0</td>\n",
       "      <td>1.30</td>\n",
       "      <td>NaN</td>\n",
       "      <td>NaN</td>\n",
       "      <td>2015 06 21</td>\n",
       "    </tr>\n",
       "    <tr>\n",
       "      <th>1</th>\n",
       "      <td>1</td>\n",
       "      <td>2015-06-21 02:00:39</td>\n",
       "      <td>2015</td>\n",
       "      <td>6</td>\n",
       "      <td>Late night</td>\n",
       "      <td>7.52</td>\n",
       "      <td>0.0</td>\n",
       "      <td>0</td>\n",
       "      <td>7.52</td>\n",
       "      <td>NaN</td>\n",
       "      <td>NaN</td>\n",
       "      <td>2015 06 21</td>\n",
       "    </tr>\n",
       "    <tr>\n",
       "      <th>2</th>\n",
       "      <td>2</td>\n",
       "      <td>2015-06-21 02:37:57</td>\n",
       "      <td>2015</td>\n",
       "      <td>6</td>\n",
       "      <td>Late night</td>\n",
       "      <td>14.50</td>\n",
       "      <td>0.0</td>\n",
       "      <td>0</td>\n",
       "      <td>14.50</td>\n",
       "      <td>NaN</td>\n",
       "      <td>NaN</td>\n",
       "      <td>2015 06 21</td>\n",
       "    </tr>\n",
       "    <tr>\n",
       "      <th>3</th>\n",
       "      <td>3</td>\n",
       "      <td>2015-06-21 05:23:55</td>\n",
       "      <td>2015</td>\n",
       "      <td>6</td>\n",
       "      <td>Late night</td>\n",
       "      <td>0.00</td>\n",
       "      <td>20.0</td>\n",
       "      <td>0</td>\n",
       "      <td>20.00</td>\n",
       "      <td>NaN</td>\n",
       "      <td>NaN</td>\n",
       "      <td>2015 06 21</td>\n",
       "    </tr>\n",
       "    <tr>\n",
       "      <th>4</th>\n",
       "      <td>4</td>\n",
       "      <td>2015-06-21 05:47:59</td>\n",
       "      <td>2015</td>\n",
       "      <td>6</td>\n",
       "      <td>Late night</td>\n",
       "      <td>22.18</td>\n",
       "      <td>0.0</td>\n",
       "      <td>0</td>\n",
       "      <td>22.18</td>\n",
       "      <td>NaN</td>\n",
       "      <td>NaN</td>\n",
       "      <td>2015 06 21</td>\n",
       "    </tr>\n",
       "  </tbody>\n",
       "</table>\n",
       "</div>"
      ],
      "text/plain": [
       "   Unnamed: 0                time  Year  Month   TimeofDay  LeftFeed  \\\n",
       "0           0 2015-06-21 01:17:09  2015      6  Late night      0.00   \n",
       "1           1 2015-06-21 02:00:39  2015      6  Late night      7.52   \n",
       "2           2 2015-06-21 02:37:57  2015      6  Late night     14.50   \n",
       "3           3 2015-06-21 05:23:55  2015      6  Late night      0.00   \n",
       "4           4 2015-06-21 05:47:59  2015      6  Late night     22.18   \n",
       "\n",
       "   RightFeed  BotFeed  TotalFeed  BotAmt  Sleep        Date  \n",
       "0        1.3        0       1.30     NaN    NaN  2015 06 21  \n",
       "1        0.0        0       7.52     NaN    NaN  2015 06 21  \n",
       "2        0.0        0      14.50     NaN    NaN  2015 06 21  \n",
       "3       20.0        0      20.00     NaN    NaN  2015 06 21  \n",
       "4        0.0        0      22.18     NaN    NaN  2015 06 21  "
      ]
     },
     "execution_count": 357,
     "metadata": {},
     "output_type": "execute_result"
    }
   ],
   "source": [
    "df[:5]"
   ]
  },
  {
   "cell_type": "code",
   "execution_count": 358,
   "metadata": {
    "collapsed": true
   },
   "outputs": [],
   "source": [
    "eat = df[df['TotalFeed'].notnull()]"
   ]
  },
  {
   "cell_type": "code",
   "execution_count": 359,
   "metadata": {
    "collapsed": false
   },
   "outputs": [],
   "source": [
    "bydate = eat.groupby(eat['Date'])"
   ]
  },
  {
   "cell_type": "code",
   "execution_count": 360,
   "metadata": {
    "collapsed": false
   },
   "outputs": [],
   "source": [
    "bydun = bydate.sum().unstack()"
   ]
  },
  {
   "cell_type": "code",
   "execution_count": 363,
   "metadata": {
    "collapsed": false
   },
   "outputs": [],
   "source": [
    "x = [datetime.strptime(d,'%Y %m %d').date() for d in bydun['TotalFeed'].index]\n",
    "xnum = mdates.date2num(x)"
   ]
  },
  {
   "cell_type": "code",
   "execution_count": 376,
   "metadata": {
    "collapsed": true
   },
   "outputs": [],
   "source": [
    "z4 = np.polyfit(xnum,bydun['TotalFeed'],2)\n",
    "p4 = np.poly1d(z4)"
   ]
  },
  {
   "cell_type": "code",
   "execution_count": 378,
   "metadata": {
    "collapsed": false,
    "scrolled": true
   },
   "outputs": [],
   "source": [
    "years = mdates.YearLocator()\n",
    "months = mdates.MonthLocator()\n",
    "moFmt = mdates.DateFormatter('%m')"
   ]
  },
  {
   "cell_type": "code",
   "execution_count": 379,
   "metadata": {
    "collapsed": true
   },
   "outputs": [],
   "source": [
    "xx = np.linspace(xnum.min(), xnum.max(), len(xnum))\n",
    "dd = mdates.num2date(xx)"
   ]
  },
  {
   "cell_type": "code",
   "execution_count": 381,
   "metadata": {
    "collapsed": false
   },
   "outputs": [
    {
     "data": {
      "image/png": "[encoded data removed]",
      "text/plain": [
       "<matplotlib.figure.Figure at 0x12dc515c0>"
      ]
     },
     "metadata": {},
     "output_type": "display_data"
    }
   ],
   "source": [
    "fig = plt.figure(figsize=(12,9))\n",
    "ax = fig.add_subplot(111)\n",
    "\n",
    "ax.plot(xnum,bydun['TotalFeed']) #plot data\n",
    "plt.plot(dd, p4(xx), '-g') #plot fit\n",
    "\n",
    "ax.set_title('Total Time Eating per Day')\n",
    "ax.set_xlabel('Date',fontsize='large')\n",
    "ax.set_ylabel('Time Eating (minutes)',fontsize='large')\n",
    "plt.xlim(datetime(2015,6,18),datetime(2016,2,1))\n",
    "fig.autofmt_xdate()\n",
    "plt.show()"
   ]
  },
  {
   "cell_type": "code",
   "execution_count": null,
   "metadata": {
    "collapsed": true
   },
   "outputs": [],
   "source": []
  },
  {
   "cell_type": "code",
   "execution_count": null,
   "metadata": {
    "collapsed": true
   },
   "outputs": [],
   "source": []
  },
  {
   "cell_type": "code",
   "execution_count": null,
   "metadata": {
    "collapsed": true
   },
   "outputs": [],
   "source": []
  },
  {
   "cell_type": "code",
   "execution_count": null,
   "metadata": {
    "collapsed": true
   },
   "outputs": [],
   "source": []
  },
  {
   "cell_type": "code",
   "execution_count": 96,
   "metadata": {
    "collapsed": false
   },
   "outputs": [],
   "source": [
    "daytime = df[df['TotalFeed'].notnull()].groupby(\"TimeofDay\")"
   ]
  },
  {
   "cell_type": "code",
   "execution_count": 100,
   "metadata": {
    "collapsed": true
   },
   "outputs": [],
   "source": [
    "eat = df[df['TotalFeed'].notnull()]"
   ]
  },
  {
   "cell_type": "code",
   "execution_count": 101,
   "metadata": {
    "collapsed": false
   },
   "outputs": [],
   "source": [
    "data = pd.Series(eat['TimeofDay'])#, index = ['Morning','Afternoon','Evening','Late Night'])"
   ]
  },
  {
   "cell_type": "code",
   "execution_count": 111,
   "metadata": {
    "collapsed": false
   },
   "outputs": [
    {
     "data": {
      "text/plain": [
       "Late night    733\n",
       "Morning       660\n",
       "Afternoon     613\n",
       "Evening       554\n",
       "Name: TimeofDay, dtype: int64"
      ]
     },
     "execution_count": 111,
     "metadata": {},
     "output_type": "execute_result"
    }
   ],
   "source": [
    "data.value_counts()"
   ]
  },
  {
   "cell_type": "code",
   "execution_count": 121,
   "metadata": {
    "collapsed": false
   },
   "outputs": [
    {
     "data": {
      "text/plain": [
       "<matplotlib.axes._subplots.AxesSubplot at 0x12a540f98>"
      ]
     },
     "execution_count": 121,
     "metadata": {},
     "output_type": "execute_result"
    },
    {
     "data": {
      "image/png": "[encoded data removed]",
      "text/plain": [
       "<matplotlib.figure.Figure at 0x12a540d68>"
      ]
     },
     "metadata": {},
     "output_type": "display_data"
    }
   ],
   "source": [
    "fig = plt.figure(figsize=(4,3))\n",
    "ax = fig.add_subplot(111)\n",
    "ax.set_xlim([0,800])\n",
    "data.value_counts().ix[['Late night','Evening','Afternoon','Morning']].plot(kind='barh',ax = ax)"
   ]
  },
  {
   "cell_type": "code",
   "execution_count": null,
   "metadata": {
    "collapsed": false
   },
   "outputs": [],
   "source": [
    "timelen = pd.cut(df['Total Feed'], 5)"
   ]
  },
  {
   "cell_type": "code",
   "execution_count": null,
   "metadata": {
    "collapsed": false
   },
   "outputs": [],
   "source": [
    "timelen[:5]"
   ]
  },
  {
   "cell_type": "code",
   "execution_count": null,
   "metadata": {
    "collapsed": false
   },
   "outputs": [],
   "source": [
    "feedtime = pd.crosstab(df['Time of Day'],timelen)"
   ]
  },
  {
   "cell_type": "code",
   "execution_count": null,
   "metadata": {
    "collapsed": false
   },
   "outputs": [],
   "source": [
    "feedtime"
   ]
  },
  {
   "cell_type": "code",
   "execution_count": null,
   "metadata": {
    "collapsed": false
   },
   "outputs": [],
   "source": [
    "feedtime.plot(kind='barh', stacked = True)\n",
    "plt.legend(loc='best')"
   ]
  },
  {
   "cell_type": "code",
   "execution_count": null,
   "metadata": {
    "collapsed": false
   },
   "outputs": [],
   "source": [
    "df[:8]"
   ]
  },
  {
   "cell_type": "code",
   "execution_count": null,
   "metadata": {
    "collapsed": false
   },
   "outputs": [],
   "source": [
    "feeddf = pd.DataFrame({'time':df.time,'leftfeed':df.leftfeed,\n",
    "                       'rightfeed':df.rightfeed, 'botfeed': bottime,\n",
    "                       'totfeed':df['Total Feed'], 'month':df.Month,\n",
    "                       'ToD':df['Time of Day'], 'year':df.Year})"
   ]
  },
  {
   "cell_type": "code",
   "execution_count": null,
   "metadata": {
    "collapsed": false
   },
   "outputs": [],
   "source": [
    "feeddf = pd.DataFrame(df, columns=['time','Year','Month','Time of Day','leftfeed','rightfeed','Total Feed'])"
   ]
  },
  {
   "cell_type": "code",
   "execution_count": null,
   "metadata": {
    "collapsed": false
   },
   "outputs": [],
   "source": [
    "feeddf[1010:1020]"
   ]
  },
  {
   "cell_type": "code",
   "execution_count": null,
   "metadata": {
    "collapsed": false
   },
   "outputs": [],
   "source": [
    "feeddf.insert(6,'botfeed',bottime)"
   ]
  },
  {
   "cell_type": "code",
   "execution_count": null,
   "metadata": {
    "collapsed": false
   },
   "outputs": [],
   "source": [
    "ordered = feeddf.sort_values('time')"
   ]
  },
  {
   "cell_type": "code",
   "execution_count": null,
   "metadata": {
    "collapsed": false
   },
   "outputs": [],
   "source": [
    "ordered[1010:1020]"
   ]
  },
  {
   "cell_type": "code",
   "execution_count": null,
   "metadata": {
    "collapsed": false
   },
   "outputs": [],
   "source": [
    "del feeddf['botfeed']"
   ]
  },
  {
   "cell_type": "code",
   "execution_count": null,
   "metadata": {
    "collapsed": false
   },
   "outputs": [],
   "source": [
    "df.solid.value_counts()"
   ]
  },
  {
   "cell_type": "code",
   "execution_count": null,
   "metadata": {
    "collapsed": false,
    "scrolled": true
   },
   "outputs": [],
   "source": [
    "df['Bottle Amount'][2000:2012]"
   ]
  },
  {
   "cell_type": "code",
   "execution_count": null,
   "metadata": {
    "collapsed": true
   },
   "outputs": [],
   "source": [
    "botamt = []\n",
    "for amt in df['Bottle Amount']:\n",
    "    if 'oz' not in amt:\n",
    "        newamt = float('NaN')\n",
    "    else:\n",
    "        newamt = amt.strip().replace('oz','')\n",
    "    botamt.append(newamt)"
   ]
  },
  {
   "cell_type": "code",
   "execution_count": null,
   "metadata": {
    "collapsed": false
   },
   "outputs": [],
   "source": [
    "df['Sleep time'][3000].split(':')"
   ]
  },
  {
   "cell_type": "code",
   "execution_count": null,
   "metadata": {
    "collapsed": false
   },
   "outputs": [],
   "source": [
    "df['Sleep time'][3000:3020]"
   ]
  },
  {
   "cell_type": "code",
   "execution_count": null,
   "metadata": {
    "collapsed": false
   },
   "outputs": [],
   "source": [
    "hms = df['Sleep time']"
   ]
  },
  {
   "cell_type": "code",
   "execution_count": null,
   "metadata": {
    "collapsed": false
   },
   "outputs": [],
   "source": [
    "    hrlist = []\n",
    "    for value in hms:\n",
    "        if str(value) == 'nan':\n",
    "            hours = float(value)\n",
    "        elif str(value) ==' ':\n",
    "            hours = float('Nan')\n",
    "        else:\n",
    "            valspl = str(value).split(':')\n",
    "            if int(valspl[2]) < 10:\n",
    "                valspl[2] = valspl[2] + '0'\n",
    "            hours = float(valspl[0]) + float(valspl[1])/60. + float(valspl[2])/60.\n",
    "        hrlist.append(hours)\n",
    "    hrarr = np.array(hrlist)\n"
   ]
  },
  {
   "cell_type": "code",
   "execution_count": null,
   "metadata": {
    "collapsed": false
   },
   "outputs": [],
   "source": [
    "hms[2557]"
   ]
  },
  {
   "cell_type": "code",
   "execution_count": null,
   "metadata": {
    "collapsed": false
   },
   "outputs": [],
   "source": [
    "str(hms[2510]) == 'nan'"
   ]
  },
  {
   "cell_type": "code",
   "execution_count": null,
   "metadata": {
    "collapsed": false
   },
   "outputs": [],
   "source": [
    "if hms[0] == float('NaN'):\n",
    "    print('yay')"
   ]
  },
  {
   "cell_type": "code",
   "execution_count": null,
   "metadata": {
    "collapsed": true
   },
   "outputs": [],
   "source": []
  }
 ],
 "metadata": {
  "kernelspec": {
   "display_name": "Python 3",
   "language": "python",
   "name": "python3"
  },
  "language_info": {
   "codemirror_mode": {
    "name": "ipython",
    "version": 3
   },
   "file_extension": ".py",
   "mimetype": "text/x-python",
   "name": "python",
   "nbconvert_exporter": "python",
   "pygments_lexer": "ipython3",
   "version": "3.5.1"
  }
 },
 "nbformat": 4,
 "nbformat_minor": 0
}
